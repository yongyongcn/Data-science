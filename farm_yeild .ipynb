{
 "cells": [
  {
   "cell_type": "code",
   "execution_count": 1,
   "metadata": {},
   "outputs": [],
   "source": [
    "import numpy as np\n",
    "import pandas as pd\n",
    "import matplotlib.pyplot as plt\n",
    "import seaborn as sns\n",
    "from sklearn.model_selection import train_test_split\n",
    "from scipy import stats\n",
    "from pandas.api.types import is_numeric_dtype\n",
    "%matplotlib inline\n",
    "sns.set()"
   ]
  },
  {
   "cell_type": "code",
   "execution_count": 68,
   "metadata": {},
   "outputs": [
    {
     "data": {
      "text/html": [
       "<div>\n",
       "<style scoped>\n",
       "    .dataframe tbody tr th:only-of-type {\n",
       "        vertical-align: middle;\n",
       "    }\n",
       "\n",
       "    .dataframe tbody tr th {\n",
       "        vertical-align: top;\n",
       "    }\n",
       "\n",
       "    .dataframe thead th {\n",
       "        text-align: right;\n",
       "    }\n",
       "</style>\n",
       "<table border=\"1\" class=\"dataframe\">\n",
       "  <thead>\n",
       "    <tr style=\"text-align: right;\">\n",
       "      <th></th>\n",
       "      <th>id</th>\n",
       "      <th>water</th>\n",
       "      <th>uv</th>\n",
       "      <th>area</th>\n",
       "      <th>fertilizer_usage</th>\n",
       "      <th>yield</th>\n",
       "      <th>pesticides</th>\n",
       "      <th>region</th>\n",
       "      <th>categories</th>\n",
       "    </tr>\n",
       "  </thead>\n",
       "  <tbody>\n",
       "    <tr>\n",
       "      <th>0</th>\n",
       "      <td>169</td>\n",
       "      <td>5.615</td>\n",
       "      <td>65.281</td>\n",
       "      <td>3.230</td>\n",
       "      <td>0</td>\n",
       "      <td>7.977</td>\n",
       "      <td>8.969</td>\n",
       "      <td>0</td>\n",
       "      <td>b,a,c</td>\n",
       "    </tr>\n",
       "    <tr>\n",
       "      <th>1</th>\n",
       "      <td>476</td>\n",
       "      <td>7.044</td>\n",
       "      <td>73.319</td>\n",
       "      <td>9.081</td>\n",
       "      <td>0</td>\n",
       "      <td>23.009</td>\n",
       "      <td>7.197</td>\n",
       "      <td>0</td>\n",
       "      <td>c,a,d</td>\n",
       "    </tr>\n",
       "    <tr>\n",
       "      <th>2</th>\n",
       "      <td>152</td>\n",
       "      <td>5.607</td>\n",
       "      <td>60.038</td>\n",
       "      <td>2.864</td>\n",
       "      <td>2</td>\n",
       "      <td>23.019</td>\n",
       "      <td>7.424</td>\n",
       "      <td>0</td>\n",
       "      <td>d,a</td>\n",
       "    </tr>\n",
       "    <tr>\n",
       "      <th>3</th>\n",
       "      <td>293</td>\n",
       "      <td>9.346</td>\n",
       "      <td>64.719</td>\n",
       "      <td>2.797</td>\n",
       "      <td>2</td>\n",
       "      <td>28.066</td>\n",
       "      <td>1.256</td>\n",
       "      <td>0</td>\n",
       "      <td>d</td>\n",
       "    </tr>\n",
       "    <tr>\n",
       "      <th>4</th>\n",
       "      <td>10</td>\n",
       "      <td>7.969</td>\n",
       "      <td>NaN</td>\n",
       "      <td>5.407</td>\n",
       "      <td>1</td>\n",
       "      <td>29.140</td>\n",
       "      <td>0.274</td>\n",
       "      <td>0</td>\n",
       "      <td>c,d</td>\n",
       "    </tr>\n",
       "  </tbody>\n",
       "</table>\n",
       "</div>"
      ],
      "text/plain": [
       "    id  water      uv   area  fertilizer_usage   yield  pesticides  region  \\\n",
       "0  169  5.615  65.281  3.230                 0   7.977       8.969       0   \n",
       "1  476  7.044  73.319  9.081                 0  23.009       7.197       0   \n",
       "2  152  5.607  60.038  2.864                 2  23.019       7.424       0   \n",
       "3  293  9.346  64.719  2.797                 2  28.066       1.256       0   \n",
       "4   10  7.969     NaN  5.407                 1  29.140       0.274       0   \n",
       "\n",
       "  categories  \n",
       "0      b,a,c  \n",
       "1      c,a,d  \n",
       "2        d,a  \n",
       "3          d  \n",
       "4        c,d  "
      ]
     },
     "execution_count": 68,
     "metadata": {},
     "output_type": "execute_result"
    }
   ],
   "source": [
    "df = pd.read_csv('./dataset.csv')\n",
    "df.head()"
   ]
  },
  {
   "cell_type": "code",
   "execution_count": 69,
   "metadata": {},
   "outputs": [
    {
     "data": {
      "text/html": [
       "<div>\n",
       "<style scoped>\n",
       "    .dataframe tbody tr th:only-of-type {\n",
       "        vertical-align: middle;\n",
       "    }\n",
       "\n",
       "    .dataframe tbody tr th {\n",
       "        vertical-align: top;\n",
       "    }\n",
       "\n",
       "    .dataframe thead th {\n",
       "        text-align: right;\n",
       "    }\n",
       "</style>\n",
       "<table border=\"1\" class=\"dataframe\">\n",
       "  <thead>\n",
       "    <tr style=\"text-align: right;\">\n",
       "      <th></th>\n",
       "      <th>id</th>\n",
       "      <th>water</th>\n",
       "      <th>uv</th>\n",
       "      <th>area</th>\n",
       "      <th>fertilizer_usage</th>\n",
       "      <th>yield</th>\n",
       "      <th>pesticides</th>\n",
       "      <th>region</th>\n",
       "    </tr>\n",
       "  </thead>\n",
       "  <tbody>\n",
       "    <tr>\n",
       "      <th>count</th>\n",
       "      <td>1000.000000</td>\n",
       "      <td>958.000000</td>\n",
       "      <td>949.000000</td>\n",
       "      <td>1000.000000</td>\n",
       "      <td>1000.00000</td>\n",
       "      <td>1000.000000</td>\n",
       "      <td>1000.000000</td>\n",
       "      <td>1000.000000</td>\n",
       "    </tr>\n",
       "    <tr>\n",
       "      <th>mean</th>\n",
       "      <td>499.500000</td>\n",
       "      <td>12.223546</td>\n",
       "      <td>73.957488</td>\n",
       "      <td>8.098848</td>\n",
       "      <td>2.12300</td>\n",
       "      <td>58.758571</td>\n",
       "      <td>3.452301</td>\n",
       "      <td>3.039000</td>\n",
       "    </tr>\n",
       "    <tr>\n",
       "      <th>std</th>\n",
       "      <td>288.819436</td>\n",
       "      <td>172.335566</td>\n",
       "      <td>9.904063</td>\n",
       "      <td>2.692632</td>\n",
       "      <td>1.52256</td>\n",
       "      <td>24.563683</td>\n",
       "      <td>2.076921</td>\n",
       "      <td>1.883886</td>\n",
       "    </tr>\n",
       "    <tr>\n",
       "      <th>min</th>\n",
       "      <td>0.000000</td>\n",
       "      <td>0.072000</td>\n",
       "      <td>45.264000</td>\n",
       "      <td>0.263000</td>\n",
       "      <td>0.00000</td>\n",
       "      <td>2.843000</td>\n",
       "      <td>0.014000</td>\n",
       "      <td>0.000000</td>\n",
       "    </tr>\n",
       "    <tr>\n",
       "      <th>25%</th>\n",
       "      <td>249.750000</td>\n",
       "      <td>4.584750</td>\n",
       "      <td>66.502000</td>\n",
       "      <td>6.297000</td>\n",
       "      <td>1.00000</td>\n",
       "      <td>40.698000</td>\n",
       "      <td>1.804500</td>\n",
       "      <td>2.000000</td>\n",
       "    </tr>\n",
       "    <tr>\n",
       "      <th>50%</th>\n",
       "      <td>499.500000</td>\n",
       "      <td>6.476000</td>\n",
       "      <td>73.689000</td>\n",
       "      <td>7.987500</td>\n",
       "      <td>2.00000</td>\n",
       "      <td>55.602500</td>\n",
       "      <td>3.275500</td>\n",
       "      <td>2.000000</td>\n",
       "    </tr>\n",
       "    <tr>\n",
       "      <th>75%</th>\n",
       "      <td>749.250000</td>\n",
       "      <td>8.758750</td>\n",
       "      <td>80.554000</td>\n",
       "      <td>9.900250</td>\n",
       "      <td>3.00000</td>\n",
       "      <td>73.645500</td>\n",
       "      <td>4.916000</td>\n",
       "      <td>5.000000</td>\n",
       "    </tr>\n",
       "    <tr>\n",
       "      <th>max</th>\n",
       "      <td>999.000000</td>\n",
       "      <td>5340.000000</td>\n",
       "      <td>106.310000</td>\n",
       "      <td>18.311000</td>\n",
       "      <td>5.00000</td>\n",
       "      <td>148.845000</td>\n",
       "      <td>9.532000</td>\n",
       "      <td>6.000000</td>\n",
       "    </tr>\n",
       "  </tbody>\n",
       "</table>\n",
       "</div>"
      ],
      "text/plain": [
       "                id        water          uv         area  fertilizer_usage  \\\n",
       "count  1000.000000   958.000000  949.000000  1000.000000        1000.00000   \n",
       "mean    499.500000    12.223546   73.957488     8.098848           2.12300   \n",
       "std     288.819436   172.335566    9.904063     2.692632           1.52256   \n",
       "min       0.000000     0.072000   45.264000     0.263000           0.00000   \n",
       "25%     249.750000     4.584750   66.502000     6.297000           1.00000   \n",
       "50%     499.500000     6.476000   73.689000     7.987500           2.00000   \n",
       "75%     749.250000     8.758750   80.554000     9.900250           3.00000   \n",
       "max     999.000000  5340.000000  106.310000    18.311000           5.00000   \n",
       "\n",
       "             yield   pesticides       region  \n",
       "count  1000.000000  1000.000000  1000.000000  \n",
       "mean     58.758571     3.452301     3.039000  \n",
       "std      24.563683     2.076921     1.883886  \n",
       "min       2.843000     0.014000     0.000000  \n",
       "25%      40.698000     1.804500     2.000000  \n",
       "50%      55.602500     3.275500     2.000000  \n",
       "75%      73.645500     4.916000     5.000000  \n",
       "max     148.845000     9.532000     6.000000  "
      ]
     },
     "execution_count": 69,
     "metadata": {},
     "output_type": "execute_result"
    }
   ],
   "source": [
    "df.describe()"
   ]
  },
  {
   "cell_type": "code",
   "execution_count": 70,
   "metadata": {},
   "outputs": [
    {
     "data": {
      "text/plain": [
       "id                   0\n",
       "water               42\n",
       "uv                  51\n",
       "area                 0\n",
       "fertilizer_usage     0\n",
       "yield                0\n",
       "pesticides           0\n",
       "region               0\n",
       "categories           0\n",
       "dtype: int64"
      ]
     },
     "execution_count": 70,
     "metadata": {},
     "output_type": "execute_result"
    }
   ],
   "source": [
    "df.isnull().sum()"
   ]
  },
  {
   "cell_type": "markdown",
   "metadata": {},
   "source": [
    "# 2. Data Exploration"
   ]
  },
  {
   "cell_type": "markdown",
   "metadata": {},
   "source": [
    "# add new column\n"
   ]
  },
  {
   "cell_type": "code",
   "execution_count": 71,
   "metadata": {},
   "outputs": [
    {
     "data": {
      "text/html": [
       "<div>\n",
       "<style scoped>\n",
       "    .dataframe tbody tr th:only-of-type {\n",
       "        vertical-align: middle;\n",
       "    }\n",
       "\n",
       "    .dataframe tbody tr th {\n",
       "        vertical-align: top;\n",
       "    }\n",
       "\n",
       "    .dataframe thead th {\n",
       "        text-align: right;\n",
       "    }\n",
       "</style>\n",
       "<table border=\"1\" class=\"dataframe\">\n",
       "  <thead>\n",
       "    <tr style=\"text-align: right;\">\n",
       "      <th></th>\n",
       "      <th>id</th>\n",
       "      <th>water</th>\n",
       "      <th>uv</th>\n",
       "      <th>area</th>\n",
       "      <th>fertilizer_usage</th>\n",
       "      <th>yield</th>\n",
       "      <th>pesticides</th>\n",
       "      <th>region</th>\n",
       "      <th>categories</th>\n",
       "      <th>yield_by_hec</th>\n",
       "    </tr>\n",
       "  </thead>\n",
       "  <tbody>\n",
       "    <tr>\n",
       "      <th>0</th>\n",
       "      <td>169</td>\n",
       "      <td>5.615</td>\n",
       "      <td>65.281</td>\n",
       "      <td>3.230</td>\n",
       "      <td>0</td>\n",
       "      <td>7.977</td>\n",
       "      <td>8.969</td>\n",
       "      <td>0</td>\n",
       "      <td>b,a,c</td>\n",
       "      <td>2.469659</td>\n",
       "    </tr>\n",
       "    <tr>\n",
       "      <th>1</th>\n",
       "      <td>476</td>\n",
       "      <td>7.044</td>\n",
       "      <td>73.319</td>\n",
       "      <td>9.081</td>\n",
       "      <td>0</td>\n",
       "      <td>23.009</td>\n",
       "      <td>7.197</td>\n",
       "      <td>0</td>\n",
       "      <td>c,a,d</td>\n",
       "      <td>2.533752</td>\n",
       "    </tr>\n",
       "    <tr>\n",
       "      <th>2</th>\n",
       "      <td>152</td>\n",
       "      <td>5.607</td>\n",
       "      <td>60.038</td>\n",
       "      <td>2.864</td>\n",
       "      <td>2</td>\n",
       "      <td>23.019</td>\n",
       "      <td>7.424</td>\n",
       "      <td>0</td>\n",
       "      <td>d,a</td>\n",
       "      <td>8.037360</td>\n",
       "    </tr>\n",
       "    <tr>\n",
       "      <th>3</th>\n",
       "      <td>293</td>\n",
       "      <td>9.346</td>\n",
       "      <td>64.719</td>\n",
       "      <td>2.797</td>\n",
       "      <td>2</td>\n",
       "      <td>28.066</td>\n",
       "      <td>1.256</td>\n",
       "      <td>0</td>\n",
       "      <td>d</td>\n",
       "      <td>10.034322</td>\n",
       "    </tr>\n",
       "    <tr>\n",
       "      <th>4</th>\n",
       "      <td>10</td>\n",
       "      <td>7.969</td>\n",
       "      <td>NaN</td>\n",
       "      <td>5.407</td>\n",
       "      <td>1</td>\n",
       "      <td>29.140</td>\n",
       "      <td>0.274</td>\n",
       "      <td>0</td>\n",
       "      <td>c,d</td>\n",
       "      <td>5.389310</td>\n",
       "    </tr>\n",
       "  </tbody>\n",
       "</table>\n",
       "</div>"
      ],
      "text/plain": [
       "    id  water      uv   area  fertilizer_usage   yield  pesticides  region  \\\n",
       "0  169  5.615  65.281  3.230                 0   7.977       8.969       0   \n",
       "1  476  7.044  73.319  9.081                 0  23.009       7.197       0   \n",
       "2  152  5.607  60.038  2.864                 2  23.019       7.424       0   \n",
       "3  293  9.346  64.719  2.797                 2  28.066       1.256       0   \n",
       "4   10  7.969     NaN  5.407                 1  29.140       0.274       0   \n",
       "\n",
       "  categories  yield_by_hec  \n",
       "0      b,a,c      2.469659  \n",
       "1      c,a,d      2.533752  \n",
       "2        d,a      8.037360  \n",
       "3          d     10.034322  \n",
       "4        c,d      5.389310  "
      ]
     },
     "execution_count": 71,
     "metadata": {},
     "output_type": "execute_result"
    }
   ],
   "source": [
    "df['yield_by_hec'] = df['yield']/df['area']\n",
    "df.head()"
   ]
  },
  {
   "cell_type": "code",
   "execution_count": 72,
   "metadata": {},
   "outputs": [
    {
     "data": {
      "text/html": [
       "<div>\n",
       "<style scoped>\n",
       "    .dataframe tbody tr th:only-of-type {\n",
       "        vertical-align: middle;\n",
       "    }\n",
       "\n",
       "    .dataframe tbody tr th {\n",
       "        vertical-align: top;\n",
       "    }\n",
       "\n",
       "    .dataframe thead th {\n",
       "        text-align: right;\n",
       "    }\n",
       "</style>\n",
       "<table border=\"1\" class=\"dataframe\">\n",
       "  <thead>\n",
       "    <tr style=\"text-align: right;\">\n",
       "      <th></th>\n",
       "      <th>id</th>\n",
       "      <th>water</th>\n",
       "      <th>uv</th>\n",
       "      <th>area</th>\n",
       "      <th>fertilizer_usage</th>\n",
       "      <th>yield</th>\n",
       "      <th>pesticides</th>\n",
       "      <th>region</th>\n",
       "      <th>yield_by_hec</th>\n",
       "    </tr>\n",
       "  </thead>\n",
       "  <tbody>\n",
       "    <tr>\n",
       "      <th>id</th>\n",
       "      <td>1.000000</td>\n",
       "      <td>0.010670</td>\n",
       "      <td>-0.004991</td>\n",
       "      <td>-0.035514</td>\n",
       "      <td>-0.013106</td>\n",
       "      <td>-0.005227</td>\n",
       "      <td>-0.002752</td>\n",
       "      <td>-0.050065</td>\n",
       "      <td>0.014571</td>\n",
       "    </tr>\n",
       "    <tr>\n",
       "      <th>water</th>\n",
       "      <td>0.010670</td>\n",
       "      <td>1.000000</td>\n",
       "      <td>0.057165</td>\n",
       "      <td>0.000931</td>\n",
       "      <td>0.003234</td>\n",
       "      <td>0.015254</td>\n",
       "      <td>-0.008337</td>\n",
       "      <td>-0.052542</td>\n",
       "      <td>0.012175</td>\n",
       "    </tr>\n",
       "    <tr>\n",
       "      <th>uv</th>\n",
       "      <td>-0.004991</td>\n",
       "      <td>0.057165</td>\n",
       "      <td>1.000000</td>\n",
       "      <td>0.121360</td>\n",
       "      <td>-0.043042</td>\n",
       "      <td>0.054515</td>\n",
       "      <td>0.005912</td>\n",
       "      <td>-0.047957</td>\n",
       "      <td>-0.082630</td>\n",
       "    </tr>\n",
       "    <tr>\n",
       "      <th>area</th>\n",
       "      <td>-0.035514</td>\n",
       "      <td>0.000931</td>\n",
       "      <td>0.121360</td>\n",
       "      <td>1.000000</td>\n",
       "      <td>-0.202512</td>\n",
       "      <td>0.491220</td>\n",
       "      <td>0.036302</td>\n",
       "      <td>0.369481</td>\n",
       "      <td>-0.366275</td>\n",
       "    </tr>\n",
       "    <tr>\n",
       "      <th>fertilizer_usage</th>\n",
       "      <td>-0.013106</td>\n",
       "      <td>0.003234</td>\n",
       "      <td>-0.043042</td>\n",
       "      <td>-0.202512</td>\n",
       "      <td>1.000000</td>\n",
       "      <td>0.452183</td>\n",
       "      <td>-0.056462</td>\n",
       "      <td>0.022406</td>\n",
       "      <td>0.679435</td>\n",
       "    </tr>\n",
       "    <tr>\n",
       "      <th>yield</th>\n",
       "      <td>-0.005227</td>\n",
       "      <td>0.015254</td>\n",
       "      <td>0.054515</td>\n",
       "      <td>0.491220</td>\n",
       "      <td>0.452183</td>\n",
       "      <td>1.000000</td>\n",
       "      <td>0.048380</td>\n",
       "      <td>-0.045051</td>\n",
       "      <td>0.579422</td>\n",
       "    </tr>\n",
       "    <tr>\n",
       "      <th>pesticides</th>\n",
       "      <td>-0.002752</td>\n",
       "      <td>-0.008337</td>\n",
       "      <td>0.005912</td>\n",
       "      <td>0.036302</td>\n",
       "      <td>-0.056462</td>\n",
       "      <td>0.048380</td>\n",
       "      <td>1.000000</td>\n",
       "      <td>-0.010899</td>\n",
       "      <td>0.031391</td>\n",
       "    </tr>\n",
       "    <tr>\n",
       "      <th>region</th>\n",
       "      <td>-0.050065</td>\n",
       "      <td>-0.052542</td>\n",
       "      <td>-0.047957</td>\n",
       "      <td>0.369481</td>\n",
       "      <td>0.022406</td>\n",
       "      <td>-0.045051</td>\n",
       "      <td>-0.010899</td>\n",
       "      <td>1.000000</td>\n",
       "      <td>-0.355008</td>\n",
       "    </tr>\n",
       "    <tr>\n",
       "      <th>yield_by_hec</th>\n",
       "      <td>0.014571</td>\n",
       "      <td>0.012175</td>\n",
       "      <td>-0.082630</td>\n",
       "      <td>-0.366275</td>\n",
       "      <td>0.679435</td>\n",
       "      <td>0.579422</td>\n",
       "      <td>0.031391</td>\n",
       "      <td>-0.355008</td>\n",
       "      <td>1.000000</td>\n",
       "    </tr>\n",
       "  </tbody>\n",
       "</table>\n",
       "</div>"
      ],
      "text/plain": [
       "                        id     water        uv      area  fertilizer_usage  \\\n",
       "id                1.000000  0.010670 -0.004991 -0.035514         -0.013106   \n",
       "water             0.010670  1.000000  0.057165  0.000931          0.003234   \n",
       "uv               -0.004991  0.057165  1.000000  0.121360         -0.043042   \n",
       "area             -0.035514  0.000931  0.121360  1.000000         -0.202512   \n",
       "fertilizer_usage -0.013106  0.003234 -0.043042 -0.202512          1.000000   \n",
       "yield            -0.005227  0.015254  0.054515  0.491220          0.452183   \n",
       "pesticides       -0.002752 -0.008337  0.005912  0.036302         -0.056462   \n",
       "region           -0.050065 -0.052542 -0.047957  0.369481          0.022406   \n",
       "yield_by_hec      0.014571  0.012175 -0.082630 -0.366275          0.679435   \n",
       "\n",
       "                     yield  pesticides    region  yield_by_hec  \n",
       "id               -0.005227   -0.002752 -0.050065      0.014571  \n",
       "water             0.015254   -0.008337 -0.052542      0.012175  \n",
       "uv                0.054515    0.005912 -0.047957     -0.082630  \n",
       "area              0.491220    0.036302  0.369481     -0.366275  \n",
       "fertilizer_usage  0.452183   -0.056462  0.022406      0.679435  \n",
       "yield             1.000000    0.048380 -0.045051      0.579422  \n",
       "pesticides        0.048380    1.000000 -0.010899      0.031391  \n",
       "region           -0.045051   -0.010899  1.000000     -0.355008  \n",
       "yield_by_hec      0.579422    0.031391 -0.355008      1.000000  "
      ]
     },
     "execution_count": 72,
     "metadata": {},
     "output_type": "execute_result"
    }
   ],
   "source": [
    "df.corr()"
   ]
  },
  {
   "cell_type": "code",
   "execution_count": 73,
   "metadata": {},
   "outputs": [
    {
     "data": {
      "image/png": "[encoded data removed]",
      "text/plain": [
       "<Figure size 432x288 with 1 Axes>"
      ]
     },
     "metadata": {
      "needs_background": "light"
     },
     "output_type": "display_data"
    },
    {
     "data": {
      "image/png": "[encoded data removed]",
      "text/plain": [
       "<Figure size 432x288 with 1 Axes>"
      ]
     },
     "metadata": {
      "needs_background": "light"
     },
     "output_type": "display_data"
    },
    {
     "data": {
      "image/png": "[encoded data removed]",
      "text/plain": [
       "<Figure size 432x288 with 1 Axes>"
      ]
     },
     "metadata": {
      "needs_background": "light"
     },
     "output_type": "display_data"
    },
    {
     "data": {
      "image/png": "[encoded data removed]",
      "text/plain": [
       "<Figure size 432x288 with 1 Axes>"
      ]
     },
     "metadata": {
      "needs_background": "light"
     },
     "output_type": "display_data"
    },
    {
     "data": {
      "image/png": "[encoded data removed]",
      "text/plain": [
       "<Figure size 432x288 with 1 Axes>"
      ]
     },
     "metadata": {
      "needs_background": "light"
     },
     "output_type": "display_data"
    },
    {
     "data": {
      "image/png": "[encoded data removed]",
      "text/plain": [
       "<Figure size 432x288 with 1 Axes>"
      ]
     },
     "metadata": {
      "needs_background": "light"
     },
     "output_type": "display_data"
    }
   ],
   "source": [
    "columns=['water','uv','fertilizer_usage','pesticides','region','yield_by_hec']\n",
    "\n",
    "for column in columns:\n",
    "    if is_numeric_dtype(df[column]):\n",
    "        plt.figure()\n",
    "        df.boxplot([column])"
   ]
  },
  {
   "cell_type": "code",
   "execution_count": 74,
   "metadata": {},
   "outputs": [
    {
     "data": {
      "text/html": [
       "<div>\n",
       "<style scoped>\n",
       "    .dataframe tbody tr th:only-of-type {\n",
       "        vertical-align: middle;\n",
       "    }\n",
       "\n",
       "    .dataframe tbody tr th {\n",
       "        vertical-align: top;\n",
       "    }\n",
       "\n",
       "    .dataframe thead th {\n",
       "        text-align: right;\n",
       "    }\n",
       "</style>\n",
       "<table border=\"1\" class=\"dataframe\">\n",
       "  <thead>\n",
       "    <tr style=\"text-align: right;\">\n",
       "      <th></th>\n",
       "      <th>id</th>\n",
       "      <th>water</th>\n",
       "      <th>uv</th>\n",
       "      <th>area</th>\n",
       "      <th>fertilizer_usage</th>\n",
       "      <th>yield</th>\n",
       "      <th>pesticides</th>\n",
       "      <th>region</th>\n",
       "      <th>categories</th>\n",
       "      <th>yield_by_hec</th>\n",
       "    </tr>\n",
       "  </thead>\n",
       "  <tbody>\n",
       "    <tr>\n",
       "      <th>36</th>\n",
       "      <td>586</td>\n",
       "      <td>5340.0</td>\n",
       "      <td>91.224</td>\n",
       "      <td>8.429</td>\n",
       "      <td>2</td>\n",
       "      <td>67.321</td>\n",
       "      <td>2.933</td>\n",
       "      <td>0</td>\n",
       "      <td>c,a</td>\n",
       "      <td>7.986831</td>\n",
       "    </tr>\n",
       "  </tbody>\n",
       "</table>\n",
       "</div>"
      ],
      "text/plain": [
       "     id   water      uv   area  fertilizer_usage   yield  pesticides  region  \\\n",
       "36  586  5340.0  91.224  8.429                 2  67.321       2.933       0   \n",
       "\n",
       "   categories  yield_by_hec  \n",
       "36        c,a      7.986831  "
      ]
     },
     "execution_count": 74,
     "metadata": {},
     "output_type": "execute_result"
    }
   ],
   "source": [
    "water_outlier = df[df['water']>5000]\n",
    "water_outlier"
   ]
  },
  {
   "cell_type": "code",
   "execution_count": 75,
   "metadata": {},
   "outputs": [],
   "source": [
    "\n",
    "#replaced the outlier with null\n",
    "df.loc[36, 'water']=np.nan\n",
    " \n",
    " "
   ]
  },
  {
   "cell_type": "code",
   "execution_count": 76,
   "metadata": {},
   "outputs": [
    {
     "data": {
      "text/html": [
       "<div>\n",
       "<style scoped>\n",
       "    .dataframe tbody tr th:only-of-type {\n",
       "        vertical-align: middle;\n",
       "    }\n",
       "\n",
       "    .dataframe tbody tr th {\n",
       "        vertical-align: top;\n",
       "    }\n",
       "\n",
       "    .dataframe thead th {\n",
       "        text-align: right;\n",
       "    }\n",
       "</style>\n",
       "<table border=\"1\" class=\"dataframe\">\n",
       "  <thead>\n",
       "    <tr style=\"text-align: right;\">\n",
       "      <th></th>\n",
       "      <th>id</th>\n",
       "      <th>water</th>\n",
       "      <th>uv</th>\n",
       "      <th>area</th>\n",
       "      <th>fertilizer_usage</th>\n",
       "      <th>yield</th>\n",
       "      <th>pesticides</th>\n",
       "      <th>region</th>\n",
       "      <th>yield_by_hec</th>\n",
       "    </tr>\n",
       "  </thead>\n",
       "  <tbody>\n",
       "    <tr>\n",
       "      <th>id</th>\n",
       "      <td>1.000000</td>\n",
       "      <td>0.050917</td>\n",
       "      <td>-0.004991</td>\n",
       "      <td>-0.035514</td>\n",
       "      <td>-0.013106</td>\n",
       "      <td>-0.005227</td>\n",
       "      <td>-0.002752</td>\n",
       "      <td>-0.050065</td>\n",
       "      <td>0.014571</td>\n",
       "    </tr>\n",
       "    <tr>\n",
       "      <th>water</th>\n",
       "      <td>0.050917</td>\n",
       "      <td>1.000000</td>\n",
       "      <td>-0.038403</td>\n",
       "      <td>-0.209199</td>\n",
       "      <td>0.364064</td>\n",
       "      <td>0.226730</td>\n",
       "      <td>-0.011469</td>\n",
       "      <td>-0.000877</td>\n",
       "      <td>0.469612</td>\n",
       "    </tr>\n",
       "    <tr>\n",
       "      <th>uv</th>\n",
       "      <td>-0.004991</td>\n",
       "      <td>-0.038403</td>\n",
       "      <td>1.000000</td>\n",
       "      <td>0.121360</td>\n",
       "      <td>-0.043042</td>\n",
       "      <td>0.054515</td>\n",
       "      <td>0.005912</td>\n",
       "      <td>-0.047957</td>\n",
       "      <td>-0.082630</td>\n",
       "    </tr>\n",
       "    <tr>\n",
       "      <th>area</th>\n",
       "      <td>-0.035514</td>\n",
       "      <td>-0.209199</td>\n",
       "      <td>0.121360</td>\n",
       "      <td>1.000000</td>\n",
       "      <td>-0.202512</td>\n",
       "      <td>0.491220</td>\n",
       "      <td>0.036302</td>\n",
       "      <td>0.369481</td>\n",
       "      <td>-0.366275</td>\n",
       "    </tr>\n",
       "    <tr>\n",
       "      <th>fertilizer_usage</th>\n",
       "      <td>-0.013106</td>\n",
       "      <td>0.364064</td>\n",
       "      <td>-0.043042</td>\n",
       "      <td>-0.202512</td>\n",
       "      <td>1.000000</td>\n",
       "      <td>0.452183</td>\n",
       "      <td>-0.056462</td>\n",
       "      <td>0.022406</td>\n",
       "      <td>0.679435</td>\n",
       "    </tr>\n",
       "    <tr>\n",
       "      <th>yield</th>\n",
       "      <td>-0.005227</td>\n",
       "      <td>0.226730</td>\n",
       "      <td>0.054515</td>\n",
       "      <td>0.491220</td>\n",
       "      <td>0.452183</td>\n",
       "      <td>1.000000</td>\n",
       "      <td>0.048380</td>\n",
       "      <td>-0.045051</td>\n",
       "      <td>0.579422</td>\n",
       "    </tr>\n",
       "    <tr>\n",
       "      <th>pesticides</th>\n",
       "      <td>-0.002752</td>\n",
       "      <td>-0.011469</td>\n",
       "      <td>0.005912</td>\n",
       "      <td>0.036302</td>\n",
       "      <td>-0.056462</td>\n",
       "      <td>0.048380</td>\n",
       "      <td>1.000000</td>\n",
       "      <td>-0.010899</td>\n",
       "      <td>0.031391</td>\n",
       "    </tr>\n",
       "    <tr>\n",
       "      <th>region</th>\n",
       "      <td>-0.050065</td>\n",
       "      <td>-0.000877</td>\n",
       "      <td>-0.047957</td>\n",
       "      <td>0.369481</td>\n",
       "      <td>0.022406</td>\n",
       "      <td>-0.045051</td>\n",
       "      <td>-0.010899</td>\n",
       "      <td>1.000000</td>\n",
       "      <td>-0.355008</td>\n",
       "    </tr>\n",
       "    <tr>\n",
       "      <th>yield_by_hec</th>\n",
       "      <td>0.014571</td>\n",
       "      <td>0.469612</td>\n",
       "      <td>-0.082630</td>\n",
       "      <td>-0.366275</td>\n",
       "      <td>0.679435</td>\n",
       "      <td>0.579422</td>\n",
       "      <td>0.031391</td>\n",
       "      <td>-0.355008</td>\n",
       "      <td>1.000000</td>\n",
       "    </tr>\n",
       "  </tbody>\n",
       "</table>\n",
       "</div>"
      ],
      "text/plain": [
       "                        id     water        uv      area  fertilizer_usage  \\\n",
       "id                1.000000  0.050917 -0.004991 -0.035514         -0.013106   \n",
       "water             0.050917  1.000000 -0.038403 -0.209199          0.364064   \n",
       "uv               -0.004991 -0.038403  1.000000  0.121360         -0.043042   \n",
       "area             -0.035514 -0.209199  0.121360  1.000000         -0.202512   \n",
       "fertilizer_usage -0.013106  0.364064 -0.043042 -0.202512          1.000000   \n",
       "yield            -0.005227  0.226730  0.054515  0.491220          0.452183   \n",
       "pesticides       -0.002752 -0.011469  0.005912  0.036302         -0.056462   \n",
       "region           -0.050065 -0.000877 -0.047957  0.369481          0.022406   \n",
       "yield_by_hec      0.014571  0.469612 -0.082630 -0.366275          0.679435   \n",
       "\n",
       "                     yield  pesticides    region  yield_by_hec  \n",
       "id               -0.005227   -0.002752 -0.050065      0.014571  \n",
       "water             0.226730   -0.011469 -0.000877      0.469612  \n",
       "uv                0.054515    0.005912 -0.047957     -0.082630  \n",
       "area              0.491220    0.036302  0.369481     -0.366275  \n",
       "fertilizer_usage  0.452183   -0.056462  0.022406      0.679435  \n",
       "yield             1.000000    0.048380 -0.045051      0.579422  \n",
       "pesticides        0.048380    1.000000 -0.010899      0.031391  \n",
       "region           -0.045051   -0.010899  1.000000     -0.355008  \n",
       "yield_by_hec      0.579422    0.031391 -0.355008      1.000000  "
      ]
     },
     "execution_count": 76,
     "metadata": {},
     "output_type": "execute_result"
    }
   ],
   "source": [
    "df.corr()"
   ]
  },
  {
   "cell_type": "code",
   "execution_count": 78,
   "metadata": {},
   "outputs": [
    {
     "data": {
      "text/plain": [
       "array([16, 34, 47, 46, 41, 14, 22,  7, 36, 55, 21, 20, 39, 31, 26, 33, 48,\n",
       "       10, 15, 24, 30, 28,  0, 35, 40, 52, 29,  9, 18, 37, 23, 32, 60, 25,\n",
       "       51,  5, 19, 58, 42,  1, 57, 54,  8, 11, 50,  2, 56, 61,  6, 49, 17,\n",
       "        3, 53, 44, 38, 27, 13, 43, 12, 45,  4, 59], dtype=int64)"
      ]
     },
     "execution_count": 78,
     "metadata": {},
     "output_type": "execute_result"
    }
   ],
   "source": [
    "from sklearn.preprocessing import LabelEncoder\n",
    "\n",
    "lbl = LabelEncoder() \n",
    "lbl.fit(list(train['categories'].values)) \n",
    "df['categories_id'] = lbl.transform(list(df['categories'].values))\n",
    "len(df['categories_id'].unique())\n",
    "df['categories_id'].unique()"
   ]
  },
  {
   "cell_type": "code",
   "execution_count": 79,
   "metadata": {},
   "outputs": [
    {
     "data": {
      "text/html": [
       "<div>\n",
       "<style scoped>\n",
       "    .dataframe tbody tr th:only-of-type {\n",
       "        vertical-align: middle;\n",
       "    }\n",
       "\n",
       "    .dataframe tbody tr th {\n",
       "        vertical-align: top;\n",
       "    }\n",
       "\n",
       "    .dataframe thead th {\n",
       "        text-align: right;\n",
       "    }\n",
       "</style>\n",
       "<table border=\"1\" class=\"dataframe\">\n",
       "  <thead>\n",
       "    <tr style=\"text-align: right;\">\n",
       "      <th></th>\n",
       "      <th>id</th>\n",
       "      <th>water</th>\n",
       "      <th>uv</th>\n",
       "      <th>area</th>\n",
       "      <th>fertilizer_usage</th>\n",
       "      <th>yield</th>\n",
       "      <th>pesticides</th>\n",
       "      <th>region</th>\n",
       "      <th>categories</th>\n",
       "      <th>yield_by_hec</th>\n",
       "      <th>categories_id</th>\n",
       "    </tr>\n",
       "  </thead>\n",
       "  <tbody>\n",
       "    <tr>\n",
       "      <th>0</th>\n",
       "      <td>169</td>\n",
       "      <td>5.615</td>\n",
       "      <td>65.281</td>\n",
       "      <td>3.230</td>\n",
       "      <td>0</td>\n",
       "      <td>7.977</td>\n",
       "      <td>8.969</td>\n",
       "      <td>0</td>\n",
       "      <td>b,a,c</td>\n",
       "      <td>2.469659</td>\n",
       "      <td>16</td>\n",
       "    </tr>\n",
       "    <tr>\n",
       "      <th>1</th>\n",
       "      <td>476</td>\n",
       "      <td>7.044</td>\n",
       "      <td>73.319</td>\n",
       "      <td>9.081</td>\n",
       "      <td>0</td>\n",
       "      <td>23.009</td>\n",
       "      <td>7.197</td>\n",
       "      <td>0</td>\n",
       "      <td>c,a,d</td>\n",
       "      <td>2.533752</td>\n",
       "      <td>34</td>\n",
       "    </tr>\n",
       "    <tr>\n",
       "      <th>2</th>\n",
       "      <td>152</td>\n",
       "      <td>5.607</td>\n",
       "      <td>60.038</td>\n",
       "      <td>2.864</td>\n",
       "      <td>2</td>\n",
       "      <td>23.019</td>\n",
       "      <td>7.424</td>\n",
       "      <td>0</td>\n",
       "      <td>d,a</td>\n",
       "      <td>8.037360</td>\n",
       "      <td>47</td>\n",
       "    </tr>\n",
       "    <tr>\n",
       "      <th>3</th>\n",
       "      <td>293</td>\n",
       "      <td>9.346</td>\n",
       "      <td>64.719</td>\n",
       "      <td>2.797</td>\n",
       "      <td>2</td>\n",
       "      <td>28.066</td>\n",
       "      <td>1.256</td>\n",
       "      <td>0</td>\n",
       "      <td>d</td>\n",
       "      <td>10.034322</td>\n",
       "      <td>46</td>\n",
       "    </tr>\n",
       "    <tr>\n",
       "      <th>4</th>\n",
       "      <td>10</td>\n",
       "      <td>7.969</td>\n",
       "      <td>NaN</td>\n",
       "      <td>5.407</td>\n",
       "      <td>1</td>\n",
       "      <td>29.140</td>\n",
       "      <td>0.274</td>\n",
       "      <td>0</td>\n",
       "      <td>c,d</td>\n",
       "      <td>5.389310</td>\n",
       "      <td>41</td>\n",
       "    </tr>\n",
       "  </tbody>\n",
       "</table>\n",
       "</div>"
      ],
      "text/plain": [
       "    id  water      uv   area  fertilizer_usage   yield  pesticides  region  \\\n",
       "0  169  5.615  65.281  3.230                 0   7.977       8.969       0   \n",
       "1  476  7.044  73.319  9.081                 0  23.009       7.197       0   \n",
       "2  152  5.607  60.038  2.864                 2  23.019       7.424       0   \n",
       "3  293  9.346  64.719  2.797                 2  28.066       1.256       0   \n",
       "4   10  7.969     NaN  5.407                 1  29.140       0.274       0   \n",
       "\n",
       "  categories  yield_by_hec  categories_id  \n",
       "0      b,a,c      2.469659             16  \n",
       "1      c,a,d      2.533752             34  \n",
       "2        d,a      8.037360             47  \n",
       "3          d     10.034322             46  \n",
       "4        c,d      5.389310             41  "
      ]
     },
     "execution_count": 79,
     "metadata": {},
     "output_type": "execute_result"
    }
   ],
   "source": [
    "df.head()"
   ]
  },
  {
   "cell_type": "code",
   "execution_count": 80,
   "metadata": {},
   "outputs": [
    {
     "data": {
      "text/html": [
       "<div>\n",
       "<style scoped>\n",
       "    .dataframe tbody tr th:only-of-type {\n",
       "        vertical-align: middle;\n",
       "    }\n",
       "\n",
       "    .dataframe tbody tr th {\n",
       "        vertical-align: top;\n",
       "    }\n",
       "\n",
       "    .dataframe thead th {\n",
       "        text-align: right;\n",
       "    }\n",
       "</style>\n",
       "<table border=\"1\" class=\"dataframe\">\n",
       "  <thead>\n",
       "    <tr style=\"text-align: right;\">\n",
       "      <th></th>\n",
       "      <th>water</th>\n",
       "      <th>uv</th>\n",
       "      <th>fertilizer_usage</th>\n",
       "      <th>pesticides</th>\n",
       "      <th>region</th>\n",
       "      <th>yield_by_hec</th>\n",
       "      <th>categories_id</th>\n",
       "    </tr>\n",
       "  </thead>\n",
       "  <tbody>\n",
       "    <tr>\n",
       "      <th>0</th>\n",
       "      <td>5.615</td>\n",
       "      <td>65.281</td>\n",
       "      <td>0</td>\n",
       "      <td>8.969</td>\n",
       "      <td>0</td>\n",
       "      <td>2.469659</td>\n",
       "      <td>16</td>\n",
       "    </tr>\n",
       "    <tr>\n",
       "      <th>1</th>\n",
       "      <td>7.044</td>\n",
       "      <td>73.319</td>\n",
       "      <td>0</td>\n",
       "      <td>7.197</td>\n",
       "      <td>0</td>\n",
       "      <td>2.533752</td>\n",
       "      <td>34</td>\n",
       "    </tr>\n",
       "    <tr>\n",
       "      <th>2</th>\n",
       "      <td>5.607</td>\n",
       "      <td>60.038</td>\n",
       "      <td>2</td>\n",
       "      <td>7.424</td>\n",
       "      <td>0</td>\n",
       "      <td>8.037360</td>\n",
       "      <td>47</td>\n",
       "    </tr>\n",
       "    <tr>\n",
       "      <th>3</th>\n",
       "      <td>9.346</td>\n",
       "      <td>64.719</td>\n",
       "      <td>2</td>\n",
       "      <td>1.256</td>\n",
       "      <td>0</td>\n",
       "      <td>10.034322</td>\n",
       "      <td>46</td>\n",
       "    </tr>\n",
       "    <tr>\n",
       "      <th>4</th>\n",
       "      <td>7.969</td>\n",
       "      <td>NaN</td>\n",
       "      <td>1</td>\n",
       "      <td>0.274</td>\n",
       "      <td>0</td>\n",
       "      <td>5.389310</td>\n",
       "      <td>41</td>\n",
       "    </tr>\n",
       "  </tbody>\n",
       "</table>\n",
       "</div>"
      ],
      "text/plain": [
       "   water      uv  fertilizer_usage  pesticides  region  yield_by_hec  \\\n",
       "0  5.615  65.281                 0       8.969       0      2.469659   \n",
       "1  7.044  73.319                 0       7.197       0      2.533752   \n",
       "2  5.607  60.038                 2       7.424       0      8.037360   \n",
       "3  9.346  64.719                 2       1.256       0     10.034322   \n",
       "4  7.969     NaN                 1       0.274       0      5.389310   \n",
       "\n",
       "   categories_id  \n",
       "0             16  \n",
       "1             34  \n",
       "2             47  \n",
       "3             46  \n",
       "4             41  "
      ]
     },
     "execution_count": 80,
     "metadata": {},
     "output_type": "execute_result"
    }
   ],
   "source": [
    "df.drop(['id','area','yield','categories' ], axis=1, inplace=True)\n",
    "df.head()"
   ]
  },
  {
   "cell_type": "markdown",
   "metadata": {},
   "source": [
    "2.2 check distribution"
   ]
  },
  {
   "cell_type": "code",
   "execution_count": 81,
   "metadata": {},
   "outputs": [
    {
     "name": "stdout",
     "output_type": "stream",
     "text": [
      "Skew is: 0.19793832202783265\n"
     ]
    }
   ],
   "source": [
    "# Determining the Skewness of data \n",
    "print (\"Skew is:\", df.yield_by_hec.skew())"
   ]
  },
  {
   "cell_type": "code",
   "execution_count": 82,
   "metadata": {},
   "outputs": [
    {
     "data": {
      "image/png": "[encoded data removed]",
      "text/plain": [
       "<Figure size 864x360 with 2 Axes>"
      ]
     },
     "metadata": {
      "needs_background": "light"
     },
     "output_type": "display_data"
    }
   ],
   "source": [
    "plt.figure(figsize=(12, 5))\n",
    "plt.subplot(1,2,1)\n",
    "sns.distplot(df.yield_by_hec, fit=stats.norm)\n",
    "\n",
    "# Get the fitted parameters used by the function\n",
    "\n",
    "(mu, sigma) = stats.norm.fit(df.yield_by_hec)\n",
    "\n",
    "# plot with the distribution\n",
    "\n",
    "plt.legend(['Normal dist. ($\\mu=$ {:.2f} and $\\sigma=$ {:.2f} )'.format(mu, sigma)], loc='best')\n",
    "plt.ylabel('Frequency')\n",
    "\n",
    "#Probablity plot\n",
    "\n",
    "plt.subplot(1,2,2)\n",
    "stats.probplot(df.yield_by_hec, plot=plt)\n",
    "plt.show()"
   ]
  },
  {
   "cell_type": "markdown",
   "metadata": {},
   "source": [
    "skewness is less than 0.5, symmetrical"
   ]
  },
  {
   "cell_type": "code",
   "execution_count": 83,
   "metadata": {},
   "outputs": [
    {
     "data": {
      "text/html": [
       "<div>\n",
       "<style scoped>\n",
       "    .dataframe tbody tr th:only-of-type {\n",
       "        vertical-align: middle;\n",
       "    }\n",
       "\n",
       "    .dataframe tbody tr th {\n",
       "        vertical-align: top;\n",
       "    }\n",
       "\n",
       "    .dataframe thead th {\n",
       "        text-align: right;\n",
       "    }\n",
       "</style>\n",
       "<table border=\"1\" class=\"dataframe\">\n",
       "  <thead>\n",
       "    <tr style=\"text-align: right;\">\n",
       "      <th></th>\n",
       "      <th>water</th>\n",
       "      <th>uv</th>\n",
       "      <th>fertilizer_usage</th>\n",
       "      <th>pesticides</th>\n",
       "      <th>region</th>\n",
       "      <th>yield_by_hec</th>\n",
       "      <th>categories_id</th>\n",
       "    </tr>\n",
       "  </thead>\n",
       "  <tbody>\n",
       "    <tr>\n",
       "      <th>count</th>\n",
       "      <td>957.000000</td>\n",
       "      <td>949.000000</td>\n",
       "      <td>1000.00000</td>\n",
       "      <td>1000.000000</td>\n",
       "      <td>1000.000000</td>\n",
       "      <td>1000.000000</td>\n",
       "      <td>1000.000000</td>\n",
       "    </tr>\n",
       "    <tr>\n",
       "      <th>mean</th>\n",
       "      <td>6.656381</td>\n",
       "      <td>73.957488</td>\n",
       "      <td>2.12300</td>\n",
       "      <td>3.452301</td>\n",
       "      <td>3.039000</td>\n",
       "      <td>7.588364</td>\n",
       "      <td>29.355000</td>\n",
       "    </tr>\n",
       "    <tr>\n",
       "      <th>std</th>\n",
       "      <td>2.820320</td>\n",
       "      <td>9.904063</td>\n",
       "      <td>1.52256</td>\n",
       "      <td>2.076921</td>\n",
       "      <td>1.883886</td>\n",
       "      <td>2.738814</td>\n",
       "      <td>16.700475</td>\n",
       "    </tr>\n",
       "    <tr>\n",
       "      <th>min</th>\n",
       "      <td>0.072000</td>\n",
       "      <td>45.264000</td>\n",
       "      <td>0.00000</td>\n",
       "      <td>0.014000</td>\n",
       "      <td>0.000000</td>\n",
       "      <td>1.336070</td>\n",
       "      <td>0.000000</td>\n",
       "    </tr>\n",
       "    <tr>\n",
       "      <th>25%</th>\n",
       "      <td>4.580000</td>\n",
       "      <td>66.502000</td>\n",
       "      <td>1.00000</td>\n",
       "      <td>1.804500</td>\n",
       "      <td>2.000000</td>\n",
       "      <td>5.542781</td>\n",
       "      <td>15.000000</td>\n",
       "    </tr>\n",
       "    <tr>\n",
       "      <th>50%</th>\n",
       "      <td>6.469000</td>\n",
       "      <td>73.689000</td>\n",
       "      <td>2.00000</td>\n",
       "      <td>3.275500</td>\n",
       "      <td>2.000000</td>\n",
       "      <td>7.431937</td>\n",
       "      <td>30.000000</td>\n",
       "    </tr>\n",
       "    <tr>\n",
       "      <th>75%</th>\n",
       "      <td>8.758000</td>\n",
       "      <td>80.554000</td>\n",
       "      <td>3.00000</td>\n",
       "      <td>4.916000</td>\n",
       "      <td>5.000000</td>\n",
       "      <td>9.585453</td>\n",
       "      <td>44.000000</td>\n",
       "    </tr>\n",
       "    <tr>\n",
       "      <th>max</th>\n",
       "      <td>15.214000</td>\n",
       "      <td>106.310000</td>\n",
       "      <td>5.00000</td>\n",
       "      <td>9.532000</td>\n",
       "      <td>6.000000</td>\n",
       "      <td>14.232703</td>\n",
       "      <td>61.000000</td>\n",
       "    </tr>\n",
       "  </tbody>\n",
       "</table>\n",
       "</div>"
      ],
      "text/plain": [
       "            water          uv  fertilizer_usage   pesticides       region  \\\n",
       "count  957.000000  949.000000        1000.00000  1000.000000  1000.000000   \n",
       "mean     6.656381   73.957488           2.12300     3.452301     3.039000   \n",
       "std      2.820320    9.904063           1.52256     2.076921     1.883886   \n",
       "min      0.072000   45.264000           0.00000     0.014000     0.000000   \n",
       "25%      4.580000   66.502000           1.00000     1.804500     2.000000   \n",
       "50%      6.469000   73.689000           2.00000     3.275500     2.000000   \n",
       "75%      8.758000   80.554000           3.00000     4.916000     5.000000   \n",
       "max     15.214000  106.310000           5.00000     9.532000     6.000000   \n",
       "\n",
       "       yield_by_hec  categories_id  \n",
       "count   1000.000000    1000.000000  \n",
       "mean       7.588364      29.355000  \n",
       "std        2.738814      16.700475  \n",
       "min        1.336070       0.000000  \n",
       "25%        5.542781      15.000000  \n",
       "50%        7.431937      30.000000  \n",
       "75%        9.585453      44.000000  \n",
       "max       14.232703      61.000000  "
      ]
     },
     "execution_count": 83,
     "metadata": {},
     "output_type": "execute_result"
    }
   ],
   "source": [
    "df = df.copy()\n",
    "df.describe()"
   ]
  },
  {
   "cell_type": "code",
   "execution_count": 103,
   "metadata": {},
   "outputs": [
    {
     "data": {
      "image/png": "[encoded data removed]",
      "text/plain": [
       "<Figure size 432x288 with 1 Axes>"
      ]
     },
     "metadata": {
      "needs_background": "light"
     },
     "output_type": "display_data"
    },
    {
     "data": {
      "text/html": [
       "<div>\n",
       "<style scoped>\n",
       "    .dataframe tbody tr th:only-of-type {\n",
       "        vertical-align: middle;\n",
       "    }\n",
       "\n",
       "    .dataframe tbody tr th {\n",
       "        vertical-align: top;\n",
       "    }\n",
       "\n",
       "    .dataframe thead th {\n",
       "        text-align: right;\n",
       "    }\n",
       "</style>\n",
       "<table border=\"1\" class=\"dataframe\">\n",
       "  <thead>\n",
       "    <tr style=\"text-align: right;\">\n",
       "      <th></th>\n",
       "      <th>region</th>\n",
       "      <th>water</th>\n",
       "    </tr>\n",
       "  </thead>\n",
       "  <tbody>\n",
       "    <tr>\n",
       "      <th>1</th>\n",
       "      <td>1</td>\n",
       "      <td>6.846594</td>\n",
       "    </tr>\n",
       "    <tr>\n",
       "      <th>3</th>\n",
       "      <td>3</td>\n",
       "      <td>6.791488</td>\n",
       "    </tr>\n",
       "    <tr>\n",
       "      <th>6</th>\n",
       "      <td>6</td>\n",
       "      <td>6.747085</td>\n",
       "    </tr>\n",
       "    <tr>\n",
       "      <th>2</th>\n",
       "      <td>2</td>\n",
       "      <td>6.585226</td>\n",
       "    </tr>\n",
       "    <tr>\n",
       "      <th>4</th>\n",
       "      <td>4</td>\n",
       "      <td>6.481127</td>\n",
       "    </tr>\n",
       "    <tr>\n",
       "      <th>0</th>\n",
       "      <td>0</td>\n",
       "      <td>6.450881</td>\n",
       "    </tr>\n",
       "    <tr>\n",
       "      <th>5</th>\n",
       "      <td>5</td>\n",
       "      <td>6.315596</td>\n",
       "    </tr>\n",
       "  </tbody>\n",
       "</table>\n",
       "</div>"
      ],
      "text/plain": [
       "   region     water\n",
       "1       1  6.846594\n",
       "3       3  6.791488\n",
       "6       6  6.747085\n",
       "2       2  6.585226\n",
       "4       4  6.481127\n",
       "0       0  6.450881\n",
       "5       5  6.315596"
      ]
     },
     "execution_count": 103,
     "metadata": {},
     "output_type": "execute_result"
    }
   ],
   "source": [
    "sns.barplot(x='region', y='water', data=df)\n",
    "plt.ylabel(\"water\")\n",
    "plt.title(\"water as region\", fontsize=16)\n",
    "plt.show()\n",
    "df[[\"region\", \"water\"]].groupby(['region'], as_index=False).mean().sort_values(by='water', ascending=False)"
   ]
  },
  {
   "cell_type": "code",
   "execution_count": 85,
   "metadata": {},
   "outputs": [
    {
     "data": {
      "image/png": "[encoded data removed]",
      "text/plain": [
       "<Figure size 432x288 with 1 Axes>"
      ]
     },
     "metadata": {
      "needs_background": "light"
     },
     "output_type": "display_data"
    },
    {
     "name": "stdout",
     "output_type": "stream",
     "text": [
      "Skew is: 0.11611774643522087\n"
     ]
    },
    {
     "data": {
      "image/png": "[encoded data removed]",
      "text/plain": [
       "<Figure size 432x288 with 1 Axes>"
      ]
     },
     "metadata": {
      "needs_background": "light"
     },
     "output_type": "display_data"
    }
   ],
   "source": [
    "\n",
    "sns.regplot(x='water',y='yield_by_hec',data=train)\n",
    "plt.show()\n",
    "\n",
    "print (\"Skew is:\", train.water.skew())\n",
    "plt.hist(train.water)\n",
    "plt.show()"
   ]
  },
  {
   "cell_type": "code",
   "execution_count": 87,
   "metadata": {},
   "outputs": [
    {
     "name": "stdout",
     "output_type": "stream",
     "text": [
      "water Skew is: 0.10371839712746198\n",
      "uv Skew is: 0.18588570075809727\n",
      "fertilizer_usage Skew is: 0.14622979335885092\n",
      "pesticides Skew is: 0.3899279865414328\n",
      "region Skew is: 0.3738597525749813\n",
      "yield_by_hec Skew is: 0.19793832202783265\n",
      "categories_id Skew is: -0.08863191984931458\n"
     ]
    }
   ],
   "source": [
    "columns=['water','uv','fertilizer_usage','pesticides','region','yield_by_hec','categories_id']\n",
    "\n",
    "for column in columns:\n",
    "    if is_numeric_dtype(df[column]):\n",
    "        print(column +\" Skew is:\", df[column].skew()   )"
   ]
  },
  {
   "cell_type": "markdown",
   "metadata": {},
   "source": [
    "2.3 check missing data"
   ]
  },
  {
   "cell_type": "code",
   "execution_count": 89,
   "metadata": {},
   "outputs": [
    {
     "data": {
      "image/png": "[encoded data removed]",
      "text/plain": [
       "<Figure size 648x360 with 1 Axes>"
      ]
     },
     "metadata": {
      "needs_background": "light"
     },
     "output_type": "display_data"
    }
   ],
   "source": [
    "fig, ax = plt.subplots(figsize=(9,5))\n",
    "sns.heatmap(df.isnull(), cbar=False, cmap=\"YlGnBu_r\")\n",
    "plt.show()"
   ]
  },
  {
   "cell_type": "markdown",
   "metadata": {},
   "source": [
    "2.4 fill the null with averge in the region"
   ]
  },
  {
   "cell_type": "code",
   "execution_count": 90,
   "metadata": {},
   "outputs": [],
   "source": [
    "df['water'] = df.groupby(\"region\")[\"water\"].transform(lambda x: x.fillna(x.median()))\n",
    "df['uv'] = df.groupby(\"region\")[\"uv\"].transform(lambda x: x.fillna(x.median()))"
   ]
  },
  {
   "cell_type": "markdown",
   "metadata": {},
   "source": [
    "# 3. Finding features"
   ]
  },
  {
   "cell_type": "markdown",
   "metadata": {},
   "source": [
    "Fertilizer is the most important factor, followed by water and region"
   ]
  },
  {
   "cell_type": "code",
   "execution_count": 92,
   "metadata": {},
   "outputs": [
    {
     "data": {
      "text/html": [
       "<div>\n",
       "<style scoped>\n",
       "    .dataframe tbody tr th:only-of-type {\n",
       "        vertical-align: middle;\n",
       "    }\n",
       "\n",
       "    .dataframe tbody tr th {\n",
       "        vertical-align: top;\n",
       "    }\n",
       "\n",
       "    .dataframe thead th {\n",
       "        text-align: right;\n",
       "    }\n",
       "</style>\n",
       "<table border=\"1\" class=\"dataframe\">\n",
       "  <thead>\n",
       "    <tr style=\"text-align: right;\">\n",
       "      <th></th>\n",
       "      <th>water</th>\n",
       "      <th>uv</th>\n",
       "      <th>fertilizer_usage</th>\n",
       "      <th>pesticides</th>\n",
       "      <th>region</th>\n",
       "      <th>yield_by_hec</th>\n",
       "      <th>categories_id</th>\n",
       "    </tr>\n",
       "  </thead>\n",
       "  <tbody>\n",
       "    <tr>\n",
       "      <th>water</th>\n",
       "      <td>1.000000</td>\n",
       "      <td>-0.035676</td>\n",
       "      <td>0.358358</td>\n",
       "      <td>-0.011032</td>\n",
       "      <td>0.000459</td>\n",
       "      <td>0.461054</td>\n",
       "      <td>0.019943</td>\n",
       "    </tr>\n",
       "    <tr>\n",
       "      <th>uv</th>\n",
       "      <td>-0.035676</td>\n",
       "      <td>1.000000</td>\n",
       "      <td>-0.041516</td>\n",
       "      <td>0.004933</td>\n",
       "      <td>-0.047448</td>\n",
       "      <td>-0.079780</td>\n",
       "      <td>-0.010400</td>\n",
       "    </tr>\n",
       "    <tr>\n",
       "      <th>fertilizer_usage</th>\n",
       "      <td>0.358358</td>\n",
       "      <td>-0.041516</td>\n",
       "      <td>1.000000</td>\n",
       "      <td>-0.056462</td>\n",
       "      <td>0.022406</td>\n",
       "      <td>0.679435</td>\n",
       "      <td>0.080400</td>\n",
       "    </tr>\n",
       "    <tr>\n",
       "      <th>pesticides</th>\n",
       "      <td>-0.011032</td>\n",
       "      <td>0.004933</td>\n",
       "      <td>-0.056462</td>\n",
       "      <td>1.000000</td>\n",
       "      <td>-0.010899</td>\n",
       "      <td>0.031391</td>\n",
       "      <td>-0.007557</td>\n",
       "    </tr>\n",
       "    <tr>\n",
       "      <th>region</th>\n",
       "      <td>0.000459</td>\n",
       "      <td>-0.047448</td>\n",
       "      <td>0.022406</td>\n",
       "      <td>-0.010899</td>\n",
       "      <td>1.000000</td>\n",
       "      <td>-0.355008</td>\n",
       "      <td>-0.005054</td>\n",
       "    </tr>\n",
       "    <tr>\n",
       "      <th>yield_by_hec</th>\n",
       "      <td>0.461054</td>\n",
       "      <td>-0.079780</td>\n",
       "      <td>0.679435</td>\n",
       "      <td>0.031391</td>\n",
       "      <td>-0.355008</td>\n",
       "      <td>1.000000</td>\n",
       "      <td>0.041350</td>\n",
       "    </tr>\n",
       "    <tr>\n",
       "      <th>categories_id</th>\n",
       "      <td>0.019943</td>\n",
       "      <td>-0.010400</td>\n",
       "      <td>0.080400</td>\n",
       "      <td>-0.007557</td>\n",
       "      <td>-0.005054</td>\n",
       "      <td>0.041350</td>\n",
       "      <td>1.000000</td>\n",
       "    </tr>\n",
       "  </tbody>\n",
       "</table>\n",
       "</div>"
      ],
      "text/plain": [
       "                     water        uv  fertilizer_usage  pesticides    region  \\\n",
       "water             1.000000 -0.035676          0.358358   -0.011032  0.000459   \n",
       "uv               -0.035676  1.000000         -0.041516    0.004933 -0.047448   \n",
       "fertilizer_usage  0.358358 -0.041516          1.000000   -0.056462  0.022406   \n",
       "pesticides       -0.011032  0.004933         -0.056462    1.000000 -0.010899   \n",
       "region            0.000459 -0.047448          0.022406   -0.010899  1.000000   \n",
       "yield_by_hec      0.461054 -0.079780          0.679435    0.031391 -0.355008   \n",
       "categories_id     0.019943 -0.010400          0.080400   -0.007557 -0.005054   \n",
       "\n",
       "                  yield_by_hec  categories_id  \n",
       "water                 0.461054       0.019943  \n",
       "uv                   -0.079780      -0.010400  \n",
       "fertilizer_usage      0.679435       0.080400  \n",
       "pesticides            0.031391      -0.007557  \n",
       "region               -0.355008      -0.005054  \n",
       "yield_by_hec          1.000000       0.041350  \n",
       "categories_id         0.041350       1.000000  "
      ]
     },
     "execution_count": 92,
     "metadata": {},
     "output_type": "execute_result"
    }
   ],
   "source": [
    "df.corr()"
   ]
  },
  {
   "cell_type": "markdown",
   "metadata": {},
   "source": [
    "#### 3.1 Fertilizer"
   ]
  },
  {
   "cell_type": "code",
   "execution_count": 99,
   "metadata": {},
   "outputs": [
    {
     "data": {
      "text/plain": [
       "<matplotlib.axes._subplots.AxesSubplot at 0x209a1114630>"
      ]
     },
     "execution_count": 99,
     "metadata": {},
     "output_type": "execute_result"
    },
    {
     "data": {
      "image/png": "[encoded data removed]",
      "text/plain": [
       "<Figure size 432x288 with 1 Axes>"
      ]
     },
     "metadata": {
      "needs_background": "light"
     },
     "output_type": "display_data"
    }
   ],
   "source": [
    "sns.barplot(df.fertilizer_usage, df.yield_by_hec)"
   ]
  },
  {
   "cell_type": "code",
   "execution_count": 100,
   "metadata": {},
   "outputs": [
    {
     "data": {
      "image/png": "[encoded data removed]",
      "text/plain": [
       "<Figure size 432x288 with 1 Axes>"
      ]
     },
     "metadata": {
      "needs_background": "light"
     },
     "output_type": "display_data"
    }
   ],
   "source": [
    "sns.regplot(x='fertilizer_usage',y='yield_by_hec',data=df)\n",
    "plt.show()"
   ]
  },
  {
   "cell_type": "markdown",
   "metadata": {},
   "source": [
    "#### 3.2 Water"
   ]
  },
  {
   "cell_type": "code",
   "execution_count": 101,
   "metadata": {},
   "outputs": [
    {
     "data": {
      "image/png": "[encoded data removed]",
      "text/plain": [
       "<Figure size 432x288 with 1 Axes>"
      ]
     },
     "metadata": {
      "needs_background": "light"
     },
     "output_type": "display_data"
    }
   ],
   "source": [
    "sns.regplot(x='water',y='yield_by_hec',data=df)\n",
    "plt.show()"
   ]
  },
  {
   "cell_type": "markdown",
   "metadata": {},
   "source": [
    "#### 3.3 Region"
   ]
  },
  {
   "cell_type": "code",
   "execution_count": 102,
   "metadata": {},
   "outputs": [
    {
     "data": {
      "text/plain": [
       "<matplotlib.axes._subplots.AxesSubplot at 0x209a18c7a20>"
      ]
     },
     "execution_count": 102,
     "metadata": {},
     "output_type": "execute_result"
    },
    {
     "data": {
      "image/png": "[encoded data removed]",
      "text/plain": [
       "<Figure size 432x288 with 1 Axes>"
      ]
     },
     "metadata": {
      "needs_background": "light"
     },
     "output_type": "display_data"
    }
   ],
   "source": [
    "sns.barplot(df.region, df.yield_by_hec)"
   ]
  },
  {
   "cell_type": "markdown",
   "metadata": {},
   "source": [
    "uv is related to region, so check uv based on region"
   ]
  },
  {
   "cell_type": "code",
   "execution_count": 104,
   "metadata": {},
   "outputs": [
    {
     "data": {
      "image/png": "[encoded data removed]",
      "text/plain": [
       "<Figure size 432x288 with 1 Axes>"
      ]
     },
     "metadata": {
      "needs_background": "light"
     },
     "output_type": "display_data"
    },
    {
     "data": {
      "text/html": [
       "<div>\n",
       "<style scoped>\n",
       "    .dataframe tbody tr th:only-of-type {\n",
       "        vertical-align: middle;\n",
       "    }\n",
       "\n",
       "    .dataframe tbody tr th {\n",
       "        vertical-align: top;\n",
       "    }\n",
       "\n",
       "    .dataframe thead th {\n",
       "        text-align: right;\n",
       "    }\n",
       "</style>\n",
       "<table border=\"1\" class=\"dataframe\">\n",
       "  <thead>\n",
       "    <tr style=\"text-align: right;\">\n",
       "      <th></th>\n",
       "      <th>region</th>\n",
       "      <th>uv</th>\n",
       "    </tr>\n",
       "  </thead>\n",
       "  <tbody>\n",
       "    <tr>\n",
       "      <th>1</th>\n",
       "      <td>1</td>\n",
       "      <td>75.468545</td>\n",
       "    </tr>\n",
       "    <tr>\n",
       "      <th>4</th>\n",
       "      <td>4</td>\n",
       "      <td>74.925451</td>\n",
       "    </tr>\n",
       "    <tr>\n",
       "      <th>2</th>\n",
       "      <td>2</td>\n",
       "      <td>73.994366</td>\n",
       "    </tr>\n",
       "    <tr>\n",
       "      <th>0</th>\n",
       "      <td>0</td>\n",
       "      <td>73.663559</td>\n",
       "    </tr>\n",
       "    <tr>\n",
       "      <th>6</th>\n",
       "      <td>6</td>\n",
       "      <td>73.250630</td>\n",
       "    </tr>\n",
       "    <tr>\n",
       "      <th>3</th>\n",
       "      <td>3</td>\n",
       "      <td>73.054976</td>\n",
       "    </tr>\n",
       "    <tr>\n",
       "      <th>5</th>\n",
       "      <td>5</td>\n",
       "      <td>72.682246</td>\n",
       "    </tr>\n",
       "  </tbody>\n",
       "</table>\n",
       "</div>"
      ],
      "text/plain": [
       "   region         uv\n",
       "1       1  75.468545\n",
       "4       4  74.925451\n",
       "2       2  73.994366\n",
       "0       0  73.663559\n",
       "6       6  73.250630\n",
       "3       3  73.054976\n",
       "5       5  72.682246"
      ]
     },
     "execution_count": 104,
     "metadata": {},
     "output_type": "execute_result"
    }
   ],
   "source": [
    "sns.barplot(x='region', y='uv', data=df)\n",
    "plt.ylabel(\"uv\")\n",
    "plt.title(\"uv as region\", fontsize=16)\n",
    "plt.show()\n",
    "df[[\"region\", \"uv\"]].groupby(['region'], as_index=False).mean().sort_values(by='uv', ascending=False)"
   ]
  },
  {
   "cell_type": "markdown",
   "metadata": {},
   "source": [
    "# 4. Prediction"
   ]
  },
  {
   "cell_type": "markdown",
   "metadata": {},
   "source": [
    "#### 4.1 Split data"
   ]
  },
  {
   "cell_type": "code",
   "execution_count": 153,
   "metadata": {},
   "outputs": [],
   "source": [
    "y = df['yield_by_hec']"
   ]
  },
  {
   "cell_type": "code",
   "execution_count": 154,
   "metadata": {},
   "outputs": [],
   "source": [
    "X=df[['water','uv','fertilizer_usage','pesticides','region','categories_id']]\n",
    "#X=df[[ 'water','fertilizer_usage', 'region' ]]"
   ]
  },
  {
   "cell_type": "code",
   "execution_count": 155,
   "metadata": {},
   "outputs": [],
   "source": [
    "from sklearn.model_selection import train_test_split\n",
    "X_train, X_test, y_train, y_test = train_test_split(\n",
    "                                    X, y, random_state=80, test_size=.33)"
   ]
  },
  {
   "cell_type": "markdown",
   "metadata": {},
   "source": [
    "#### 4.2 Prediction"
   ]
  },
  {
   "cell_type": "markdown",
   "metadata": {},
   "source": [
    "LinearRegression"
   ]
  },
  {
   "cell_type": "code",
   "execution_count": 156,
   "metadata": {},
   "outputs": [],
   "source": [
    "#Train the model\n",
    "from sklearn import linear_model\n",
    "model_linear = linear_model.LinearRegression()"
   ]
  },
  {
   "cell_type": "code",
   "execution_count": 157,
   "metadata": {},
   "outputs": [
    {
     "data": {
      "text/plain": [
       "LinearRegression(copy_X=True, fit_intercept=True, n_jobs=None,\n",
       "         normalize=False)"
      ]
     },
     "execution_count": 157,
     "metadata": {},
     "output_type": "execute_result"
    }
   ],
   "source": [
    "model_linear.fit(X_train, y_train)"
   ]
  },
  {
   "cell_type": "code",
   "execution_count": 158,
   "metadata": {},
   "outputs": [
    {
     "name": "stdout",
     "output_type": "stream",
     "text": [
      "R^2 is: \n",
      " 67.66176972494544\n"
     ]
    }
   ],
   "source": [
    "print (\"R^2 is: \\n\", model_linear.score(X_test, y_test)*100)"
   ]
  },
  {
   "cell_type": "code",
   "execution_count": 159,
   "metadata": {},
   "outputs": [
    {
     "name": "stdout",
     "output_type": "stream",
     "text": [
      "MSE is: \n",
      " 2.4324718030833408\n"
     ]
    }
   ],
   "source": [
    "prediction_linear=  model_linear.predict(X_test)\n",
    "print ('MSE is: \\n', mean_squared_error(y_test, prediction_linear))"
   ]
  },
  {
   "cell_type": "markdown",
   "metadata": {},
   "source": [
    "RandomForestRegressor gives a much better prediction"
   ]
  },
  {
   "cell_type": "code",
   "execution_count": 160,
   "metadata": {},
   "outputs": [],
   "source": [
    "#Train the model\n",
    "from sklearn.ensemble import RandomForestRegressor\n",
    "model_random = RandomForestRegressor(n_estimators=1000)"
   ]
  },
  {
   "cell_type": "code",
   "execution_count": 161,
   "metadata": {},
   "outputs": [
    {
     "data": {
      "text/plain": [
       "RandomForestRegressor(bootstrap=True, criterion='mse', max_depth=None,\n",
       "           max_features='auto', max_leaf_nodes=None,\n",
       "           min_impurity_decrease=0.0, min_impurity_split=None,\n",
       "           min_samples_leaf=1, min_samples_split=2,\n",
       "           min_weight_fraction_leaf=0.0, n_estimators=1000, n_jobs=None,\n",
       "           oob_score=False, random_state=None, verbose=0, warm_start=False)"
      ]
     },
     "execution_count": 161,
     "metadata": {},
     "output_type": "execute_result"
    }
   ],
   "source": [
    "model_random.fit(X_train, y_train)"
   ]
  },
  {
   "cell_type": "code",
   "execution_count": 162,
   "metadata": {},
   "outputs": [
    {
     "name": "stdout",
     "output_type": "stream",
     "text": [
      "R^2 is: \n",
      " 88.26888012400794\n"
     ]
    }
   ],
   "source": [
    "print (\"R^2 is: \\n\", model_random.score(X_test, y_test)*100)"
   ]
  },
  {
   "cell_type": "code",
   "execution_count": 163,
   "metadata": {},
   "outputs": [
    {
     "name": "stdout",
     "output_type": "stream",
     "text": [
      "MSE is: \n",
      " 0.8824112536224148\n"
     ]
    }
   ],
   "source": [
    "prediction_random=  model_random.predict(X_test)\n",
    "print ('MSE is: \\n', mean_squared_error(y_test, prediction_random))"
   ]
  },
  {
   "cell_type": "markdown",
   "metadata": {},
   "source": [
    "#### GradientBoostingRegressor is even better"
   ]
  },
  {
   "cell_type": "code",
   "execution_count": 164,
   "metadata": {},
   "outputs": [],
   "source": [
    "#Train the model\n",
    "from sklearn.ensemble import GradientBoostingRegressor\n",
    "GBR = GradientBoostingRegressor(n_estimators=100, max_depth=4)"
   ]
  },
  {
   "cell_type": "code",
   "execution_count": 166,
   "metadata": {},
   "outputs": [
    {
     "data": {
      "text/plain": [
       "GradientBoostingRegressor(alpha=0.9, criterion='friedman_mse', init=None,\n",
       "             learning_rate=0.1, loss='ls', max_depth=4, max_features=None,\n",
       "             max_leaf_nodes=None, min_impurity_decrease=0.0,\n",
       "             min_impurity_split=None, min_samples_leaf=1,\n",
       "             min_samples_split=2, min_weight_fraction_leaf=0.0,\n",
       "             n_estimators=100, n_iter_no_change=None, presort='auto',\n",
       "             random_state=None, subsample=1.0, tol=0.0001,\n",
       "             validation_fraction=0.1, verbose=0, warm_start=False)"
      ]
     },
     "execution_count": 166,
     "metadata": {},
     "output_type": "execute_result"
    }
   ],
   "source": [
    "GBR.fit(X_train, y_train)"
   ]
  },
  {
   "cell_type": "code",
   "execution_count": 167,
   "metadata": {},
   "outputs": [
    {
     "name": "stdout",
     "output_type": "stream",
     "text": [
      "R^2 is: \n",
      " 90.57786355739339\n"
     ]
    }
   ],
   "source": [
    "print (\"R^2 is: \\n\", GBR.score(X_test, y_test)*100)"
   ]
  },
  {
   "cell_type": "code",
   "execution_count": 168,
   "metadata": {},
   "outputs": [
    {
     "name": "stdout",
     "output_type": "stream",
     "text": [
      "MSE is: \n",
      " 0.7087302250774105\n"
     ]
    }
   ],
   "source": [
    "from sklearn.metrics import mean_squared_error\n",
    "prediction_gradient = GBR.predict(X_test)\n",
    "print ('MSE is: \\n', mean_squared_error(y_test, prediction_gradient))"
   ]
  },
  {
   "cell_type": "markdown",
   "metadata": {},
   "source": [
    "#### 4.3 Compare the predictions with actual values"
   ]
  },
  {
   "cell_type": "code",
   "execution_count": 169,
   "metadata": {},
   "outputs": [
    {
     "data": {
      "text/plain": [
       "Text(0.5, 1.0, 'Linear Regression Model')"
      ]
     },
     "execution_count": 169,
     "metadata": {},
     "output_type": "execute_result"
    },
    {
     "data": {
      "image/png": "[encoded data removed]",
      "text/plain": [
       "<Figure size 432x288 with 1 Axes>"
      ]
     },
     "metadata": {
      "needs_background": "light"
     },
     "output_type": "display_data"
    }
   ],
   "source": [
    "actual_values = y_test\n",
    "plt.scatter(prediction_linear, actual_values, alpha=.75,\n",
    "            color='b') #alpha helps to show overlapping data\n",
    "plt.xlabel('Predicted Yield')\n",
    "plt.ylabel('Actual Yield')\n",
    "plt.title('Linear Regression Model')\n",
    "#pltrandom_state=None.show()"
   ]
  },
  {
   "cell_type": "code",
   "execution_count": 170,
   "metadata": {},
   "outputs": [
    {
     "data": {
      "text/plain": [
       "Text(0.5, 1.0, 'RandomForestRegressor Model')"
      ]
     },
     "execution_count": 170,
     "metadata": {},
     "output_type": "execute_result"
    },
    {
     "data": {
      "image/png": "[encoded data removed]",
      "text/plain": [
       "<Figure size 432x288 with 1 Axes>"
      ]
     },
     "metadata": {
      "needs_background": "light"
     },
     "output_type": "display_data"
    }
   ],
   "source": [
    "actual_values = y_test\n",
    "plt.scatter(prediction_random, actual_values, alpha=.75,\n",
    "            color='b') #alpha helps to show overlapping data\n",
    "plt.xlabel('Predicted Yield')\n",
    "plt.ylabel('Actual Yield')\n",
    "plt.title('RandomForestRegressor Model')\n",
    "#pltrandom_state=None.show()"
   ]
  },
  {
   "cell_type": "code",
   "execution_count": 171,
   "metadata": {},
   "outputs": [
    {
     "data": {
      "text/plain": [
       "Text(0.5, 1.0, 'GradientBoostingRegressorr Model')"
      ]
     },
     "execution_count": 171,
     "metadata": {},
     "output_type": "execute_result"
    },
    {
     "data": {
      "image/png": "[encoded data removed]",
      "text/plain": [
       "<Figure size 432x288 with 1 Axes>"
      ]
     },
     "metadata": {
      "needs_background": "light"
     },
     "output_type": "display_data"
    }
   ],
   "source": [
    "actual_values = y_test\n",
    "plt.scatter(prediction_gradient, actual_values, alpha=.75,\n",
    "            color='b') #alpha helps to show overlapping data\n",
    "plt.xlabel('Predicted Yield')\n",
    "plt.ylabel('Actual Yield')\n",
    "plt.title('GradientBoostingRegressorr Model')\n",
    "#pltrandom_state=None.show()"
   ]
  },
  {
   "cell_type": "code",
   "execution_count": null,
   "metadata": {},
   "outputs": [],
   "source": []
  }
 ],
 "metadata": {
  "kernelspec": {
   "display_name": "Python 3",
   "language": "python",
   "name": "python3"
  },
  "language_info": {
   "codemirror_mode": {
    "name": "ipython",
    "version": 3
   },
   "file_extension": ".py",
   "mimetype": "text/x-python",
   "name": "python",
   "nbconvert_exporter": "python",
   "pygments_lexer": "ipython3",
   "version": "3.7.3"
  }
 },
 "nbformat": 4,
 "nbformat_minor": 2
}
