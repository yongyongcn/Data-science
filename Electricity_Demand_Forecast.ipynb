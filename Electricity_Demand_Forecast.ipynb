{
 "cells": [
  {
   "cell_type": "code",
   "execution_count": 1,
   "metadata": {},
   "outputs": [],
   "source": [
    "import pandas as pd\n",
    "import numpy as np\n",
    "import matplotlib.pyplot as plt\n",
    "import seaborn as sns\n",
    "from sklearn.linear_model import LinearRegression\n",
    "from scipy import stats\n",
    "from scipy.stats import norm, skew #for some statistics\n"
   ]
  },
  {
   "cell_type": "code",
   "execution_count": 2,
   "metadata": {},
   "outputs": [
    {
     "data": {
      "text/html": [
       "<div>\n",
       "<style scoped>\n",
       "    .dataframe tbody tr th:only-of-type {\n",
       "        vertical-align: middle;\n",
       "    }\n",
       "\n",
       "    .dataframe tbody tr th {\n",
       "        vertical-align: top;\n",
       "    }\n",
       "\n",
       "    .dataframe thead th {\n",
       "        text-align: right;\n",
       "    }\n",
       "</style>\n",
       "<table border=\"1\" class=\"dataframe\">\n",
       "  <thead>\n",
       "    <tr style=\"text-align: right;\">\n",
       "      <th></th>\n",
       "      <th>OPR_DATE</th>\n",
       "      <th>OPR_HOUR</th>\n",
       "      <th>LOCATION</th>\n",
       "      <th>TMP</th>\n",
       "      <th>ACTUAL_DEMAND</th>\n",
       "    </tr>\n",
       "  </thead>\n",
       "  <tbody>\n",
       "    <tr>\n",
       "      <th>0</th>\n",
       "      <td>2017-01-01</td>\n",
       "      <td>1</td>\n",
       "      <td>Calgary</td>\n",
       "      <td>-8.9</td>\n",
       "      <td>9480.0</td>\n",
       "    </tr>\n",
       "    <tr>\n",
       "      <th>1</th>\n",
       "      <td>2017-01-01</td>\n",
       "      <td>2</td>\n",
       "      <td>Calgary</td>\n",
       "      <td>-10.0</td>\n",
       "      <td>9326.0</td>\n",
       "    </tr>\n",
       "    <tr>\n",
       "      <th>2</th>\n",
       "      <td>2017-01-01</td>\n",
       "      <td>3</td>\n",
       "      <td>Calgary</td>\n",
       "      <td>-10.0</td>\n",
       "      <td>9252.0</td>\n",
       "    </tr>\n",
       "    <tr>\n",
       "      <th>3</th>\n",
       "      <td>2017-01-01</td>\n",
       "      <td>4</td>\n",
       "      <td>Calgary</td>\n",
       "      <td>-10.0</td>\n",
       "      <td>9175.0</td>\n",
       "    </tr>\n",
       "    <tr>\n",
       "      <th>4</th>\n",
       "      <td>2017-01-01</td>\n",
       "      <td>5</td>\n",
       "      <td>Calgary</td>\n",
       "      <td>-11.1</td>\n",
       "      <td>9125.0</td>\n",
       "    </tr>\n",
       "  </tbody>\n",
       "</table>\n",
       "</div>"
      ],
      "text/plain": [
       "    OPR_DATE  OPR_HOUR LOCATION   TMP  ACTUAL_DEMAND\n",
       "0 2017-01-01         1  Calgary  -8.9         9480.0\n",
       "1 2017-01-01         2  Calgary -10.0         9326.0\n",
       "2 2017-01-01         3  Calgary -10.0         9252.0\n",
       "3 2017-01-01         4  Calgary -10.0         9175.0\n",
       "4 2017-01-01         5  Calgary -11.1         9125.0"
      ]
     },
     "execution_count": 2,
     "metadata": {},
     "output_type": "execute_result"
    }
   ],
   "source": [
    "path = \"C:/Users/15878/Documents/PythonScripts/Interview Screening Data_saved.xlsx\"\n",
    "df = pd.read_excel(path)\n",
    "df.head()"
   ]
  },
  {
   "cell_type": "code",
   "execution_count": 3,
   "metadata": {},
   "outputs": [
    {
     "data": {
      "text/plain": [
       "array(['Calgary'], dtype=object)"
      ]
     },
     "execution_count": 3,
     "metadata": {},
     "output_type": "execute_result"
    }
   ],
   "source": [
    "df['LOCATION'].unique()"
   ]
  },
  {
   "cell_type": "code",
   "execution_count": 4,
   "metadata": {},
   "outputs": [
    {
     "data": {
      "text/html": [
       "<div>\n",
       "<style scoped>\n",
       "    .dataframe tbody tr th:only-of-type {\n",
       "        vertical-align: middle;\n",
       "    }\n",
       "\n",
       "    .dataframe tbody tr th {\n",
       "        vertical-align: top;\n",
       "    }\n",
       "\n",
       "    .dataframe thead th {\n",
       "        text-align: right;\n",
       "    }\n",
       "</style>\n",
       "<table border=\"1\" class=\"dataframe\">\n",
       "  <thead>\n",
       "    <tr style=\"text-align: right;\">\n",
       "      <th></th>\n",
       "      <th>OPR_DATE</th>\n",
       "      <th>OPR_HOUR</th>\n",
       "      <th>TMP</th>\n",
       "      <th>ACTUAL_DEMAND</th>\n",
       "    </tr>\n",
       "  </thead>\n",
       "  <tbody>\n",
       "    <tr>\n",
       "      <th>0</th>\n",
       "      <td>2017-01-01</td>\n",
       "      <td>1</td>\n",
       "      <td>-8.9</td>\n",
       "      <td>9480.0</td>\n",
       "    </tr>\n",
       "    <tr>\n",
       "      <th>1</th>\n",
       "      <td>2017-01-01</td>\n",
       "      <td>2</td>\n",
       "      <td>-10.0</td>\n",
       "      <td>9326.0</td>\n",
       "    </tr>\n",
       "    <tr>\n",
       "      <th>2</th>\n",
       "      <td>2017-01-01</td>\n",
       "      <td>3</td>\n",
       "      <td>-10.0</td>\n",
       "      <td>9252.0</td>\n",
       "    </tr>\n",
       "    <tr>\n",
       "      <th>3</th>\n",
       "      <td>2017-01-01</td>\n",
       "      <td>4</td>\n",
       "      <td>-10.0</td>\n",
       "      <td>9175.0</td>\n",
       "    </tr>\n",
       "    <tr>\n",
       "      <th>4</th>\n",
       "      <td>2017-01-01</td>\n",
       "      <td>5</td>\n",
       "      <td>-11.1</td>\n",
       "      <td>9125.0</td>\n",
       "    </tr>\n",
       "  </tbody>\n",
       "</table>\n",
       "</div>"
      ],
      "text/plain": [
       "    OPR_DATE  OPR_HOUR   TMP  ACTUAL_DEMAND\n",
       "0 2017-01-01         1  -8.9         9480.0\n",
       "1 2017-01-01         2 -10.0         9326.0\n",
       "2 2017-01-01         3 -10.0         9252.0\n",
       "3 2017-01-01         4 -10.0         9175.0\n",
       "4 2017-01-01         5 -11.1         9125.0"
      ]
     },
     "execution_count": 4,
     "metadata": {},
     "output_type": "execute_result"
    }
   ],
   "source": [
    "df.drop(['LOCATION' ], axis=1, inplace=True)\n",
    "df.head()"
   ]
  },
  {
   "cell_type": "code",
   "execution_count": 5,
   "metadata": {},
   "outputs": [
    {
     "data": {
      "text/html": [
       "<div>\n",
       "<style scoped>\n",
       "    .dataframe tbody tr th:only-of-type {\n",
       "        vertical-align: middle;\n",
       "    }\n",
       "\n",
       "    .dataframe tbody tr th {\n",
       "        vertical-align: top;\n",
       "    }\n",
       "\n",
       "    .dataframe thead th {\n",
       "        text-align: right;\n",
       "    }\n",
       "</style>\n",
       "<table border=\"1\" class=\"dataframe\">\n",
       "  <thead>\n",
       "    <tr style=\"text-align: right;\">\n",
       "      <th></th>\n",
       "      <th>OPR_HOUR</th>\n",
       "      <th>TMP</th>\n",
       "      <th>ACTUAL_DEMAND</th>\n",
       "    </tr>\n",
       "  </thead>\n",
       "  <tbody>\n",
       "    <tr>\n",
       "      <th>count</th>\n",
       "      <td>17400.000000</td>\n",
       "      <td>17400.000000</td>\n",
       "      <td>17399.000000</td>\n",
       "    </tr>\n",
       "    <tr>\n",
       "      <th>mean</th>\n",
       "      <td>12.500000</td>\n",
       "      <td>4.849879</td>\n",
       "      <td>9584.142077</td>\n",
       "    </tr>\n",
       "    <tr>\n",
       "      <th>std</th>\n",
       "      <td>6.922385</td>\n",
       "      <td>11.946525</td>\n",
       "      <td>782.821579</td>\n",
       "    </tr>\n",
       "    <tr>\n",
       "      <th>min</th>\n",
       "      <td>1.000000</td>\n",
       "      <td>-30.000000</td>\n",
       "      <td>7600.000000</td>\n",
       "    </tr>\n",
       "    <tr>\n",
       "      <th>25%</th>\n",
       "      <td>6.750000</td>\n",
       "      <td>-2.800000</td>\n",
       "      <td>9048.000000</td>\n",
       "    </tr>\n",
       "    <tr>\n",
       "      <th>50%</th>\n",
       "      <td>12.500000</td>\n",
       "      <td>5.000000</td>\n",
       "      <td>9589.000000</td>\n",
       "    </tr>\n",
       "    <tr>\n",
       "      <th>75%</th>\n",
       "      <td>18.250000</td>\n",
       "      <td>13.900000</td>\n",
       "      <td>10174.500000</td>\n",
       "    </tr>\n",
       "    <tr>\n",
       "      <th>max</th>\n",
       "      <td>24.000000</td>\n",
       "      <td>36.100000</td>\n",
       "      <td>11697.000000</td>\n",
       "    </tr>\n",
       "  </tbody>\n",
       "</table>\n",
       "</div>"
      ],
      "text/plain": [
       "           OPR_HOUR           TMP  ACTUAL_DEMAND\n",
       "count  17400.000000  17400.000000   17399.000000\n",
       "mean      12.500000      4.849879    9584.142077\n",
       "std        6.922385     11.946525     782.821579\n",
       "min        1.000000    -30.000000    7600.000000\n",
       "25%        6.750000     -2.800000    9048.000000\n",
       "50%       12.500000      5.000000    9589.000000\n",
       "75%       18.250000     13.900000   10174.500000\n",
       "max       24.000000     36.100000   11697.000000"
      ]
     },
     "execution_count": 5,
     "metadata": {},
     "output_type": "execute_result"
    }
   ],
   "source": [
    "df.describe()"
   ]
  },
  {
   "cell_type": "code",
   "execution_count": 6,
   "metadata": {},
   "outputs": [
    {
     "data": {
      "text/plain": [
       "OPR_DATE         0\n",
       "OPR_HOUR         0\n",
       "TMP              0\n",
       "ACTUAL_DEMAND    1\n",
       "dtype: int64"
      ]
     },
     "execution_count": 6,
     "metadata": {},
     "output_type": "execute_result"
    }
   ],
   "source": [
    " df.isnull().sum(axis = 0)"
   ]
  },
  {
   "cell_type": "code",
   "execution_count": 7,
   "metadata": {},
   "outputs": [
    {
     "data": {
      "text/plain": [
       "OPR_DATE         datetime64[ns]\n",
       "OPR_HOUR                  int64\n",
       "TMP                     float64\n",
       "ACTUAL_DEMAND           float64\n",
       "dtype: object"
      ]
     },
     "execution_count": 7,
     "metadata": {},
     "output_type": "execute_result"
    }
   ],
   "source": [
    "df.dtypes"
   ]
  },
  {
   "cell_type": "code",
   "execution_count": 8,
   "metadata": {},
   "outputs": [],
   "source": [
    "df.dropna(subset=['ACTUAL_DEMAND'],  inplace = True)"
   ]
  },
  {
   "cell_type": "code",
   "execution_count": 9,
   "metadata": {},
   "outputs": [
    {
     "data": {
      "text/html": [
       "<div>\n",
       "<style scoped>\n",
       "    .dataframe tbody tr th:only-of-type {\n",
       "        vertical-align: middle;\n",
       "    }\n",
       "\n",
       "    .dataframe tbody tr th {\n",
       "        vertical-align: top;\n",
       "    }\n",
       "\n",
       "    .dataframe thead th {\n",
       "        text-align: right;\n",
       "    }\n",
       "</style>\n",
       "<table border=\"1\" class=\"dataframe\">\n",
       "  <thead>\n",
       "    <tr style=\"text-align: right;\">\n",
       "      <th></th>\n",
       "      <th>OPR_HOUR</th>\n",
       "      <th>TMP</th>\n",
       "      <th>ACTUAL_DEMAND</th>\n",
       "    </tr>\n",
       "  </thead>\n",
       "  <tbody>\n",
       "    <tr>\n",
       "      <th>count</th>\n",
       "      <td>17399.000000</td>\n",
       "      <td>17399.000000</td>\n",
       "      <td>17399.000000</td>\n",
       "    </tr>\n",
       "    <tr>\n",
       "      <th>mean</th>\n",
       "      <td>12.500603</td>\n",
       "      <td>4.850606</td>\n",
       "      <td>9584.142077</td>\n",
       "    </tr>\n",
       "    <tr>\n",
       "      <th>std</th>\n",
       "      <td>6.922127</td>\n",
       "      <td>11.946484</td>\n",
       "      <td>782.821579</td>\n",
       "    </tr>\n",
       "    <tr>\n",
       "      <th>min</th>\n",
       "      <td>1.000000</td>\n",
       "      <td>-30.000000</td>\n",
       "      <td>7600.000000</td>\n",
       "    </tr>\n",
       "    <tr>\n",
       "      <th>25%</th>\n",
       "      <td>7.000000</td>\n",
       "      <td>-2.800000</td>\n",
       "      <td>9048.000000</td>\n",
       "    </tr>\n",
       "    <tr>\n",
       "      <th>50%</th>\n",
       "      <td>13.000000</td>\n",
       "      <td>5.000000</td>\n",
       "      <td>9589.000000</td>\n",
       "    </tr>\n",
       "    <tr>\n",
       "      <th>75%</th>\n",
       "      <td>18.500000</td>\n",
       "      <td>13.900000</td>\n",
       "      <td>10174.500000</td>\n",
       "    </tr>\n",
       "    <tr>\n",
       "      <th>max</th>\n",
       "      <td>24.000000</td>\n",
       "      <td>36.100000</td>\n",
       "      <td>11697.000000</td>\n",
       "    </tr>\n",
       "  </tbody>\n",
       "</table>\n",
       "</div>"
      ],
      "text/plain": [
       "           OPR_HOUR           TMP  ACTUAL_DEMAND\n",
       "count  17399.000000  17399.000000   17399.000000\n",
       "mean      12.500603      4.850606    9584.142077\n",
       "std        6.922127     11.946484     782.821579\n",
       "min        1.000000    -30.000000    7600.000000\n",
       "25%        7.000000     -2.800000    9048.000000\n",
       "50%       13.000000      5.000000    9589.000000\n",
       "75%       18.500000     13.900000   10174.500000\n",
       "max       24.000000     36.100000   11697.000000"
      ]
     },
     "execution_count": 9,
     "metadata": {},
     "output_type": "execute_result"
    }
   ],
   "source": [
    "df.describe()"
   ]
  },
  {
   "cell_type": "markdown",
   "metadata": {},
   "source": [
    "# add new columns"
   ]
  },
  {
   "cell_type": "code",
   "execution_count": 10,
   "metadata": {},
   "outputs": [
    {
     "data": {
      "text/plain": [
       "array(['Sunday', 'Monday', 'Tuesday', 'Wednesday', 'Thursday', 'Friday',\n",
       "       'Saturday'], dtype=object)"
      ]
     },
     "execution_count": 10,
     "metadata": {},
     "output_type": "execute_result"
    }
   ],
   "source": [
    "df['WEEKDAY']=df['OPR_DATE'].dt.weekday_name\n",
    "df.head()\n",
    "df['WEEKDAY'].unique()"
   ]
  },
  {
   "cell_type": "code",
   "execution_count": 11,
   "metadata": {},
   "outputs": [
    {
     "data": {
      "text/plain": [
       "array([1, 0], dtype=int64)"
      ]
     },
     "execution_count": 11,
     "metadata": {},
     "output_type": "execute_result"
    }
   ],
   "source": [
    "df['WEEKDAY'].replace(to_replace=['Sunday', 'Saturday'],value= 1,inplace=True)\n",
    "df['WEEKDAY'].replace(to_replace=['Monday', 'Tuesday', 'Wednesday', 'Thursday', 'Friday'],value= 0,inplace=True)\n",
    "df['WEEKDAY'].unique()"
   ]
  },
  {
   "cell_type": "code",
   "execution_count": 12,
   "metadata": {},
   "outputs": [
    {
     "data": {
      "text/html": [
       "<div>\n",
       "<style scoped>\n",
       "    .dataframe tbody tr th:only-of-type {\n",
       "        vertical-align: middle;\n",
       "    }\n",
       "\n",
       "    .dataframe tbody tr th {\n",
       "        vertical-align: top;\n",
       "    }\n",
       "\n",
       "    .dataframe thead th {\n",
       "        text-align: right;\n",
       "    }\n",
       "</style>\n",
       "<table border=\"1\" class=\"dataframe\">\n",
       "  <thead>\n",
       "    <tr style=\"text-align: right;\">\n",
       "      <th></th>\n",
       "      <th>OPR_DATE</th>\n",
       "      <th>OPR_HOUR</th>\n",
       "      <th>TMP</th>\n",
       "      <th>ACTUAL_DEMAND</th>\n",
       "      <th>WEEKDAY</th>\n",
       "      <th>month_year</th>\n",
       "    </tr>\n",
       "  </thead>\n",
       "  <tbody>\n",
       "    <tr>\n",
       "      <th>0</th>\n",
       "      <td>2017-01-01</td>\n",
       "      <td>1</td>\n",
       "      <td>-8.9</td>\n",
       "      <td>9480.0</td>\n",
       "      <td>1</td>\n",
       "      <td>2017-01</td>\n",
       "    </tr>\n",
       "    <tr>\n",
       "      <th>1</th>\n",
       "      <td>2017-01-01</td>\n",
       "      <td>2</td>\n",
       "      <td>-10.0</td>\n",
       "      <td>9326.0</td>\n",
       "      <td>1</td>\n",
       "      <td>2017-01</td>\n",
       "    </tr>\n",
       "    <tr>\n",
       "      <th>2</th>\n",
       "      <td>2017-01-01</td>\n",
       "      <td>3</td>\n",
       "      <td>-10.0</td>\n",
       "      <td>9252.0</td>\n",
       "      <td>1</td>\n",
       "      <td>2017-01</td>\n",
       "    </tr>\n",
       "    <tr>\n",
       "      <th>3</th>\n",
       "      <td>2017-01-01</td>\n",
       "      <td>4</td>\n",
       "      <td>-10.0</td>\n",
       "      <td>9175.0</td>\n",
       "      <td>1</td>\n",
       "      <td>2017-01</td>\n",
       "    </tr>\n",
       "    <tr>\n",
       "      <th>4</th>\n",
       "      <td>2017-01-01</td>\n",
       "      <td>5</td>\n",
       "      <td>-11.1</td>\n",
       "      <td>9125.0</td>\n",
       "      <td>1</td>\n",
       "      <td>2017-01</td>\n",
       "    </tr>\n",
       "  </tbody>\n",
       "</table>\n",
       "</div>"
      ],
      "text/plain": [
       "    OPR_DATE  OPR_HOUR   TMP  ACTUAL_DEMAND  WEEKDAY month_year\n",
       "0 2017-01-01         1  -8.9         9480.0        1    2017-01\n",
       "1 2017-01-01         2 -10.0         9326.0        1    2017-01\n",
       "2 2017-01-01         3 -10.0         9252.0        1    2017-01\n",
       "3 2017-01-01         4 -10.0         9175.0        1    2017-01\n",
       "4 2017-01-01         5 -11.1         9125.0        1    2017-01"
      ]
     },
     "execution_count": 12,
     "metadata": {},
     "output_type": "execute_result"
    }
   ],
   "source": [
    "df['month_year'] = pd.to_datetime(df['OPR_DATE']).dt.to_period('M')\n",
    "df.head()"
   ]
  },
  {
   "cell_type": "code",
   "execution_count": 13,
   "metadata": {},
   "outputs": [],
   "source": [
    "df['month']=pd.DatetimeIndex(df['OPR_DATE']).month\n",
    " "
   ]
  },
  {
   "cell_type": "code",
   "execution_count": 14,
   "metadata": {},
   "outputs": [
    {
     "data": {
      "text/html": [
       "<div>\n",
       "<style scoped>\n",
       "    .dataframe tbody tr th:only-of-type {\n",
       "        vertical-align: middle;\n",
       "    }\n",
       "\n",
       "    .dataframe tbody tr th {\n",
       "        vertical-align: top;\n",
       "    }\n",
       "\n",
       "    .dataframe thead th {\n",
       "        text-align: right;\n",
       "    }\n",
       "</style>\n",
       "<table border=\"1\" class=\"dataframe\">\n",
       "  <thead>\n",
       "    <tr style=\"text-align: right;\">\n",
       "      <th></th>\n",
       "      <th>OPR_HOUR</th>\n",
       "      <th>TMP</th>\n",
       "      <th>ACTUAL_DEMAND</th>\n",
       "      <th>WEEKDAY</th>\n",
       "      <th>month</th>\n",
       "    </tr>\n",
       "  </thead>\n",
       "  <tbody>\n",
       "    <tr>\n",
       "      <th>OPR_HOUR</th>\n",
       "      <td>1.000000</td>\n",
       "      <td>0.150213</td>\n",
       "      <td>0.424348</td>\n",
       "      <td>0.000138</td>\n",
       "      <td>-0.000089</td>\n",
       "    </tr>\n",
       "    <tr>\n",
       "      <th>TMP</th>\n",
       "      <td>0.150213</td>\n",
       "      <td>1.000000</td>\n",
       "      <td>-0.337184</td>\n",
       "      <td>-0.008819</td>\n",
       "      <td>0.188826</td>\n",
       "    </tr>\n",
       "    <tr>\n",
       "      <th>ACTUAL_DEMAND</th>\n",
       "      <td>0.424348</td>\n",
       "      <td>-0.337184</td>\n",
       "      <td>1.000000</td>\n",
       "      <td>-0.179345</td>\n",
       "      <td>-0.007804</td>\n",
       "    </tr>\n",
       "    <tr>\n",
       "      <th>WEEKDAY</th>\n",
       "      <td>0.000138</td>\n",
       "      <td>-0.008819</td>\n",
       "      <td>-0.179345</td>\n",
       "      <td>1.000000</td>\n",
       "      <td>0.010754</td>\n",
       "    </tr>\n",
       "    <tr>\n",
       "      <th>month</th>\n",
       "      <td>-0.000089</td>\n",
       "      <td>0.188826</td>\n",
       "      <td>-0.007804</td>\n",
       "      <td>0.010754</td>\n",
       "      <td>1.000000</td>\n",
       "    </tr>\n",
       "  </tbody>\n",
       "</table>\n",
       "</div>"
      ],
      "text/plain": [
       "               OPR_HOUR       TMP  ACTUAL_DEMAND   WEEKDAY     month\n",
       "OPR_HOUR       1.000000  0.150213       0.424348  0.000138 -0.000089\n",
       "TMP            0.150213  1.000000      -0.337184 -0.008819  0.188826\n",
       "ACTUAL_DEMAND  0.424348 -0.337184       1.000000 -0.179345 -0.007804\n",
       "WEEKDAY        0.000138 -0.008819      -0.179345  1.000000  0.010754\n",
       "month         -0.000089  0.188826      -0.007804  0.010754  1.000000"
      ]
     },
     "execution_count": 14,
     "metadata": {},
     "output_type": "execute_result"
    }
   ],
   "source": [
    "df.corr()"
   ]
  },
  {
   "cell_type": "code",
   "execution_count": 15,
   "metadata": {},
   "outputs": [
    {
     "name": "stdout",
     "output_type": "stream",
     "text": [
      "Skew is: -0.09088723084751026\n",
      "\n",
      " mu = 9584.14 and sigma = 782.80\n",
      "\n"
     ]
    },
    {
     "data": {
      "image/png": "[encoded data removed]",
      "text/plain": [
       "<Figure size 432x288 with 1 Axes>"
      ]
     },
     "metadata": {
      "needs_background": "light"
     },
     "output_type": "display_data"
    },
    {
     "data": {
      "image/png": "[encoded data removed]",
      "text/plain": [
       "<Figure size 432x288 with 1 Axes>"
      ]
     },
     "metadata": {
      "needs_background": "light"
     },
     "output_type": "display_data"
    }
   ],
   "source": [
    "sns.distplot(df['ACTUAL_DEMAND'] , fit=norm );\n",
    "print (\"Skew is:\", df.ACTUAL_DEMAND.skew())\n",
    "# Get the fitted parameters used by the function\n",
    "(mu, sigma) = norm.fit(df['ACTUAL_DEMAND'])\n",
    "print( '\\n mu = {:.2f} and sigma = {:.2f}\\n'.format(mu, sigma))\n",
    "\n",
    "#Now plot the distribution\n",
    "plt.legend(['Normal dist. ($\\mu=$ {:.2f} and $\\sigma=$ {:.2f} )'.format(mu, sigma)],\n",
    "            loc='best')\n",
    "plt.ylabel('Frequency')\n",
    "plt.title('ACTUAL_DEMAND distribution')\n",
    "\n",
    "#Get also the QQ-plot\n",
    "fig = plt.figure()\n",
    "res = stats.probplot(df['ACTUAL_DEMAND'], plot=plt)\n",
    "plt.show()"
   ]
  },
  {
   "cell_type": "code",
   "execution_count": 16,
   "metadata": {},
   "outputs": [
    {
     "data": {
      "text/html": [
       "<div>\n",
       "<style scoped>\n",
       "    .dataframe tbody tr th:only-of-type {\n",
       "        vertical-align: middle;\n",
       "    }\n",
       "\n",
       "    .dataframe tbody tr th {\n",
       "        vertical-align: top;\n",
       "    }\n",
       "\n",
       "    .dataframe thead th {\n",
       "        text-align: right;\n",
       "    }\n",
       "</style>\n",
       "<table border=\"1\" class=\"dataframe\">\n",
       "  <thead>\n",
       "    <tr style=\"text-align: right;\">\n",
       "      <th></th>\n",
       "      <th>OPR_DATE</th>\n",
       "      <th>OPR_HOUR</th>\n",
       "      <th>TMP</th>\n",
       "      <th>ACTUAL_DEMAND</th>\n",
       "      <th>WEEKDAY</th>\n",
       "      <th>month_year</th>\n",
       "      <th>month</th>\n",
       "    </tr>\n",
       "  </thead>\n",
       "  <tbody>\n",
       "    <tr>\n",
       "      <th>0</th>\n",
       "      <td>2017-01-01</td>\n",
       "      <td>1</td>\n",
       "      <td>-8.9</td>\n",
       "      <td>9480.0</td>\n",
       "      <td>1</td>\n",
       "      <td>2017-01</td>\n",
       "      <td>1</td>\n",
       "    </tr>\n",
       "    <tr>\n",
       "      <th>1</th>\n",
       "      <td>2017-01-01</td>\n",
       "      <td>2</td>\n",
       "      <td>-10.0</td>\n",
       "      <td>9326.0</td>\n",
       "      <td>1</td>\n",
       "      <td>2017-01</td>\n",
       "      <td>1</td>\n",
       "    </tr>\n",
       "    <tr>\n",
       "      <th>2</th>\n",
       "      <td>2017-01-01</td>\n",
       "      <td>3</td>\n",
       "      <td>-10.0</td>\n",
       "      <td>9252.0</td>\n",
       "      <td>1</td>\n",
       "      <td>2017-01</td>\n",
       "      <td>1</td>\n",
       "    </tr>\n",
       "    <tr>\n",
       "      <th>3</th>\n",
       "      <td>2017-01-01</td>\n",
       "      <td>4</td>\n",
       "      <td>-10.0</td>\n",
       "      <td>9175.0</td>\n",
       "      <td>1</td>\n",
       "      <td>2017-01</td>\n",
       "      <td>1</td>\n",
       "    </tr>\n",
       "    <tr>\n",
       "      <th>4</th>\n",
       "      <td>2017-01-01</td>\n",
       "      <td>5</td>\n",
       "      <td>-11.1</td>\n",
       "      <td>9125.0</td>\n",
       "      <td>1</td>\n",
       "      <td>2017-01</td>\n",
       "      <td>1</td>\n",
       "    </tr>\n",
       "  </tbody>\n",
       "</table>\n",
       "</div>"
      ],
      "text/plain": [
       "    OPR_DATE  OPR_HOUR   TMP  ACTUAL_DEMAND  WEEKDAY month_year  month\n",
       "0 2017-01-01         1  -8.9         9480.0        1    2017-01      1\n",
       "1 2017-01-01         2 -10.0         9326.0        1    2017-01      1\n",
       "2 2017-01-01         3 -10.0         9252.0        1    2017-01      1\n",
       "3 2017-01-01         4 -10.0         9175.0        1    2017-01      1\n",
       "4 2017-01-01         5 -11.1         9125.0        1    2017-01      1"
      ]
     },
     "execution_count": 16,
     "metadata": {},
     "output_type": "execute_result"
    }
   ],
   "source": [
    "df_original=df.copy()\n",
    "df_original.head()"
   ]
  },
  {
   "cell_type": "markdown",
   "metadata": {},
   "source": [
    "# without normolization\n"
   ]
  },
  {
   "cell_type": "code",
   "execution_count": 17,
   "metadata": {},
   "outputs": [
    {
     "data": {
      "text/html": [
       "<div>\n",
       "<style scoped>\n",
       "    .dataframe tbody tr th:only-of-type {\n",
       "        vertical-align: middle;\n",
       "    }\n",
       "\n",
       "    .dataframe tbody tr th {\n",
       "        vertical-align: top;\n",
       "    }\n",
       "\n",
       "    .dataframe thead th {\n",
       "        text-align: right;\n",
       "    }\n",
       "</style>\n",
       "<table border=\"1\" class=\"dataframe\">\n",
       "  <thead>\n",
       "    <tr style=\"text-align: right;\">\n",
       "      <th></th>\n",
       "      <th>OPR_DATE</th>\n",
       "      <th>OPR_HOUR</th>\n",
       "      <th>TMP</th>\n",
       "      <th>ACTUAL_DEMAND</th>\n",
       "      <th>WEEKDAY</th>\n",
       "      <th>month_year</th>\n",
       "      <th>month</th>\n",
       "    </tr>\n",
       "  </thead>\n",
       "  <tbody>\n",
       "    <tr>\n",
       "      <th>0</th>\n",
       "      <td>2017-01-01</td>\n",
       "      <td>1</td>\n",
       "      <td>-8.9</td>\n",
       "      <td>9480.0</td>\n",
       "      <td>1</td>\n",
       "      <td>2017-01</td>\n",
       "      <td>1</td>\n",
       "    </tr>\n",
       "    <tr>\n",
       "      <th>1</th>\n",
       "      <td>2017-01-01</td>\n",
       "      <td>2</td>\n",
       "      <td>-10.0</td>\n",
       "      <td>9326.0</td>\n",
       "      <td>1</td>\n",
       "      <td>2017-01</td>\n",
       "      <td>1</td>\n",
       "    </tr>\n",
       "    <tr>\n",
       "      <th>2</th>\n",
       "      <td>2017-01-01</td>\n",
       "      <td>3</td>\n",
       "      <td>-10.0</td>\n",
       "      <td>9252.0</td>\n",
       "      <td>1</td>\n",
       "      <td>2017-01</td>\n",
       "      <td>1</td>\n",
       "    </tr>\n",
       "    <tr>\n",
       "      <th>3</th>\n",
       "      <td>2017-01-01</td>\n",
       "      <td>4</td>\n",
       "      <td>-10.0</td>\n",
       "      <td>9175.0</td>\n",
       "      <td>1</td>\n",
       "      <td>2017-01</td>\n",
       "      <td>1</td>\n",
       "    </tr>\n",
       "    <tr>\n",
       "      <th>4</th>\n",
       "      <td>2017-01-01</td>\n",
       "      <td>5</td>\n",
       "      <td>-11.1</td>\n",
       "      <td>9125.0</td>\n",
       "      <td>1</td>\n",
       "      <td>2017-01</td>\n",
       "      <td>1</td>\n",
       "    </tr>\n",
       "  </tbody>\n",
       "</table>\n",
       "</div>"
      ],
      "text/plain": [
       "    OPR_DATE  OPR_HOUR   TMP  ACTUAL_DEMAND  WEEKDAY month_year  month\n",
       "0 2017-01-01         1  -8.9         9480.0        1    2017-01      1\n",
       "1 2017-01-01         2 -10.0         9326.0        1    2017-01      1\n",
       "2 2017-01-01         3 -10.0         9252.0        1    2017-01      1\n",
       "3 2017-01-01         4 -10.0         9175.0        1    2017-01      1\n",
       "4 2017-01-01         5 -11.1         9125.0        1    2017-01      1"
      ]
     },
     "execution_count": 17,
     "metadata": {},
     "output_type": "execute_result"
    }
   ],
   "source": [
    "df.head()"
   ]
  },
  {
   "cell_type": "code",
   "execution_count": 18,
   "metadata": {},
   "outputs": [
    {
     "data": {
      "text/plain": [
       "(744, 7)"
      ]
     },
     "execution_count": 18,
     "metadata": {},
     "output_type": "execute_result"
    }
   ],
   "source": [
    "dftest=df[(df.month_year=='2018-07')   ]\n",
    "dftest.shape"
   ]
  },
  {
   "cell_type": "code",
   "execution_count": 19,
   "metadata": {},
   "outputs": [
    {
     "data": {
      "text/plain": [
       "(16655, 7)"
      ]
     },
     "execution_count": 19,
     "metadata": {},
     "output_type": "execute_result"
    }
   ],
   "source": [
    "dftrain=df[(df.month_year!='2018-07')   ]\n",
    "dftrain.shape"
   ]
  },
  {
   "cell_type": "code",
   "execution_count": 20,
   "metadata": {},
   "outputs": [],
   "source": [
    "trainX=dftrain[['OPR_HOUR','TMP','WEEKDAY','month']]\n",
    "trainY=dftrain['ACTUAL_DEMAND']\n",
    "testX=dftest[['OPR_HOUR','TMP','WEEKDAY','month']]\n",
    "testY=dftest['ACTUAL_DEMAND']"
   ]
  },
  {
   "cell_type": "code",
   "execution_count": 21,
   "metadata": {},
   "outputs": [],
   "source": [
    "from sklearn import linear_model\n",
    "from sklearn import ensemble\n",
    "\n",
    "#lr =  ensemble.RandomForestRegressor(n_estimators = 100, oob_score = True, n_jobs = -1,random_state =50,max_features = \"sqrt\", min_samples_leaf = 50)\n",
    "#lr = linear_model.LinearRegression()\n",
    "lr = ensemble.GradientBoostingRegressor()\n",
    "#lr = linear_model.TheilSenRegressor()\n",
    "#lr = linear_model.RANSACRegressor(random_state=50)"
   ]
  },
  {
   "cell_type": "code",
   "execution_count": 22,
   "metadata": {},
   "outputs": [
    {
     "data": {
      "text/plain": [
       "array([0.42771867, 0.3138234 , 0.03781135, 0.22064657])"
      ]
     },
     "execution_count": 22,
     "metadata": {},
     "output_type": "execute_result"
    }
   ],
   "source": [
    "model = lr.fit( trainX,  trainY)\n",
    "model.feature_importances_"
   ]
  },
  {
   "cell_type": "code",
   "execution_count": 23,
   "metadata": {},
   "outputs": [
    {
     "name": "stdout",
     "output_type": "stream",
     "text": [
      "train data R^2 is: \n",
      " 0.8996954308986289\n"
     ]
    }
   ],
   "source": [
    "print (\"train data R^2 is: \\n\", model.score(trainX, trainY))"
   ]
  },
  {
   "cell_type": "code",
   "execution_count": 24,
   "metadata": {},
   "outputs": [
    {
     "name": "stdout",
     "output_type": "stream",
     "text": [
      "test data of R^2 is: \n",
      " 0.7634558864021559\n"
     ]
    }
   ],
   "source": [
    "print (\"test data of R^2 is: \\n\", model.score(testX, testY))"
   ]
  },
  {
   "cell_type": "code",
   "execution_count": 25,
   "metadata": {},
   "outputs": [],
   "source": [
    "predictions = model.predict(testX)\n",
    " "
   ]
  },
  {
   "cell_type": "code",
   "execution_count": 26,
   "metadata": {},
   "outputs": [
    {
     "name": "stdout",
     "output_type": "stream",
     "text": [
      "MSE is: \n",
      " 127732.45581568677\n"
     ]
    }
   ],
   "source": [
    "from sklearn.metrics import mean_squared_error\n",
    "print ('MSE is: \\n', mean_squared_error( testY, predictions))"
   ]
  },
  {
   "cell_type": "code",
   "execution_count": 27,
   "metadata": {},
   "outputs": [],
   "source": [
    "dftest=dftest.copy()\n",
    "dftest['predictions']=predictions"
   ]
  },
  {
   "cell_type": "code",
   "execution_count": 28,
   "metadata": {},
   "outputs": [
    {
     "data": {
      "text/html": [
       "<div>\n",
       "<style scoped>\n",
       "    .dataframe tbody tr th:only-of-type {\n",
       "        vertical-align: middle;\n",
       "    }\n",
       "\n",
       "    .dataframe tbody tr th {\n",
       "        vertical-align: top;\n",
       "    }\n",
       "\n",
       "    .dataframe thead th {\n",
       "        text-align: right;\n",
       "    }\n",
       "</style>\n",
       "<table border=\"1\" class=\"dataframe\">\n",
       "  <thead>\n",
       "    <tr style=\"text-align: right;\">\n",
       "      <th></th>\n",
       "      <th>OPR_DATE</th>\n",
       "      <th>OPR_HOUR</th>\n",
       "      <th>TMP</th>\n",
       "      <th>ACTUAL_DEMAND</th>\n",
       "      <th>WEEKDAY</th>\n",
       "      <th>month_year</th>\n",
       "      <th>month</th>\n",
       "      <th>predictions</th>\n",
       "    </tr>\n",
       "  </thead>\n",
       "  <tbody>\n",
       "    <tr>\n",
       "      <th>12984</th>\n",
       "      <td>2018-07-01</td>\n",
       "      <td>1</td>\n",
       "      <td>12.2</td>\n",
       "      <td>8589.0</td>\n",
       "      <td>1</td>\n",
       "      <td>2018-07</td>\n",
       "      <td>7</td>\n",
       "      <td>8492.320486</td>\n",
       "    </tr>\n",
       "    <tr>\n",
       "      <th>12985</th>\n",
       "      <td>2018-07-01</td>\n",
       "      <td>2</td>\n",
       "      <td>12.2</td>\n",
       "      <td>8426.0</td>\n",
       "      <td>1</td>\n",
       "      <td>2018-07</td>\n",
       "      <td>7</td>\n",
       "      <td>8373.703159</td>\n",
       "    </tr>\n",
       "    <tr>\n",
       "      <th>12986</th>\n",
       "      <td>2018-07-01</td>\n",
       "      <td>3</td>\n",
       "      <td>10.0</td>\n",
       "      <td>8321.0</td>\n",
       "      <td>1</td>\n",
       "      <td>2018-07</td>\n",
       "      <td>7</td>\n",
       "      <td>8294.491678</td>\n",
       "    </tr>\n",
       "    <tr>\n",
       "      <th>12987</th>\n",
       "      <td>2018-07-01</td>\n",
       "      <td>4</td>\n",
       "      <td>10.0</td>\n",
       "      <td>8311.0</td>\n",
       "      <td>1</td>\n",
       "      <td>2018-07</td>\n",
       "      <td>7</td>\n",
       "      <td>8264.147145</td>\n",
       "    </tr>\n",
       "    <tr>\n",
       "      <th>12988</th>\n",
       "      <td>2018-07-01</td>\n",
       "      <td>5</td>\n",
       "      <td>10.0</td>\n",
       "      <td>8294.0</td>\n",
       "      <td>1</td>\n",
       "      <td>2018-07</td>\n",
       "      <td>7</td>\n",
       "      <td>8264.147145</td>\n",
       "    </tr>\n",
       "  </tbody>\n",
       "</table>\n",
       "</div>"
      ],
      "text/plain": [
       "        OPR_DATE  OPR_HOUR   TMP  ACTUAL_DEMAND  WEEKDAY month_year  month  \\\n",
       "12984 2018-07-01         1  12.2         8589.0        1    2018-07      7   \n",
       "12985 2018-07-01         2  12.2         8426.0        1    2018-07      7   \n",
       "12986 2018-07-01         3  10.0         8321.0        1    2018-07      7   \n",
       "12987 2018-07-01         4  10.0         8311.0        1    2018-07      7   \n",
       "12988 2018-07-01         5  10.0         8294.0        1    2018-07      7   \n",
       "\n",
       "       predictions  \n",
       "12984  8492.320486  \n",
       "12985  8373.703159  \n",
       "12986  8294.491678  \n",
       "12987  8264.147145  \n",
       "12988  8264.147145  "
      ]
     },
     "execution_count": 28,
     "metadata": {},
     "output_type": "execute_result"
    }
   ],
   "source": [
    "dftest.head()"
   ]
  },
  {
   "cell_type": "code",
   "execution_count": 29,
   "metadata": {},
   "outputs": [
    {
     "data": {
      "text/plain": [
       "Text(0.5, 1.0, 'Linear Regression Model')"
      ]
     },
     "execution_count": 29,
     "metadata": {},
     "output_type": "execute_result"
    },
    {
     "data": {
      "image/png": "[encoded data removed]",
      "text/plain": [
       "<Figure size 432x288 with 1 Axes>"
      ]
     },
     "metadata": {
      "needs_background": "light"
     },
     "output_type": "display_data"
    }
   ],
   "source": [
    "actual_values =  testY\n",
    " \n",
    "plt.scatter(predictions,  actual_values, alpha=.75,\n",
    "            color='b') #alpha helps to show overlapping data\n",
    "plt.xlabel('Predicted Demand')\n",
    "plt.ylabel('Actual Demand')\n",
    "plt.title('Linear Regression Model')\n",
    "#pltrandom_state=None.show()"
   ]
  },
  {
   "cell_type": "code",
   "execution_count": 33,
   "metadata": {},
   "outputs": [
    {
     "data": {
      "text/html": [
       "<div>\n",
       "<style scoped>\n",
       "    .dataframe tbody tr th:only-of-type {\n",
       "        vertical-align: middle;\n",
       "    }\n",
       "\n",
       "    .dataframe tbody tr th {\n",
       "        vertical-align: top;\n",
       "    }\n",
       "\n",
       "    .dataframe thead th {\n",
       "        text-align: right;\n",
       "    }\n",
       "</style>\n",
       "<table border=\"1\" class=\"dataframe\">\n",
       "  <thead>\n",
       "    <tr style=\"text-align: right;\">\n",
       "      <th></th>\n",
       "      <th>OPR_HOUR</th>\n",
       "      <th>TMP</th>\n",
       "      <th>ACTUAL_DEMAND</th>\n",
       "      <th>WEEKDAY</th>\n",
       "      <th>month</th>\n",
       "      <th>predictions</th>\n",
       "      <th>error</th>\n",
       "    </tr>\n",
       "    <tr>\n",
       "      <th>OPR_DATE</th>\n",
       "      <th></th>\n",
       "      <th></th>\n",
       "      <th></th>\n",
       "      <th></th>\n",
       "      <th></th>\n",
       "      <th></th>\n",
       "      <th></th>\n",
       "    </tr>\n",
       "  </thead>\n",
       "  <tbody>\n",
       "    <tr>\n",
       "      <th>2018-07-01</th>\n",
       "      <td>12.5</td>\n",
       "      <td>14.354167</td>\n",
       "      <td>8774.750000</td>\n",
       "      <td>1.0</td>\n",
       "      <td>7.0</td>\n",
       "      <td>8961.997247</td>\n",
       "      <td>0.021339</td>\n",
       "    </tr>\n",
       "    <tr>\n",
       "      <th>2018-07-02</th>\n",
       "      <td>12.5</td>\n",
       "      <td>10.629167</td>\n",
       "      <td>8910.791667</td>\n",
       "      <td>0.0</td>\n",
       "      <td>7.0</td>\n",
       "      <td>9206.262669</td>\n",
       "      <td>0.033159</td>\n",
       "    </tr>\n",
       "    <tr>\n",
       "      <th>2018-07-03</th>\n",
       "      <td>12.5</td>\n",
       "      <td>11.025000</td>\n",
       "      <td>9268.708333</td>\n",
       "      <td>0.0</td>\n",
       "      <td>7.0</td>\n",
       "      <td>9207.653206</td>\n",
       "      <td>-0.006587</td>\n",
       "    </tr>\n",
       "    <tr>\n",
       "      <th>2018-07-04</th>\n",
       "      <td>12.5</td>\n",
       "      <td>13.841667</td>\n",
       "      <td>9203.500000</td>\n",
       "      <td>0.0</td>\n",
       "      <td>7.0</td>\n",
       "      <td>9239.932845</td>\n",
       "      <td>0.003959</td>\n",
       "    </tr>\n",
       "    <tr>\n",
       "      <th>2018-07-05</th>\n",
       "      <td>12.5</td>\n",
       "      <td>18.333333</td>\n",
       "      <td>9496.875000</td>\n",
       "      <td>0.0</td>\n",
       "      <td>7.0</td>\n",
       "      <td>9446.613218</td>\n",
       "      <td>-0.005292</td>\n",
       "    </tr>\n",
       "  </tbody>\n",
       "</table>\n",
       "</div>"
      ],
      "text/plain": [
       "            OPR_HOUR        TMP  ACTUAL_DEMAND  WEEKDAY  month  predictions  \\\n",
       "OPR_DATE                                                                      \n",
       "2018-07-01      12.5  14.354167    8774.750000      1.0    7.0  8961.997247   \n",
       "2018-07-02      12.5  10.629167    8910.791667      0.0    7.0  9206.262669   \n",
       "2018-07-03      12.5  11.025000    9268.708333      0.0    7.0  9207.653206   \n",
       "2018-07-04      12.5  13.841667    9203.500000      0.0    7.0  9239.932845   \n",
       "2018-07-05      12.5  18.333333    9496.875000      0.0    7.0  9446.613218   \n",
       "\n",
       "               error  \n",
       "OPR_DATE              \n",
       "2018-07-01  0.021339  \n",
       "2018-07-02  0.033159  \n",
       "2018-07-03 -0.006587  \n",
       "2018-07-04  0.003959  \n",
       "2018-07-05 -0.005292  "
      ]
     },
     "execution_count": 33,
     "metadata": {},
     "output_type": "execute_result"
    }
   ],
   "source": [
    "submission1=dftest.groupby(['OPR_DATE']).mean()\n",
    " \n",
    "submission1['error']=(submission1['predictions']-submission1['ACTUAL_DEMAND'])/submission1['ACTUAL_DEMAND']\n",
    " \n",
    "\n",
    "submission1.to_csv(r'C:\\Users\\15878\\Documents\\prediction_withoutnorm.csv')\n",
    "submission1.head()"
   ]
  },
  {
   "cell_type": "code",
   "execution_count": 34,
   "metadata": {},
   "outputs": [
    {
     "data": {
      "image/png": "[encoded data removed]",
      "text/plain": [
       "<Figure size 432x288 with 1 Axes>"
      ]
     },
     "metadata": {
      "needs_background": "light"
     },
     "output_type": "display_data"
    }
   ],
   "source": [
    "submission1['error'].plot()\n",
    "plt.title('Prediction Error')\n",
    "ax = plt.gca()\n",
    "ax.set_facecolor((0.898, 0.898, 0.898))\n",
    "fig = plt.gcf()\n",
    "plt.xlabel('DATE')\n",
    "plt.ylabel(' Error')\n",
    "plt.legend()\n",
    "\n",
    "plt.show()\n",
    "plt.close()"
   ]
  },
  {
   "cell_type": "code",
   "execution_count": 35,
   "metadata": {},
   "outputs": [
    {
     "data": {
      "image/png": "[encoded data removed]",
      "text/plain": [
       "<Figure size 432x288 with 1 Axes>"
      ]
     },
     "metadata": {
      "needs_background": "light"
     },
     "output_type": "display_data"
    }
   ],
   "source": [
    "y1=submission1['ACTUAL_DEMAND']\n",
    "y2=submission1['predictions']\n",
    "plt.plot(  y1, '-b',  label='Actual' )\n",
    "plt.plot(  y2, '-r',  label='Prediction')\n",
    "plt.title('Actual & Prediction demand')\n",
    "ax = plt.gca()\n",
    "ax.set_facecolor((0.898, 0.898, 0.898))\n",
    "plt.legend( )\n",
    "\n",
    "fig = plt.gcf()\n",
    "plt.xlabel('DATE')\n",
    "plt.ylabel(' DEMAND')\n",
    "plt.ylim(5000, 12000)\n",
    "plt.show()\n",
    "plt.close()"
   ]
  },
  {
   "cell_type": "markdown",
   "metadata": {},
   "source": [
    "# After data normorlized"
   ]
  },
  {
   "cell_type": "code",
   "execution_count": 36,
   "metadata": {},
   "outputs": [
    {
     "data": {
      "text/html": [
       "<div>\n",
       "<style scoped>\n",
       "    .dataframe tbody tr th:only-of-type {\n",
       "        vertical-align: middle;\n",
       "    }\n",
       "\n",
       "    .dataframe tbody tr th {\n",
       "        vertical-align: top;\n",
       "    }\n",
       "\n",
       "    .dataframe thead th {\n",
       "        text-align: right;\n",
       "    }\n",
       "</style>\n",
       "<table border=\"1\" class=\"dataframe\">\n",
       "  <thead>\n",
       "    <tr style=\"text-align: right;\">\n",
       "      <th></th>\n",
       "      <th>OPR_DATE</th>\n",
       "      <th>OPR_HOUR</th>\n",
       "      <th>TMP</th>\n",
       "      <th>ACTUAL_DEMAND</th>\n",
       "      <th>WEEKDAY</th>\n",
       "      <th>month_year</th>\n",
       "      <th>month</th>\n",
       "    </tr>\n",
       "  </thead>\n",
       "  <tbody>\n",
       "    <tr>\n",
       "      <th>0</th>\n",
       "      <td>2017-01-01</td>\n",
       "      <td>1</td>\n",
       "      <td>-8.9</td>\n",
       "      <td>9480.0</td>\n",
       "      <td>1</td>\n",
       "      <td>2017-01</td>\n",
       "      <td>1</td>\n",
       "    </tr>\n",
       "    <tr>\n",
       "      <th>1</th>\n",
       "      <td>2017-01-01</td>\n",
       "      <td>2</td>\n",
       "      <td>-10.0</td>\n",
       "      <td>9326.0</td>\n",
       "      <td>1</td>\n",
       "      <td>2017-01</td>\n",
       "      <td>1</td>\n",
       "    </tr>\n",
       "    <tr>\n",
       "      <th>2</th>\n",
       "      <td>2017-01-01</td>\n",
       "      <td>3</td>\n",
       "      <td>-10.0</td>\n",
       "      <td>9252.0</td>\n",
       "      <td>1</td>\n",
       "      <td>2017-01</td>\n",
       "      <td>1</td>\n",
       "    </tr>\n",
       "    <tr>\n",
       "      <th>3</th>\n",
       "      <td>2017-01-01</td>\n",
       "      <td>4</td>\n",
       "      <td>-10.0</td>\n",
       "      <td>9175.0</td>\n",
       "      <td>1</td>\n",
       "      <td>2017-01</td>\n",
       "      <td>1</td>\n",
       "    </tr>\n",
       "    <tr>\n",
       "      <th>4</th>\n",
       "      <td>2017-01-01</td>\n",
       "      <td>5</td>\n",
       "      <td>-11.1</td>\n",
       "      <td>9125.0</td>\n",
       "      <td>1</td>\n",
       "      <td>2017-01</td>\n",
       "      <td>1</td>\n",
       "    </tr>\n",
       "  </tbody>\n",
       "</table>\n",
       "</div>"
      ],
      "text/plain": [
       "    OPR_DATE  OPR_HOUR   TMP  ACTUAL_DEMAND  WEEKDAY month_year  month\n",
       "0 2017-01-01         1  -8.9         9480.0        1    2017-01      1\n",
       "1 2017-01-01         2 -10.0         9326.0        1    2017-01      1\n",
       "2 2017-01-01         3 -10.0         9252.0        1    2017-01      1\n",
       "3 2017-01-01         4 -10.0         9175.0        1    2017-01      1\n",
       "4 2017-01-01         5 -11.1         9125.0        1    2017-01      1"
      ]
     },
     "execution_count": 36,
     "metadata": {},
     "output_type": "execute_result"
    }
   ],
   "source": [
    "df.head()"
   ]
  },
  {
   "cell_type": "code",
   "execution_count": 37,
   "metadata": {},
   "outputs": [],
   "source": [
    "def namesuffix(column_names):\n",
    "  cols = []\n",
    "  for i in column_names:\n",
    "      cols.append(i+'1')\n",
    "  return cols"
   ]
  },
  {
   "cell_type": "code",
   "execution_count": 38,
   "metadata": {},
   "outputs": [],
   "source": [
    "cols_to_minmax = ['OPR_HOUR','TMP','ACTUAL_DEMAND','month']\n",
    "df[namesuffix(cols_to_minmax)] = df[cols_to_minmax].apply(lambda x: (x - x.min()) / (x.max() - x.min()))"
   ]
  },
  {
   "cell_type": "code",
   "execution_count": 39,
   "metadata": {},
   "outputs": [
    {
     "data": {
      "text/html": [
       "<div>\n",
       "<style scoped>\n",
       "    .dataframe tbody tr th:only-of-type {\n",
       "        vertical-align: middle;\n",
       "    }\n",
       "\n",
       "    .dataframe tbody tr th {\n",
       "        vertical-align: top;\n",
       "    }\n",
       "\n",
       "    .dataframe thead th {\n",
       "        text-align: right;\n",
       "    }\n",
       "</style>\n",
       "<table border=\"1\" class=\"dataframe\">\n",
       "  <thead>\n",
       "    <tr style=\"text-align: right;\">\n",
       "      <th></th>\n",
       "      <th>OPR_DATE</th>\n",
       "      <th>OPR_HOUR</th>\n",
       "      <th>TMP</th>\n",
       "      <th>ACTUAL_DEMAND</th>\n",
       "      <th>WEEKDAY</th>\n",
       "      <th>month_year</th>\n",
       "      <th>month</th>\n",
       "      <th>OPR_HOUR1</th>\n",
       "      <th>TMP1</th>\n",
       "      <th>ACTUAL_DEMAND1</th>\n",
       "      <th>month1</th>\n",
       "    </tr>\n",
       "  </thead>\n",
       "  <tbody>\n",
       "    <tr>\n",
       "      <th>0</th>\n",
       "      <td>2017-01-01</td>\n",
       "      <td>1</td>\n",
       "      <td>-8.9</td>\n",
       "      <td>9480.0</td>\n",
       "      <td>1</td>\n",
       "      <td>2017-01</td>\n",
       "      <td>1</td>\n",
       "      <td>0.000000</td>\n",
       "      <td>0.319213</td>\n",
       "      <td>0.458872</td>\n",
       "      <td>0.0</td>\n",
       "    </tr>\n",
       "    <tr>\n",
       "      <th>1</th>\n",
       "      <td>2017-01-01</td>\n",
       "      <td>2</td>\n",
       "      <td>-10.0</td>\n",
       "      <td>9326.0</td>\n",
       "      <td>1</td>\n",
       "      <td>2017-01</td>\n",
       "      <td>1</td>\n",
       "      <td>0.043478</td>\n",
       "      <td>0.302572</td>\n",
       "      <td>0.421284</td>\n",
       "      <td>0.0</td>\n",
       "    </tr>\n",
       "    <tr>\n",
       "      <th>2</th>\n",
       "      <td>2017-01-01</td>\n",
       "      <td>3</td>\n",
       "      <td>-10.0</td>\n",
       "      <td>9252.0</td>\n",
       "      <td>1</td>\n",
       "      <td>2017-01</td>\n",
       "      <td>1</td>\n",
       "      <td>0.086957</td>\n",
       "      <td>0.302572</td>\n",
       "      <td>0.403222</td>\n",
       "      <td>0.0</td>\n",
       "    </tr>\n",
       "    <tr>\n",
       "      <th>3</th>\n",
       "      <td>2017-01-01</td>\n",
       "      <td>4</td>\n",
       "      <td>-10.0</td>\n",
       "      <td>9175.0</td>\n",
       "      <td>1</td>\n",
       "      <td>2017-01</td>\n",
       "      <td>1</td>\n",
       "      <td>0.130435</td>\n",
       "      <td>0.302572</td>\n",
       "      <td>0.384428</td>\n",
       "      <td>0.0</td>\n",
       "    </tr>\n",
       "    <tr>\n",
       "      <th>4</th>\n",
       "      <td>2017-01-01</td>\n",
       "      <td>5</td>\n",
       "      <td>-11.1</td>\n",
       "      <td>9125.0</td>\n",
       "      <td>1</td>\n",
       "      <td>2017-01</td>\n",
       "      <td>1</td>\n",
       "      <td>0.173913</td>\n",
       "      <td>0.285930</td>\n",
       "      <td>0.372224</td>\n",
       "      <td>0.0</td>\n",
       "    </tr>\n",
       "  </tbody>\n",
       "</table>\n",
       "</div>"
      ],
      "text/plain": [
       "    OPR_DATE  OPR_HOUR   TMP  ACTUAL_DEMAND  WEEKDAY month_year  month  \\\n",
       "0 2017-01-01         1  -8.9         9480.0        1    2017-01      1   \n",
       "1 2017-01-01         2 -10.0         9326.0        1    2017-01      1   \n",
       "2 2017-01-01         3 -10.0         9252.0        1    2017-01      1   \n",
       "3 2017-01-01         4 -10.0         9175.0        1    2017-01      1   \n",
       "4 2017-01-01         5 -11.1         9125.0        1    2017-01      1   \n",
       "\n",
       "   OPR_HOUR1      TMP1  ACTUAL_DEMAND1  month1  \n",
       "0   0.000000  0.319213        0.458872     0.0  \n",
       "1   0.043478  0.302572        0.421284     0.0  \n",
       "2   0.086957  0.302572        0.403222     0.0  \n",
       "3   0.130435  0.302572        0.384428     0.0  \n",
       "4   0.173913  0.285930        0.372224     0.0  "
      ]
     },
     "execution_count": 39,
     "metadata": {},
     "output_type": "execute_result"
    }
   ],
   "source": [
    "df.head()"
   ]
  },
  {
   "cell_type": "code",
   "execution_count": 40,
   "metadata": {},
   "outputs": [
    {
     "data": {
      "text/plain": [
       "(744, 11)"
      ]
     },
     "execution_count": 40,
     "metadata": {},
     "output_type": "execute_result"
    }
   ],
   "source": [
    "dftest=df[(df.month_year=='2018-07')   ]\n",
    "dftest.shape"
   ]
  },
  {
   "cell_type": "code",
   "execution_count": 41,
   "metadata": {},
   "outputs": [
    {
     "data": {
      "text/plain": [
       "(16655, 11)"
      ]
     },
     "execution_count": 41,
     "metadata": {},
     "output_type": "execute_result"
    }
   ],
   "source": [
    "dftrain=df[(df.month_year!='2018-07')   ]\n",
    "dftrain.shape"
   ]
  },
  {
   "cell_type": "code",
   "execution_count": 42,
   "metadata": {},
   "outputs": [
    {
     "data": {
      "text/html": [
       "<div>\n",
       "<style scoped>\n",
       "    .dataframe tbody tr th:only-of-type {\n",
       "        vertical-align: middle;\n",
       "    }\n",
       "\n",
       "    .dataframe tbody tr th {\n",
       "        vertical-align: top;\n",
       "    }\n",
       "\n",
       "    .dataframe thead th {\n",
       "        text-align: right;\n",
       "    }\n",
       "</style>\n",
       "<table border=\"1\" class=\"dataframe\">\n",
       "  <thead>\n",
       "    <tr style=\"text-align: right;\">\n",
       "      <th></th>\n",
       "      <th>OPR_DATE</th>\n",
       "      <th>OPR_HOUR</th>\n",
       "      <th>TMP</th>\n",
       "      <th>ACTUAL_DEMAND</th>\n",
       "      <th>WEEKDAY</th>\n",
       "      <th>month_year</th>\n",
       "      <th>month</th>\n",
       "      <th>OPR_HOUR1</th>\n",
       "      <th>TMP1</th>\n",
       "      <th>ACTUAL_DEMAND1</th>\n",
       "      <th>month1</th>\n",
       "    </tr>\n",
       "  </thead>\n",
       "  <tbody>\n",
       "    <tr>\n",
       "      <th>0</th>\n",
       "      <td>2017-01-01</td>\n",
       "      <td>1</td>\n",
       "      <td>-8.9</td>\n",
       "      <td>9480.0</td>\n",
       "      <td>1</td>\n",
       "      <td>2017-01</td>\n",
       "      <td>1</td>\n",
       "      <td>0.000000</td>\n",
       "      <td>0.319213</td>\n",
       "      <td>0.458872</td>\n",
       "      <td>0.0</td>\n",
       "    </tr>\n",
       "    <tr>\n",
       "      <th>1</th>\n",
       "      <td>2017-01-01</td>\n",
       "      <td>2</td>\n",
       "      <td>-10.0</td>\n",
       "      <td>9326.0</td>\n",
       "      <td>1</td>\n",
       "      <td>2017-01</td>\n",
       "      <td>1</td>\n",
       "      <td>0.043478</td>\n",
       "      <td>0.302572</td>\n",
       "      <td>0.421284</td>\n",
       "      <td>0.0</td>\n",
       "    </tr>\n",
       "    <tr>\n",
       "      <th>2</th>\n",
       "      <td>2017-01-01</td>\n",
       "      <td>3</td>\n",
       "      <td>-10.0</td>\n",
       "      <td>9252.0</td>\n",
       "      <td>1</td>\n",
       "      <td>2017-01</td>\n",
       "      <td>1</td>\n",
       "      <td>0.086957</td>\n",
       "      <td>0.302572</td>\n",
       "      <td>0.403222</td>\n",
       "      <td>0.0</td>\n",
       "    </tr>\n",
       "    <tr>\n",
       "      <th>3</th>\n",
       "      <td>2017-01-01</td>\n",
       "      <td>4</td>\n",
       "      <td>-10.0</td>\n",
       "      <td>9175.0</td>\n",
       "      <td>1</td>\n",
       "      <td>2017-01</td>\n",
       "      <td>1</td>\n",
       "      <td>0.130435</td>\n",
       "      <td>0.302572</td>\n",
       "      <td>0.384428</td>\n",
       "      <td>0.0</td>\n",
       "    </tr>\n",
       "    <tr>\n",
       "      <th>4</th>\n",
       "      <td>2017-01-01</td>\n",
       "      <td>5</td>\n",
       "      <td>-11.1</td>\n",
       "      <td>9125.0</td>\n",
       "      <td>1</td>\n",
       "      <td>2017-01</td>\n",
       "      <td>1</td>\n",
       "      <td>0.173913</td>\n",
       "      <td>0.285930</td>\n",
       "      <td>0.372224</td>\n",
       "      <td>0.0</td>\n",
       "    </tr>\n",
       "  </tbody>\n",
       "</table>\n",
       "</div>"
      ],
      "text/plain": [
       "    OPR_DATE  OPR_HOUR   TMP  ACTUAL_DEMAND  WEEKDAY month_year  month  \\\n",
       "0 2017-01-01         1  -8.9         9480.0        1    2017-01      1   \n",
       "1 2017-01-01         2 -10.0         9326.0        1    2017-01      1   \n",
       "2 2017-01-01         3 -10.0         9252.0        1    2017-01      1   \n",
       "3 2017-01-01         4 -10.0         9175.0        1    2017-01      1   \n",
       "4 2017-01-01         5 -11.1         9125.0        1    2017-01      1   \n",
       "\n",
       "   OPR_HOUR1      TMP1  ACTUAL_DEMAND1  month1  \n",
       "0   0.000000  0.319213        0.458872     0.0  \n",
       "1   0.043478  0.302572        0.421284     0.0  \n",
       "2   0.086957  0.302572        0.403222     0.0  \n",
       "3   0.130435  0.302572        0.384428     0.0  \n",
       "4   0.173913  0.285930        0.372224     0.0  "
      ]
     },
     "execution_count": 42,
     "metadata": {},
     "output_type": "execute_result"
    }
   ],
   "source": [
    "dftrain.head()"
   ]
  },
  {
   "cell_type": "code",
   "execution_count": 43,
   "metadata": {},
   "outputs": [
    {
     "data": {
      "text/html": [
       "<div>\n",
       "<style scoped>\n",
       "    .dataframe tbody tr th:only-of-type {\n",
       "        vertical-align: middle;\n",
       "    }\n",
       "\n",
       "    .dataframe tbody tr th {\n",
       "        vertical-align: top;\n",
       "    }\n",
       "\n",
       "    .dataframe thead th {\n",
       "        text-align: right;\n",
       "    }\n",
       "</style>\n",
       "<table border=\"1\" class=\"dataframe\">\n",
       "  <thead>\n",
       "    <tr style=\"text-align: right;\">\n",
       "      <th></th>\n",
       "      <th>OPR_DATE</th>\n",
       "      <th>OPR_HOUR</th>\n",
       "      <th>TMP</th>\n",
       "      <th>ACTUAL_DEMAND</th>\n",
       "      <th>WEEKDAY</th>\n",
       "      <th>month_year</th>\n",
       "      <th>month</th>\n",
       "      <th>OPR_HOUR1</th>\n",
       "      <th>TMP1</th>\n",
       "      <th>ACTUAL_DEMAND1</th>\n",
       "      <th>month1</th>\n",
       "    </tr>\n",
       "  </thead>\n",
       "  <tbody>\n",
       "    <tr>\n",
       "      <th>12984</th>\n",
       "      <td>2018-07-01</td>\n",
       "      <td>1</td>\n",
       "      <td>12.2</td>\n",
       "      <td>8589.0</td>\n",
       "      <td>1</td>\n",
       "      <td>2018-07</td>\n",
       "      <td>7</td>\n",
       "      <td>0.000000</td>\n",
       "      <td>0.638427</td>\n",
       "      <td>0.241396</td>\n",
       "      <td>0.545455</td>\n",
       "    </tr>\n",
       "    <tr>\n",
       "      <th>12985</th>\n",
       "      <td>2018-07-01</td>\n",
       "      <td>2</td>\n",
       "      <td>12.2</td>\n",
       "      <td>8426.0</td>\n",
       "      <td>1</td>\n",
       "      <td>2018-07</td>\n",
       "      <td>7</td>\n",
       "      <td>0.043478</td>\n",
       "      <td>0.638427</td>\n",
       "      <td>0.201611</td>\n",
       "      <td>0.545455</td>\n",
       "    </tr>\n",
       "    <tr>\n",
       "      <th>12986</th>\n",
       "      <td>2018-07-01</td>\n",
       "      <td>3</td>\n",
       "      <td>10.0</td>\n",
       "      <td>8321.0</td>\n",
       "      <td>1</td>\n",
       "      <td>2018-07</td>\n",
       "      <td>7</td>\n",
       "      <td>0.086957</td>\n",
       "      <td>0.605144</td>\n",
       "      <td>0.175982</td>\n",
       "      <td>0.545455</td>\n",
       "    </tr>\n",
       "    <tr>\n",
       "      <th>12987</th>\n",
       "      <td>2018-07-01</td>\n",
       "      <td>4</td>\n",
       "      <td>10.0</td>\n",
       "      <td>8311.0</td>\n",
       "      <td>1</td>\n",
       "      <td>2018-07</td>\n",
       "      <td>7</td>\n",
       "      <td>0.130435</td>\n",
       "      <td>0.605144</td>\n",
       "      <td>0.173542</td>\n",
       "      <td>0.545455</td>\n",
       "    </tr>\n",
       "    <tr>\n",
       "      <th>12988</th>\n",
       "      <td>2018-07-01</td>\n",
       "      <td>5</td>\n",
       "      <td>10.0</td>\n",
       "      <td>8294.0</td>\n",
       "      <td>1</td>\n",
       "      <td>2018-07</td>\n",
       "      <td>7</td>\n",
       "      <td>0.173913</td>\n",
       "      <td>0.605144</td>\n",
       "      <td>0.169392</td>\n",
       "      <td>0.545455</td>\n",
       "    </tr>\n",
       "  </tbody>\n",
       "</table>\n",
       "</div>"
      ],
      "text/plain": [
       "        OPR_DATE  OPR_HOUR   TMP  ACTUAL_DEMAND  WEEKDAY month_year  month  \\\n",
       "12984 2018-07-01         1  12.2         8589.0        1    2018-07      7   \n",
       "12985 2018-07-01         2  12.2         8426.0        1    2018-07      7   \n",
       "12986 2018-07-01         3  10.0         8321.0        1    2018-07      7   \n",
       "12987 2018-07-01         4  10.0         8311.0        1    2018-07      7   \n",
       "12988 2018-07-01         5  10.0         8294.0        1    2018-07      7   \n",
       "\n",
       "       OPR_HOUR1      TMP1  ACTUAL_DEMAND1    month1  \n",
       "12984   0.000000  0.638427        0.241396  0.545455  \n",
       "12985   0.043478  0.638427        0.201611  0.545455  \n",
       "12986   0.086957  0.605144        0.175982  0.545455  \n",
       "12987   0.130435  0.605144        0.173542  0.545455  \n",
       "12988   0.173913  0.605144        0.169392  0.545455  "
      ]
     },
     "execution_count": 43,
     "metadata": {},
     "output_type": "execute_result"
    }
   ],
   "source": [
    "dftest.head()"
   ]
  },
  {
   "cell_type": "code",
   "execution_count": 44,
   "metadata": {},
   "outputs": [],
   "source": [
    "trainX=dftrain[['OPR_HOUR1','TMP1','WEEKDAY','month1']]\n",
    "trainY=dftrain['ACTUAL_DEMAND1']\n",
    "testX=dftest[['OPR_HOUR1','TMP1','WEEKDAY','month1']]\n",
    "testY=dftest['ACTUAL_DEMAND1']"
   ]
  },
  {
   "cell_type": "markdown",
   "metadata": {},
   "source": [
    "# GradientBoostingRegressor"
   ]
  },
  {
   "cell_type": "code",
   "execution_count": 45,
   "metadata": {},
   "outputs": [],
   "source": [
    "\n",
    "from sklearn import linear_model\n",
    "from sklearn import ensemble\n",
    "\n",
    "#lr =  ensemble.RandomForestRegressor(n_estimators = 100, oob_score = True, n_jobs = -1,random_state =50,max_features = \"sqrt\", min_samples_leaf = 50)\n",
    "#lr = linear_model.LinearRegression()\n",
    "lr = ensemble.GradientBoostingRegressor()\n",
    "#lr = linear_model.TheilSenRegressor()\n",
    "#lr = linear_model.RANSACRegressor(random_state=50)\n"
   ]
  },
  {
   "cell_type": "code",
   "execution_count": 46,
   "metadata": {},
   "outputs": [
    {
     "data": {
      "text/plain": [
       "array([0.42771867, 0.3138234 , 0.03781135, 0.22064657])"
      ]
     },
     "execution_count": 46,
     "metadata": {},
     "output_type": "execute_result"
    }
   ],
   "source": [
    "\n",
    "model = lr.fit( trainX,  trainY)\n",
    "model.feature_importances_"
   ]
  },
  {
   "cell_type": "code",
   "execution_count": 47,
   "metadata": {},
   "outputs": [
    {
     "name": "stdout",
     "output_type": "stream",
     "text": [
      "train data R^2 is: \n",
      " 0.8996954308986288\n"
     ]
    }
   ],
   "source": [
    "print (\"train data R^2 is: \\n\", model.score(trainX, trainY))"
   ]
  },
  {
   "cell_type": "code",
   "execution_count": 48,
   "metadata": {},
   "outputs": [
    {
     "name": "stdout",
     "output_type": "stream",
     "text": [
      "test data of R^2 is: \n",
      " 0.7634558864021558\n"
     ]
    }
   ],
   "source": [
    "print (\"test data of R^2 is: \\n\", model.score(testX, testY))"
   ]
  },
  {
   "cell_type": "code",
   "execution_count": 49,
   "metadata": {},
   "outputs": [],
   "source": [
    "predictions = model.predict(testX)\n",
    " "
   ]
  },
  {
   "cell_type": "code",
   "execution_count": 50,
   "metadata": {},
   "outputs": [
    {
     "name": "stdout",
     "output_type": "stream",
     "text": [
      "MSE is: \n",
      " 0.007609731512391913\n"
     ]
    }
   ],
   "source": [
    "from sklearn.metrics import mean_squared_error\n",
    "print ('MSE is: \\n', mean_squared_error( testY, predictions))"
   ]
  },
  {
   "cell_type": "code",
   "execution_count": 51,
   "metadata": {},
   "outputs": [
    {
     "data": {
      "text/html": [
       "<div>\n",
       "<style scoped>\n",
       "    .dataframe tbody tr th:only-of-type {\n",
       "        vertical-align: middle;\n",
       "    }\n",
       "\n",
       "    .dataframe tbody tr th {\n",
       "        vertical-align: top;\n",
       "    }\n",
       "\n",
       "    .dataframe thead th {\n",
       "        text-align: right;\n",
       "    }\n",
       "</style>\n",
       "<table border=\"1\" class=\"dataframe\">\n",
       "  <thead>\n",
       "    <tr style=\"text-align: right;\">\n",
       "      <th></th>\n",
       "      <th>OPR_DATE</th>\n",
       "      <th>OPR_HOUR</th>\n",
       "      <th>TMP</th>\n",
       "      <th>ACTUAL_DEMAND</th>\n",
       "      <th>WEEKDAY</th>\n",
       "      <th>month_year</th>\n",
       "      <th>month</th>\n",
       "      <th>OPR_HOUR1</th>\n",
       "      <th>TMP1</th>\n",
       "      <th>ACTUAL_DEMAND1</th>\n",
       "      <th>month1</th>\n",
       "    </tr>\n",
       "  </thead>\n",
       "  <tbody>\n",
       "    <tr>\n",
       "      <th>12984</th>\n",
       "      <td>2018-07-01</td>\n",
       "      <td>1</td>\n",
       "      <td>12.2</td>\n",
       "      <td>8589.0</td>\n",
       "      <td>1</td>\n",
       "      <td>2018-07</td>\n",
       "      <td>7</td>\n",
       "      <td>0.000000</td>\n",
       "      <td>0.638427</td>\n",
       "      <td>0.241396</td>\n",
       "      <td>0.545455</td>\n",
       "    </tr>\n",
       "    <tr>\n",
       "      <th>12985</th>\n",
       "      <td>2018-07-01</td>\n",
       "      <td>2</td>\n",
       "      <td>12.2</td>\n",
       "      <td>8426.0</td>\n",
       "      <td>1</td>\n",
       "      <td>2018-07</td>\n",
       "      <td>7</td>\n",
       "      <td>0.043478</td>\n",
       "      <td>0.638427</td>\n",
       "      <td>0.201611</td>\n",
       "      <td>0.545455</td>\n",
       "    </tr>\n",
       "    <tr>\n",
       "      <th>12986</th>\n",
       "      <td>2018-07-01</td>\n",
       "      <td>3</td>\n",
       "      <td>10.0</td>\n",
       "      <td>8321.0</td>\n",
       "      <td>1</td>\n",
       "      <td>2018-07</td>\n",
       "      <td>7</td>\n",
       "      <td>0.086957</td>\n",
       "      <td>0.605144</td>\n",
       "      <td>0.175982</td>\n",
       "      <td>0.545455</td>\n",
       "    </tr>\n",
       "    <tr>\n",
       "      <th>12987</th>\n",
       "      <td>2018-07-01</td>\n",
       "      <td>4</td>\n",
       "      <td>10.0</td>\n",
       "      <td>8311.0</td>\n",
       "      <td>1</td>\n",
       "      <td>2018-07</td>\n",
       "      <td>7</td>\n",
       "      <td>0.130435</td>\n",
       "      <td>0.605144</td>\n",
       "      <td>0.173542</td>\n",
       "      <td>0.545455</td>\n",
       "    </tr>\n",
       "    <tr>\n",
       "      <th>12988</th>\n",
       "      <td>2018-07-01</td>\n",
       "      <td>5</td>\n",
       "      <td>10.0</td>\n",
       "      <td>8294.0</td>\n",
       "      <td>1</td>\n",
       "      <td>2018-07</td>\n",
       "      <td>7</td>\n",
       "      <td>0.173913</td>\n",
       "      <td>0.605144</td>\n",
       "      <td>0.169392</td>\n",
       "      <td>0.545455</td>\n",
       "    </tr>\n",
       "  </tbody>\n",
       "</table>\n",
       "</div>"
      ],
      "text/plain": [
       "        OPR_DATE  OPR_HOUR   TMP  ACTUAL_DEMAND  WEEKDAY month_year  month  \\\n",
       "12984 2018-07-01         1  12.2         8589.0        1    2018-07      7   \n",
       "12985 2018-07-01         2  12.2         8426.0        1    2018-07      7   \n",
       "12986 2018-07-01         3  10.0         8321.0        1    2018-07      7   \n",
       "12987 2018-07-01         4  10.0         8311.0        1    2018-07      7   \n",
       "12988 2018-07-01         5  10.0         8294.0        1    2018-07      7   \n",
       "\n",
       "       OPR_HOUR1      TMP1  ACTUAL_DEMAND1    month1  \n",
       "12984   0.000000  0.638427        0.241396  0.545455  \n",
       "12985   0.043478  0.638427        0.201611  0.545455  \n",
       "12986   0.086957  0.605144        0.175982  0.545455  \n",
       "12987   0.130435  0.605144        0.173542  0.545455  \n",
       "12988   0.173913  0.605144        0.169392  0.545455  "
      ]
     },
     "execution_count": 51,
     "metadata": {},
     "output_type": "execute_result"
    }
   ],
   "source": [
    "dftest.head()"
   ]
  },
  {
   "cell_type": "code",
   "execution_count": 52,
   "metadata": {},
   "outputs": [],
   "source": [
    "dftest=dftest.copy()"
   ]
  },
  {
   "cell_type": "code",
   "execution_count": 53,
   "metadata": {},
   "outputs": [],
   "source": [
    "dftest['predictions']=predictions"
   ]
  },
  {
   "cell_type": "code",
   "execution_count": 54,
   "metadata": {},
   "outputs": [
    {
     "data": {
      "text/html": [
       "<div>\n",
       "<style scoped>\n",
       "    .dataframe tbody tr th:only-of-type {\n",
       "        vertical-align: middle;\n",
       "    }\n",
       "\n",
       "    .dataframe tbody tr th {\n",
       "        vertical-align: top;\n",
       "    }\n",
       "\n",
       "    .dataframe thead th {\n",
       "        text-align: right;\n",
       "    }\n",
       "</style>\n",
       "<table border=\"1\" class=\"dataframe\">\n",
       "  <thead>\n",
       "    <tr style=\"text-align: right;\">\n",
       "      <th></th>\n",
       "      <th>OPR_DATE</th>\n",
       "      <th>OPR_HOUR</th>\n",
       "      <th>TMP</th>\n",
       "      <th>ACTUAL_DEMAND</th>\n",
       "      <th>WEEKDAY</th>\n",
       "      <th>month_year</th>\n",
       "      <th>month</th>\n",
       "      <th>OPR_HOUR1</th>\n",
       "      <th>TMP1</th>\n",
       "      <th>ACTUAL_DEMAND1</th>\n",
       "      <th>month1</th>\n",
       "      <th>predictions</th>\n",
       "    </tr>\n",
       "  </thead>\n",
       "  <tbody>\n",
       "    <tr>\n",
       "      <th>12984</th>\n",
       "      <td>2018-07-01</td>\n",
       "      <td>1</td>\n",
       "      <td>12.2</td>\n",
       "      <td>8589.0</td>\n",
       "      <td>1</td>\n",
       "      <td>2018-07</td>\n",
       "      <td>7</td>\n",
       "      <td>0.000000</td>\n",
       "      <td>0.638427</td>\n",
       "      <td>0.241396</td>\n",
       "      <td>0.545455</td>\n",
       "      <td>0.217799</td>\n",
       "    </tr>\n",
       "    <tr>\n",
       "      <th>12985</th>\n",
       "      <td>2018-07-01</td>\n",
       "      <td>2</td>\n",
       "      <td>12.2</td>\n",
       "      <td>8426.0</td>\n",
       "      <td>1</td>\n",
       "      <td>2018-07</td>\n",
       "      <td>7</td>\n",
       "      <td>0.043478</td>\n",
       "      <td>0.638427</td>\n",
       "      <td>0.201611</td>\n",
       "      <td>0.545455</td>\n",
       "      <td>0.188846</td>\n",
       "    </tr>\n",
       "    <tr>\n",
       "      <th>12986</th>\n",
       "      <td>2018-07-01</td>\n",
       "      <td>3</td>\n",
       "      <td>10.0</td>\n",
       "      <td>8321.0</td>\n",
       "      <td>1</td>\n",
       "      <td>2018-07</td>\n",
       "      <td>7</td>\n",
       "      <td>0.086957</td>\n",
       "      <td>0.605144</td>\n",
       "      <td>0.175982</td>\n",
       "      <td>0.545455</td>\n",
       "      <td>0.169512</td>\n",
       "    </tr>\n",
       "    <tr>\n",
       "      <th>12987</th>\n",
       "      <td>2018-07-01</td>\n",
       "      <td>4</td>\n",
       "      <td>10.0</td>\n",
       "      <td>8311.0</td>\n",
       "      <td>1</td>\n",
       "      <td>2018-07</td>\n",
       "      <td>7</td>\n",
       "      <td>0.130435</td>\n",
       "      <td>0.605144</td>\n",
       "      <td>0.173542</td>\n",
       "      <td>0.545455</td>\n",
       "      <td>0.162106</td>\n",
       "    </tr>\n",
       "    <tr>\n",
       "      <th>12988</th>\n",
       "      <td>2018-07-01</td>\n",
       "      <td>5</td>\n",
       "      <td>10.0</td>\n",
       "      <td>8294.0</td>\n",
       "      <td>1</td>\n",
       "      <td>2018-07</td>\n",
       "      <td>7</td>\n",
       "      <td>0.173913</td>\n",
       "      <td>0.605144</td>\n",
       "      <td>0.169392</td>\n",
       "      <td>0.545455</td>\n",
       "      <td>0.162106</td>\n",
       "    </tr>\n",
       "  </tbody>\n",
       "</table>\n",
       "</div>"
      ],
      "text/plain": [
       "        OPR_DATE  OPR_HOUR   TMP  ACTUAL_DEMAND  WEEKDAY month_year  month  \\\n",
       "12984 2018-07-01         1  12.2         8589.0        1    2018-07      7   \n",
       "12985 2018-07-01         2  12.2         8426.0        1    2018-07      7   \n",
       "12986 2018-07-01         3  10.0         8321.0        1    2018-07      7   \n",
       "12987 2018-07-01         4  10.0         8311.0        1    2018-07      7   \n",
       "12988 2018-07-01         5  10.0         8294.0        1    2018-07      7   \n",
       "\n",
       "       OPR_HOUR1      TMP1  ACTUAL_DEMAND1    month1  predictions  \n",
       "12984   0.000000  0.638427        0.241396  0.545455     0.217799  \n",
       "12985   0.043478  0.638427        0.201611  0.545455     0.188846  \n",
       "12986   0.086957  0.605144        0.175982  0.545455     0.169512  \n",
       "12987   0.130435  0.605144        0.173542  0.545455     0.162106  \n",
       "12988   0.173913  0.605144        0.169392  0.545455     0.162106  "
      ]
     },
     "execution_count": 54,
     "metadata": {},
     "output_type": "execute_result"
    }
   ],
   "source": [
    "dftest.head()"
   ]
  },
  {
   "cell_type": "code",
   "execution_count": 55,
   "metadata": {},
   "outputs": [],
   "source": [
    "dftest['real_prediction']=dftest['predictions'] *(dftrain['ACTUAL_DEMAND'].max()-dftrain['ACTUAL_DEMAND'].min())+ dftrain['ACTUAL_DEMAND'].min()"
   ]
  },
  {
   "cell_type": "code",
   "execution_count": 56,
   "metadata": {},
   "outputs": [
    {
     "data": {
      "text/html": [
       "<div>\n",
       "<style scoped>\n",
       "    .dataframe tbody tr th:only-of-type {\n",
       "        vertical-align: middle;\n",
       "    }\n",
       "\n",
       "    .dataframe tbody tr th {\n",
       "        vertical-align: top;\n",
       "    }\n",
       "\n",
       "    .dataframe thead th {\n",
       "        text-align: right;\n",
       "    }\n",
       "</style>\n",
       "<table border=\"1\" class=\"dataframe\">\n",
       "  <thead>\n",
       "    <tr style=\"text-align: right;\">\n",
       "      <th></th>\n",
       "      <th>OPR_DATE</th>\n",
       "      <th>OPR_HOUR</th>\n",
       "      <th>TMP</th>\n",
       "      <th>ACTUAL_DEMAND</th>\n",
       "      <th>WEEKDAY</th>\n",
       "      <th>month_year</th>\n",
       "      <th>month</th>\n",
       "      <th>OPR_HOUR1</th>\n",
       "      <th>TMP1</th>\n",
       "      <th>ACTUAL_DEMAND1</th>\n",
       "      <th>month1</th>\n",
       "      <th>predictions</th>\n",
       "      <th>real_prediction</th>\n",
       "    </tr>\n",
       "  </thead>\n",
       "  <tbody>\n",
       "    <tr>\n",
       "      <th>12984</th>\n",
       "      <td>2018-07-01</td>\n",
       "      <td>1</td>\n",
       "      <td>12.2</td>\n",
       "      <td>8589.0</td>\n",
       "      <td>1</td>\n",
       "      <td>2018-07</td>\n",
       "      <td>7</td>\n",
       "      <td>0.000000</td>\n",
       "      <td>0.638427</td>\n",
       "      <td>0.241396</td>\n",
       "      <td>0.545455</td>\n",
       "      <td>0.217799</td>\n",
       "      <td>8492.320486</td>\n",
       "    </tr>\n",
       "    <tr>\n",
       "      <th>12985</th>\n",
       "      <td>2018-07-01</td>\n",
       "      <td>2</td>\n",
       "      <td>12.2</td>\n",
       "      <td>8426.0</td>\n",
       "      <td>1</td>\n",
       "      <td>2018-07</td>\n",
       "      <td>7</td>\n",
       "      <td>0.043478</td>\n",
       "      <td>0.638427</td>\n",
       "      <td>0.201611</td>\n",
       "      <td>0.545455</td>\n",
       "      <td>0.188846</td>\n",
       "      <td>8373.703159</td>\n",
       "    </tr>\n",
       "    <tr>\n",
       "      <th>12986</th>\n",
       "      <td>2018-07-01</td>\n",
       "      <td>3</td>\n",
       "      <td>10.0</td>\n",
       "      <td>8321.0</td>\n",
       "      <td>1</td>\n",
       "      <td>2018-07</td>\n",
       "      <td>7</td>\n",
       "      <td>0.086957</td>\n",
       "      <td>0.605144</td>\n",
       "      <td>0.175982</td>\n",
       "      <td>0.545455</td>\n",
       "      <td>0.169512</td>\n",
       "      <td>8294.491678</td>\n",
       "    </tr>\n",
       "    <tr>\n",
       "      <th>12987</th>\n",
       "      <td>2018-07-01</td>\n",
       "      <td>4</td>\n",
       "      <td>10.0</td>\n",
       "      <td>8311.0</td>\n",
       "      <td>1</td>\n",
       "      <td>2018-07</td>\n",
       "      <td>7</td>\n",
       "      <td>0.130435</td>\n",
       "      <td>0.605144</td>\n",
       "      <td>0.173542</td>\n",
       "      <td>0.545455</td>\n",
       "      <td>0.162106</td>\n",
       "      <td>8264.147145</td>\n",
       "    </tr>\n",
       "    <tr>\n",
       "      <th>12988</th>\n",
       "      <td>2018-07-01</td>\n",
       "      <td>5</td>\n",
       "      <td>10.0</td>\n",
       "      <td>8294.0</td>\n",
       "      <td>1</td>\n",
       "      <td>2018-07</td>\n",
       "      <td>7</td>\n",
       "      <td>0.173913</td>\n",
       "      <td>0.605144</td>\n",
       "      <td>0.169392</td>\n",
       "      <td>0.545455</td>\n",
       "      <td>0.162106</td>\n",
       "      <td>8264.147145</td>\n",
       "    </tr>\n",
       "  </tbody>\n",
       "</table>\n",
       "</div>"
      ],
      "text/plain": [
       "        OPR_DATE  OPR_HOUR   TMP  ACTUAL_DEMAND  WEEKDAY month_year  month  \\\n",
       "12984 2018-07-01         1  12.2         8589.0        1    2018-07      7   \n",
       "12985 2018-07-01         2  12.2         8426.0        1    2018-07      7   \n",
       "12986 2018-07-01         3  10.0         8321.0        1    2018-07      7   \n",
       "12987 2018-07-01         4  10.0         8311.0        1    2018-07      7   \n",
       "12988 2018-07-01         5  10.0         8294.0        1    2018-07      7   \n",
       "\n",
       "       OPR_HOUR1      TMP1  ACTUAL_DEMAND1    month1  predictions  \\\n",
       "12984   0.000000  0.638427        0.241396  0.545455     0.217799   \n",
       "12985   0.043478  0.638427        0.201611  0.545455     0.188846   \n",
       "12986   0.086957  0.605144        0.175982  0.545455     0.169512   \n",
       "12987   0.130435  0.605144        0.173542  0.545455     0.162106   \n",
       "12988   0.173913  0.605144        0.169392  0.545455     0.162106   \n",
       "\n",
       "       real_prediction  \n",
       "12984      8492.320486  \n",
       "12985      8373.703159  \n",
       "12986      8294.491678  \n",
       "12987      8264.147145  \n",
       "12988      8264.147145  "
      ]
     },
     "execution_count": 56,
     "metadata": {},
     "output_type": "execute_result"
    }
   ],
   "source": [
    "dftest.head()"
   ]
  },
  {
   "cell_type": "code",
   "execution_count": 57,
   "metadata": {},
   "outputs": [
    {
     "data": {
      "text/plain": [
       "Text(0.5, 1.0, 'Linear Regression Model')"
      ]
     },
     "execution_count": 57,
     "metadata": {},
     "output_type": "execute_result"
    },
    {
     "data": {
      "image/png": "[encoded data removed]",
      "text/plain": [
       "<Figure size 432x288 with 1 Axes>"
      ]
     },
     "metadata": {
      "needs_background": "light"
     },
     "output_type": "display_data"
    }
   ],
   "source": [
    "actual_values = testY\n",
    "predictions=dftest['real_prediction']\n",
    " \n",
    "plt.scatter(predictions,  actual_values, alpha=.75,\n",
    "            color='b') #alpha helps to show overlapping data\n",
    "plt.xlabel('Predicted Demand')\n",
    "plt.ylabel('Actual Demand')\n",
    "plt.title('Linear Regression Model')\n",
    "#pltrandom_state=None.show()"
   ]
  },
  {
   "cell_type": "code",
   "execution_count": 58,
   "metadata": {},
   "outputs": [
    {
     "data": {
      "text/html": [
       "<div>\n",
       "<style scoped>\n",
       "    .dataframe tbody tr th:only-of-type {\n",
       "        vertical-align: middle;\n",
       "    }\n",
       "\n",
       "    .dataframe tbody tr th {\n",
       "        vertical-align: top;\n",
       "    }\n",
       "\n",
       "    .dataframe thead th {\n",
       "        text-align: right;\n",
       "    }\n",
       "</style>\n",
       "<table border=\"1\" class=\"dataframe\">\n",
       "  <thead>\n",
       "    <tr style=\"text-align: right;\">\n",
       "      <th></th>\n",
       "      <th>OPR_HOUR</th>\n",
       "      <th>TMP</th>\n",
       "      <th>ACTUAL_DEMAND</th>\n",
       "      <th>WEEKDAY</th>\n",
       "      <th>month</th>\n",
       "      <th>OPR_HOUR1</th>\n",
       "      <th>TMP1</th>\n",
       "      <th>ACTUAL_DEMAND1</th>\n",
       "      <th>month1</th>\n",
       "      <th>predictions</th>\n",
       "      <th>real_prediction</th>\n",
       "      <th>error</th>\n",
       "    </tr>\n",
       "    <tr>\n",
       "      <th>OPR_DATE</th>\n",
       "      <th></th>\n",
       "      <th></th>\n",
       "      <th></th>\n",
       "      <th></th>\n",
       "      <th></th>\n",
       "      <th></th>\n",
       "      <th></th>\n",
       "      <th></th>\n",
       "      <th></th>\n",
       "      <th></th>\n",
       "      <th></th>\n",
       "      <th></th>\n",
       "    </tr>\n",
       "  </thead>\n",
       "  <tbody>\n",
       "    <tr>\n",
       "      <th>2018-07-01</th>\n",
       "      <td>12.5</td>\n",
       "      <td>14.354167</td>\n",
       "      <td>8774.750000</td>\n",
       "      <td>1.0</td>\n",
       "      <td>7.0</td>\n",
       "      <td>0.5</td>\n",
       "      <td>0.671016</td>\n",
       "      <td>0.286734</td>\n",
       "      <td>0.545455</td>\n",
       "      <td>0.332438</td>\n",
       "      <td>8961.997247</td>\n",
       "      <td>0.021339</td>\n",
       "    </tr>\n",
       "    <tr>\n",
       "      <th>2018-07-02</th>\n",
       "      <td>12.5</td>\n",
       "      <td>10.629167</td>\n",
       "      <td>8910.791667</td>\n",
       "      <td>0.0</td>\n",
       "      <td>7.0</td>\n",
       "      <td>0.5</td>\n",
       "      <td>0.614662</td>\n",
       "      <td>0.319939</td>\n",
       "      <td>0.545455</td>\n",
       "      <td>0.392058</td>\n",
       "      <td>9206.262669</td>\n",
       "      <td>0.033159</td>\n",
       "    </tr>\n",
       "    <tr>\n",
       "      <th>2018-07-03</th>\n",
       "      <td>12.5</td>\n",
       "      <td>11.025000</td>\n",
       "      <td>9268.708333</td>\n",
       "      <td>0.0</td>\n",
       "      <td>7.0</td>\n",
       "      <td>0.5</td>\n",
       "      <td>0.620651</td>\n",
       "      <td>0.407300</td>\n",
       "      <td>0.545455</td>\n",
       "      <td>0.392398</td>\n",
       "      <td>9207.653206</td>\n",
       "      <td>-0.006587</td>\n",
       "    </tr>\n",
       "    <tr>\n",
       "      <th>2018-07-04</th>\n",
       "      <td>12.5</td>\n",
       "      <td>13.841667</td>\n",
       "      <td>9203.500000</td>\n",
       "      <td>0.0</td>\n",
       "      <td>7.0</td>\n",
       "      <td>0.5</td>\n",
       "      <td>0.663263</td>\n",
       "      <td>0.391384</td>\n",
       "      <td>0.545455</td>\n",
       "      <td>0.400277</td>\n",
       "      <td>9239.932845</td>\n",
       "      <td>0.003959</td>\n",
       "    </tr>\n",
       "    <tr>\n",
       "      <th>2018-07-05</th>\n",
       "      <td>12.5</td>\n",
       "      <td>18.333333</td>\n",
       "      <td>9496.875000</td>\n",
       "      <td>0.0</td>\n",
       "      <td>7.0</td>\n",
       "      <td>0.5</td>\n",
       "      <td>0.731215</td>\n",
       "      <td>0.462991</td>\n",
       "      <td>0.545455</td>\n",
       "      <td>0.450723</td>\n",
       "      <td>9446.613218</td>\n",
       "      <td>-0.005292</td>\n",
       "    </tr>\n",
       "  </tbody>\n",
       "</table>\n",
       "</div>"
      ],
      "text/plain": [
       "            OPR_HOUR        TMP  ACTUAL_DEMAND  WEEKDAY  month  OPR_HOUR1  \\\n",
       "OPR_DATE                                                                    \n",
       "2018-07-01      12.5  14.354167    8774.750000      1.0    7.0        0.5   \n",
       "2018-07-02      12.5  10.629167    8910.791667      0.0    7.0        0.5   \n",
       "2018-07-03      12.5  11.025000    9268.708333      0.0    7.0        0.5   \n",
       "2018-07-04      12.5  13.841667    9203.500000      0.0    7.0        0.5   \n",
       "2018-07-05      12.5  18.333333    9496.875000      0.0    7.0        0.5   \n",
       "\n",
       "                TMP1  ACTUAL_DEMAND1    month1  predictions  real_prediction  \\\n",
       "OPR_DATE                                                                       \n",
       "2018-07-01  0.671016        0.286734  0.545455     0.332438      8961.997247   \n",
       "2018-07-02  0.614662        0.319939  0.545455     0.392058      9206.262669   \n",
       "2018-07-03  0.620651        0.407300  0.545455     0.392398      9207.653206   \n",
       "2018-07-04  0.663263        0.391384  0.545455     0.400277      9239.932845   \n",
       "2018-07-05  0.731215        0.462991  0.545455     0.450723      9446.613218   \n",
       "\n",
       "               error  \n",
       "OPR_DATE              \n",
       "2018-07-01  0.021339  \n",
       "2018-07-02  0.033159  \n",
       "2018-07-03 -0.006587  \n",
       "2018-07-04  0.003959  \n",
       "2018-07-05 -0.005292  "
      ]
     },
     "execution_count": 58,
     "metadata": {},
     "output_type": "execute_result"
    }
   ],
   "source": [
    "\n",
    "#submission=dftest[['OPR_DATE','ACTUAL_DEMAND','real_prediction','predictions','ACTUAL_DEMAND1' ]].groupby(['OPR_DATE']).mean()\n",
    "submission=dftest.groupby(['OPR_DATE']).mean()\n",
    "submission['error']=(submission['real_prediction']-submission['ACTUAL_DEMAND'])/submission['ACTUAL_DEMAND']\n",
    " \n",
    "\n",
    "submission.to_csv(r'C:\\Users\\15878\\Documents\\prediction.csv')\n",
    "submission.head() "
   ]
  },
  {
   "cell_type": "code",
   "execution_count": 59,
   "metadata": {},
   "outputs": [
    {
     "data": {
      "image/png": "[encoded data removed]",
      "text/plain": [
       "<Figure size 432x288 with 1 Axes>"
      ]
     },
     "metadata": {
      "needs_background": "light"
     },
     "output_type": "display_data"
    }
   ],
   "source": [
    "submission['error'].plot()\n",
    "plt.title('Prediction Error')\n",
    "ax = plt.gca()\n",
    "ax.set_facecolor((0.898, 0.898, 0.898))\n",
    "fig = plt.gcf()\n",
    "plt.xlabel('DATE')\n",
    "plt.ylabel(' Error')\n",
    "plt.legend()\n",
    "\n",
    "plt.show()\n",
    "plt.close()"
   ]
  },
  {
   "cell_type": "code",
   "execution_count": 60,
   "metadata": {},
   "outputs": [
    {
     "data": {
      "image/png": "[encoded data removed]",
      "text/plain": [
       "<Figure size 432x288 with 1 Axes>"
      ]
     },
     "metadata": {
      "needs_background": "light"
     },
     "output_type": "display_data"
    }
   ],
   "source": [
    "     \n",
    "y1=submission['ACTUAL_DEMAND']\n",
    "y2=submission['real_prediction']\n",
    "plt.plot(  y1, '-b',  label='Actual' )\n",
    "plt.plot(  y2, '-r',  label='Prediction')\n",
    "plt.title('Actual & Prediction demand')\n",
    "ax = plt.gca()\n",
    "ax.set_facecolor((0.898, 0.898, 0.898))\n",
    "plt.legend( )\n",
    "\n",
    "fig = plt.gcf()\n",
    "plt.xlabel('DATE')\n",
    "plt.ylabel(' DEMAND')\n",
    "plt.ylim(5000, 12000)\n",
    "plt.show()\n",
    "plt.close()"
   ]
  },
  {
   "cell_type": "markdown",
   "metadata": {},
   "source": [
    "# simple polynomia regression\n"
   ]
  },
  {
   "cell_type": "code",
   "execution_count": 61,
   "metadata": {},
   "outputs": [
    {
     "data": {
      "text/plain": [
       "(16655, 7)"
      ]
     },
     "execution_count": 61,
     "metadata": {},
     "output_type": "execute_result"
    }
   ],
   "source": [
    "dftrain=df_original[(df.month_year !='2018-07')   ]\n",
    "#dftrain=dftrain[(dftrain.month >=3) & (dftrain.month <=11)]\n",
    "dftrain.shape"
   ]
  },
  {
   "cell_type": "code",
   "execution_count": 62,
   "metadata": {},
   "outputs": [
    {
     "data": {
      "text/plain": [
       "(744, 7)"
      ]
     },
     "execution_count": 62,
     "metadata": {},
     "output_type": "execute_result"
    }
   ],
   "source": [
    "dftest=df_original[(df.month_year =='2018-07')   ]\n",
    "dftest.shape"
   ]
  },
  {
   "cell_type": "code",
   "execution_count": 63,
   "metadata": {},
   "outputs": [],
   "source": [
    "dftrain_end=dftrain[(dftrain.WEEKDAY==1)  ]\n",
    "dftrain_weekday=dftrain[(dftrain.WEEKDAY==0) ]\n",
    "dftest_end=dftest[(dftest.WEEKDAY==1)  ]\n",
    "dftest_weekday=dftest[(dftest.WEEKDAY==0) ]"
   ]
  },
  {
   "cell_type": "code",
   "execution_count": 64,
   "metadata": {},
   "outputs": [],
   "source": [
    "x_train_w = dftrain_weekday['TMP']\n",
    "y_train_w = dftrain_weekday['ACTUAL_DEMAND']\n",
    "x_test_w=dftest_weekday['TMP']\n",
    "y_test_w=dftest_weekday['ACTUAL_DEMAND']"
   ]
  },
  {
   "cell_type": "code",
   "execution_count": 65,
   "metadata": {},
   "outputs": [],
   "source": [
    "x_train_e = dftrain_end['TMP']\n",
    "y_train_e = dftrain_end['ACTUAL_DEMAND']\n",
    "x_test_e=dftest_end['TMP']\n",
    "y_test_e=dftest_end['ACTUAL_DEMAND']"
   ]
  },
  {
   "cell_type": "code",
   "execution_count": 66,
   "metadata": {},
   "outputs": [
    {
     "name": "stdout",
     "output_type": "stream",
     "text": [
      "            5             4          3          2\n",
      "-7.993e-05 x + 0.0007473 x + 0.1456 x + 0.4472 x - 68.99 x + 9690\n"
     ]
    }
   ],
   "source": [
    "f = np.polyfit(x_train_w, y_train_w, 5)\n",
    "p = np.poly1d(f)\n",
    "print(p)\n"
   ]
  },
  {
   "cell_type": "code",
   "execution_count": 67,
   "metadata": {},
   "outputs": [],
   "source": [
    "def PlotPolly(model, independent_variable, dependent_variabble, Name):\n",
    "    x_new = np.linspace(-30, 35, 100)\n",
    "    y_new = model(x_new)\n",
    "\n",
    "    plt.plot(independent_variable, dependent_variabble, '.', x_new, y_new, '-')\n",
    "    plt.title('Polynomial Fit with Matplotlib for ACTUAL DEMAND ~ TMP')\n",
    "    ax = plt.gca()\n",
    "    ax.set_facecolor((0.898, 0.898, 0.898))\n",
    "    fig = plt.gcf()\n",
    "    plt.xlabel('TMP')\n",
    "    plt.ylabel('ACTUAL_DEMAND')\n",
    "\n",
    "    plt.show()\n",
    "    plt.close()"
   ]
  },
  {
   "cell_type": "code",
   "execution_count": 68,
   "metadata": {},
   "outputs": [
    {
     "data": {
      "text/html": [
       "<div>\n",
       "<style scoped>\n",
       "    .dataframe tbody tr th:only-of-type {\n",
       "        vertical-align: middle;\n",
       "    }\n",
       "\n",
       "    .dataframe tbody tr th {\n",
       "        vertical-align: top;\n",
       "    }\n",
       "\n",
       "    .dataframe thead th {\n",
       "        text-align: right;\n",
       "    }\n",
       "</style>\n",
       "<table border=\"1\" class=\"dataframe\">\n",
       "  <thead>\n",
       "    <tr style=\"text-align: right;\">\n",
       "      <th></th>\n",
       "      <th>OPR_DATE</th>\n",
       "      <th>OPR_HOUR</th>\n",
       "      <th>TMP</th>\n",
       "      <th>ACTUAL_DEMAND</th>\n",
       "      <th>WEEKDAY</th>\n",
       "      <th>month_year</th>\n",
       "      <th>month</th>\n",
       "      <th>prediction</th>\n",
       "    </tr>\n",
       "  </thead>\n",
       "  <tbody>\n",
       "    <tr>\n",
       "      <th>13008</th>\n",
       "      <td>2018-07-02</td>\n",
       "      <td>1</td>\n",
       "      <td>11.1</td>\n",
       "      <td>8545.0</td>\n",
       "      <td>0</td>\n",
       "      <td>2018-07</td>\n",
       "      <td>7</td>\n",
       "      <td>9176.133324</td>\n",
       "    </tr>\n",
       "    <tr>\n",
       "      <th>13009</th>\n",
       "      <td>2018-07-02</td>\n",
       "      <td>2</td>\n",
       "      <td>8.9</td>\n",
       "      <td>8419.0</td>\n",
       "      <td>0</td>\n",
       "      <td>2018-07</td>\n",
       "      <td>7</td>\n",
       "      <td>9214.139362</td>\n",
       "    </tr>\n",
       "    <tr>\n",
       "      <th>13010</th>\n",
       "      <td>2018-07-02</td>\n",
       "      <td>3</td>\n",
       "      <td>8.9</td>\n",
       "      <td>8312.0</td>\n",
       "      <td>0</td>\n",
       "      <td>2018-07</td>\n",
       "      <td>7</td>\n",
       "      <td>9214.139362</td>\n",
       "    </tr>\n",
       "    <tr>\n",
       "      <th>13011</th>\n",
       "      <td>2018-07-02</td>\n",
       "      <td>4</td>\n",
       "      <td>8.9</td>\n",
       "      <td>8277.0</td>\n",
       "      <td>0</td>\n",
       "      <td>2018-07</td>\n",
       "      <td>7</td>\n",
       "      <td>9214.139362</td>\n",
       "    </tr>\n",
       "    <tr>\n",
       "      <th>13012</th>\n",
       "      <td>2018-07-02</td>\n",
       "      <td>5</td>\n",
       "      <td>8.9</td>\n",
       "      <td>8265.0</td>\n",
       "      <td>0</td>\n",
       "      <td>2018-07</td>\n",
       "      <td>7</td>\n",
       "      <td>9214.139362</td>\n",
       "    </tr>\n",
       "  </tbody>\n",
       "</table>\n",
       "</div>"
      ],
      "text/plain": [
       "        OPR_DATE  OPR_HOUR   TMP  ACTUAL_DEMAND  WEEKDAY month_year  month  \\\n",
       "13008 2018-07-02         1  11.1         8545.0        0    2018-07      7   \n",
       "13009 2018-07-02         2   8.9         8419.0        0    2018-07      7   \n",
       "13010 2018-07-02         3   8.9         8312.0        0    2018-07      7   \n",
       "13011 2018-07-02         4   8.9         8277.0        0    2018-07      7   \n",
       "13012 2018-07-02         5   8.9         8265.0        0    2018-07      7   \n",
       "\n",
       "        prediction  \n",
       "13008  9176.133324  \n",
       "13009  9214.139362  \n",
       "13010  9214.139362  \n",
       "13011  9214.139362  \n",
       "13012  9214.139362  "
      ]
     },
     "execution_count": 68,
     "metadata": {},
     "output_type": "execute_result"
    }
   ],
   "source": [
    "dftest_weekday=dftest_weekday.copy()\n",
    "p(x_test_w)\n",
    "dftest_weekday['prediction']=p(x_test_w)\n",
    "dftest_weekday.head()\n"
   ]
  },
  {
   "cell_type": "code",
   "execution_count": 69,
   "metadata": {},
   "outputs": [],
   "source": [
    "submission1=dftest_weekday.groupby(['OPR_DATE']).mean()\n",
    "submission1.head()\n",
    "submission1['error']=(submission1['prediction']-submission1['ACTUAL_DEMAND'])/submission1['ACTUAL_DEMAND']\n",
    " \n",
    "submission1.head()\n",
    "submission1.to_csv(r'C:\\Users\\15878\\Documents\\prediction_seperated.csv')\n"
   ]
  },
  {
   "cell_type": "code",
   "execution_count": 70,
   "metadata": {},
   "outputs": [
    {
     "data": {
      "image/png": "[encoded data removed]",
      "text/plain": [
       "<Figure size 432x288 with 1 Axes>"
      ]
     },
     "metadata": {
      "needs_background": "light"
     },
     "output_type": "display_data"
    }
   ],
   "source": [
    "submission1['error'].plot()\n",
    "plt.title('Prediction Error')\n",
    "ax = plt.gca()\n",
    "ax.set_facecolor((0.898, 0.898, 0.898))\n",
    "fig = plt.gcf()\n",
    "plt.xlabel('DATE')\n",
    "plt.ylabel(' Error')\n",
    "plt.legend()\n",
    "\n",
    "plt.show()\n",
    "plt.close()"
   ]
  },
  {
   "cell_type": "code",
   "execution_count": 71,
   "metadata": {},
   "outputs": [
    {
     "data": {
      "image/png": "[encoded data removed]",
      "text/plain": [
       "<Figure size 432x288 with 1 Axes>"
      ]
     },
     "metadata": {
      "needs_background": "light"
     },
     "output_type": "display_data"
    }
   ],
   "source": [
    "y1=submission1['ACTUAL_DEMAND']\n",
    "y2=submission1['prediction']\n",
    "plt.plot(  y1, '-b',  label='Actual' )\n",
    "plt.plot(  y2, '-r',  label='Prediction')\n",
    "plt.title('Actual & Prediction demand')\n",
    "ax = plt.gca()\n",
    "ax.set_facecolor((0.898, 0.898, 0.898))\n",
    "plt.legend( )\n",
    "\n",
    "fig = plt.gcf()\n",
    "plt.xlabel('DATE')\n",
    "plt.ylabel(' DEMAND')\n",
    "plt.ylim(5000, 12000)\n",
    "fig.autofmt_xdate()\n",
    "plt.show()\n",
    "plt.close()\n"
   ]
  },
  {
   "cell_type": "code",
   "execution_count": 72,
   "metadata": {},
   "outputs": [
    {
     "data": {
      "image/png": "[encoded data removed]",
      "text/plain": [
       "<Figure size 432x288 with 1 Axes>"
      ]
     },
     "metadata": {
      "needs_background": "light"
     },
     "output_type": "display_data"
    }
   ],
   "source": [
    "PlotPolly(p, x_test_w, y_test_w, 'TMP-demand')"
   ]
  },
  {
   "cell_type": "code",
   "execution_count": 73,
   "metadata": {},
   "outputs": [
    {
     "data": {
      "image/png": "[encoded data removed]",
      "text/plain": [
       "<Figure size 432x288 with 1 Axes>"
      ]
     },
     "metadata": {
      "needs_background": "light"
     },
     "output_type": "display_data"
    }
   ],
   "source": [
    "PlotPolly(p, x_train_w, y_train_w, 'TMP-demand')"
   ]
  },
  {
   "cell_type": "markdown",
   "metadata": {},
   "source": [
    "# for weekend\n"
   ]
  },
  {
   "cell_type": "code",
   "execution_count": 74,
   "metadata": {},
   "outputs": [
    {
     "name": "stdout",
     "output_type": "stream",
     "text": [
      "            5            4          3             2\n",
      "-0.0001009 x + 0.001291 x + 0.1537 x + 0.0001391 x - 71.31 x + 9447\n"
     ]
    }
   ],
   "source": [
    "f = np.polyfit(x_train_e, y_train_e, 5)\n",
    "p = np.poly1d(f)\n",
    "print(p)  \n"
   ]
  },
  {
   "cell_type": "code",
   "execution_count": 75,
   "metadata": {},
   "outputs": [
    {
     "data": {
      "image/png": "[encoded data removed]",
      "text/plain": [
       "<Figure size 432x288 with 1 Axes>"
      ]
     },
     "metadata": {
      "needs_background": "light"
     },
     "output_type": "display_data"
    }
   ],
   "source": [
    "PlotPolly(p, x_train_e, y_train_e, 'TMP-demand')"
   ]
  },
  {
   "cell_type": "code",
   "execution_count": 76,
   "metadata": {},
   "outputs": [
    {
     "data": {
      "image/png": "[encoded data removed]",
      "text/plain": [
       "<Figure size 432x288 with 1 Axes>"
      ]
     },
     "metadata": {
      "needs_background": "light"
     },
     "output_type": "display_data"
    }
   ],
   "source": [
    "PlotPolly(p, x_test_e, y_test_e, 'TMP-demand')"
   ]
  },
  {
   "cell_type": "code",
   "execution_count": 77,
   "metadata": {},
   "outputs": [
    {
     "data": {
      "text/html": [
       "<div>\n",
       "<style scoped>\n",
       "    .dataframe tbody tr th:only-of-type {\n",
       "        vertical-align: middle;\n",
       "    }\n",
       "\n",
       "    .dataframe tbody tr th {\n",
       "        vertical-align: top;\n",
       "    }\n",
       "\n",
       "    .dataframe thead th {\n",
       "        text-align: right;\n",
       "    }\n",
       "</style>\n",
       "<table border=\"1\" class=\"dataframe\">\n",
       "  <thead>\n",
       "    <tr style=\"text-align: right;\">\n",
       "      <th></th>\n",
       "      <th>OPR_DATE</th>\n",
       "      <th>OPR_HOUR</th>\n",
       "      <th>TMP</th>\n",
       "      <th>ACTUAL_DEMAND</th>\n",
       "      <th>WEEKDAY</th>\n",
       "      <th>month_year</th>\n",
       "      <th>month</th>\n",
       "      <th>prediction</th>\n",
       "    </tr>\n",
       "  </thead>\n",
       "  <tbody>\n",
       "    <tr>\n",
       "      <th>12984</th>\n",
       "      <td>2018-07-01</td>\n",
       "      <td>1</td>\n",
       "      <td>12.2</td>\n",
       "      <td>8589.0</td>\n",
       "      <td>1</td>\n",
       "      <td>2018-07</td>\n",
       "      <td>7</td>\n",
       "      <td>8857.217183</td>\n",
       "    </tr>\n",
       "    <tr>\n",
       "      <th>12985</th>\n",
       "      <td>2018-07-01</td>\n",
       "      <td>2</td>\n",
       "      <td>12.2</td>\n",
       "      <td>8426.0</td>\n",
       "      <td>1</td>\n",
       "      <td>2018-07</td>\n",
       "      <td>7</td>\n",
       "      <td>8857.217183</td>\n",
       "    </tr>\n",
       "    <tr>\n",
       "      <th>12986</th>\n",
       "      <td>2018-07-01</td>\n",
       "      <td>3</td>\n",
       "      <td>10.0</td>\n",
       "      <td>8321.0</td>\n",
       "      <td>1</td>\n",
       "      <td>2018-07</td>\n",
       "      <td>7</td>\n",
       "      <td>8890.196799</td>\n",
       "    </tr>\n",
       "    <tr>\n",
       "      <th>12987</th>\n",
       "      <td>2018-07-01</td>\n",
       "      <td>4</td>\n",
       "      <td>10.0</td>\n",
       "      <td>8311.0</td>\n",
       "      <td>1</td>\n",
       "      <td>2018-07</td>\n",
       "      <td>7</td>\n",
       "      <td>8890.196799</td>\n",
       "    </tr>\n",
       "    <tr>\n",
       "      <th>12988</th>\n",
       "      <td>2018-07-01</td>\n",
       "      <td>5</td>\n",
       "      <td>10.0</td>\n",
       "      <td>8294.0</td>\n",
       "      <td>1</td>\n",
       "      <td>2018-07</td>\n",
       "      <td>7</td>\n",
       "      <td>8890.196799</td>\n",
       "    </tr>\n",
       "  </tbody>\n",
       "</table>\n",
       "</div>"
      ],
      "text/plain": [
       "        OPR_DATE  OPR_HOUR   TMP  ACTUAL_DEMAND  WEEKDAY month_year  month  \\\n",
       "12984 2018-07-01         1  12.2         8589.0        1    2018-07      7   \n",
       "12985 2018-07-01         2  12.2         8426.0        1    2018-07      7   \n",
       "12986 2018-07-01         3  10.0         8321.0        1    2018-07      7   \n",
       "12987 2018-07-01         4  10.0         8311.0        1    2018-07      7   \n",
       "12988 2018-07-01         5  10.0         8294.0        1    2018-07      7   \n",
       "\n",
       "        prediction  \n",
       "12984  8857.217183  \n",
       "12985  8857.217183  \n",
       "12986  8890.196799  \n",
       "12987  8890.196799  \n",
       "12988  8890.196799  "
      ]
     },
     "execution_count": 77,
     "metadata": {},
     "output_type": "execute_result"
    }
   ],
   "source": [
    "p(x_test_e)\n",
    "dftest_end=dftest_end.copy()\n",
    "dftest_end['prediction']=p(x_test_e)\n",
    "dftest_end.head()"
   ]
  },
  {
   "cell_type": "code",
   "execution_count": 78,
   "metadata": {},
   "outputs": [
    {
     "data": {
      "text/html": [
       "<div>\n",
       "<style scoped>\n",
       "    .dataframe tbody tr th:only-of-type {\n",
       "        vertical-align: middle;\n",
       "    }\n",
       "\n",
       "    .dataframe tbody tr th {\n",
       "        vertical-align: top;\n",
       "    }\n",
       "\n",
       "    .dataframe thead th {\n",
       "        text-align: right;\n",
       "    }\n",
       "</style>\n",
       "<table border=\"1\" class=\"dataframe\">\n",
       "  <thead>\n",
       "    <tr style=\"text-align: right;\">\n",
       "      <th></th>\n",
       "      <th>OPR_HOUR</th>\n",
       "      <th>TMP</th>\n",
       "      <th>ACTUAL_DEMAND</th>\n",
       "      <th>WEEKDAY</th>\n",
       "      <th>month</th>\n",
       "      <th>prediction</th>\n",
       "      <th>error</th>\n",
       "    </tr>\n",
       "    <tr>\n",
       "      <th>OPR_DATE</th>\n",
       "      <th></th>\n",
       "      <th></th>\n",
       "      <th></th>\n",
       "      <th></th>\n",
       "      <th></th>\n",
       "      <th></th>\n",
       "      <th></th>\n",
       "    </tr>\n",
       "  </thead>\n",
       "  <tbody>\n",
       "    <tr>\n",
       "      <th>2018-07-01</th>\n",
       "      <td>12.5</td>\n",
       "      <td>14.354167</td>\n",
       "      <td>8774.750000</td>\n",
       "      <td>1.0</td>\n",
       "      <td>7.0</td>\n",
       "      <td>8934.868961</td>\n",
       "      <td>0.018248</td>\n",
       "    </tr>\n",
       "    <tr>\n",
       "      <th>2018-07-07</th>\n",
       "      <td>12.5</td>\n",
       "      <td>19.916667</td>\n",
       "      <td>9074.541667</td>\n",
       "      <td>1.0</td>\n",
       "      <td>7.0</td>\n",
       "      <td>9181.846825</td>\n",
       "      <td>0.011825</td>\n",
       "    </tr>\n",
       "    <tr>\n",
       "      <th>2018-07-08</th>\n",
       "      <td>12.5</td>\n",
       "      <td>17.229167</td>\n",
       "      <td>8976.666667</td>\n",
       "      <td>1.0</td>\n",
       "      <td>7.0</td>\n",
       "      <td>9095.611696</td>\n",
       "      <td>0.013250</td>\n",
       "    </tr>\n",
       "    <tr>\n",
       "      <th>2018-07-14</th>\n",
       "      <td>12.5</td>\n",
       "      <td>14.675000</td>\n",
       "      <td>9031.750000</td>\n",
       "      <td>1.0</td>\n",
       "      <td>7.0</td>\n",
       "      <td>8973.891373</td>\n",
       "      <td>-0.006406</td>\n",
       "    </tr>\n",
       "    <tr>\n",
       "      <th>2018-07-15</th>\n",
       "      <td>12.5</td>\n",
       "      <td>18.312500</td>\n",
       "      <td>9321.375000</td>\n",
       "      <td>1.0</td>\n",
       "      <td>7.0</td>\n",
       "      <td>9180.663131</td>\n",
       "      <td>-0.015096</td>\n",
       "    </tr>\n",
       "    <tr>\n",
       "      <th>2018-07-21</th>\n",
       "      <td>12.5</td>\n",
       "      <td>15.645833</td>\n",
       "      <td>9251.375000</td>\n",
       "      <td>1.0</td>\n",
       "      <td>7.0</td>\n",
       "      <td>8989.530994</td>\n",
       "      <td>-0.028303</td>\n",
       "    </tr>\n",
       "    <tr>\n",
       "      <th>2018-07-22</th>\n",
       "      <td>12.5</td>\n",
       "      <td>16.612500</td>\n",
       "      <td>9237.500000</td>\n",
       "      <td>1.0</td>\n",
       "      <td>7.0</td>\n",
       "      <td>9010.424969</td>\n",
       "      <td>-0.024582</td>\n",
       "    </tr>\n",
       "    <tr>\n",
       "      <th>2018-07-28</th>\n",
       "      <td>12.5</td>\n",
       "      <td>18.404167</td>\n",
       "      <td>9520.916667</td>\n",
       "      <td>1.0</td>\n",
       "      <td>7.0</td>\n",
       "      <td>9170.009947</td>\n",
       "      <td>-0.036856</td>\n",
       "    </tr>\n",
       "    <tr>\n",
       "      <th>2018-07-29</th>\n",
       "      <td>12.5</td>\n",
       "      <td>20.770833</td>\n",
       "      <td>9644.833333</td>\n",
       "      <td>1.0</td>\n",
       "      <td>7.0</td>\n",
       "      <td>9326.064773</td>\n",
       "      <td>-0.033051</td>\n",
       "    </tr>\n",
       "  </tbody>\n",
       "</table>\n",
       "</div>"
      ],
      "text/plain": [
       "            OPR_HOUR        TMP  ACTUAL_DEMAND  WEEKDAY  month   prediction  \\\n",
       "OPR_DATE                                                                      \n",
       "2018-07-01      12.5  14.354167    8774.750000      1.0    7.0  8934.868961   \n",
       "2018-07-07      12.5  19.916667    9074.541667      1.0    7.0  9181.846825   \n",
       "2018-07-08      12.5  17.229167    8976.666667      1.0    7.0  9095.611696   \n",
       "2018-07-14      12.5  14.675000    9031.750000      1.0    7.0  8973.891373   \n",
       "2018-07-15      12.5  18.312500    9321.375000      1.0    7.0  9180.663131   \n",
       "2018-07-21      12.5  15.645833    9251.375000      1.0    7.0  8989.530994   \n",
       "2018-07-22      12.5  16.612500    9237.500000      1.0    7.0  9010.424969   \n",
       "2018-07-28      12.5  18.404167    9520.916667      1.0    7.0  9170.009947   \n",
       "2018-07-29      12.5  20.770833    9644.833333      1.0    7.0  9326.064773   \n",
       "\n",
       "               error  \n",
       "OPR_DATE              \n",
       "2018-07-01  0.018248  \n",
       "2018-07-07  0.011825  \n",
       "2018-07-08  0.013250  \n",
       "2018-07-14 -0.006406  \n",
       "2018-07-15 -0.015096  \n",
       "2018-07-21 -0.028303  \n",
       "2018-07-22 -0.024582  \n",
       "2018-07-28 -0.036856  \n",
       "2018-07-29 -0.033051  "
      ]
     },
     "execution_count": 78,
     "metadata": {},
     "output_type": "execute_result"
    }
   ],
   "source": [
    "submission2=dftest_end.groupby(['OPR_DATE']).mean()\n",
    "submission2.head()\n",
    "submission2['error']=(submission2['prediction']-submission2['ACTUAL_DEMAND'])/submission2['ACTUAL_DEMAND']\n",
    " \n",
    "submission2.head(20)\n",
    "#submission2.to_csv(r'C:\\Users\\15878\\Documents\\prediction_seperated_weekend.csv')"
   ]
  },
  {
   "cell_type": "code",
   "execution_count": 79,
   "metadata": {},
   "outputs": [
    {
     "data": {
      "image/png": "[encoded data removed]",
      "text/plain": [
       "<Figure size 432x288 with 1 Axes>"
      ]
     },
     "metadata": {
      "needs_background": "light"
     },
     "output_type": "display_data"
    }
   ],
   "source": [
    "submission2['error'].plot()\n",
    "plt.title('Prediction Error')\n",
    "ax = plt.gca()\n",
    "ax.set_facecolor((0.898, 0.898, 0.898))\n",
    "fig = plt.gcf()\n",
    "plt.xlabel('DATE')\n",
    "plt.ylabel(' Error')\n",
    "plt.legend()\n",
    "\n",
    "plt.show()\n",
    "plt.close()"
   ]
  },
  {
   "cell_type": "code",
   "execution_count": 80,
   "metadata": {},
   "outputs": [
    {
     "data": {
      "image/png": "[encoded data removed]",
      "text/plain": [
       "<Figure size 432x288 with 1 Axes>"
      ]
     },
     "metadata": {
      "needs_background": "light"
     },
     "output_type": "display_data"
    }
   ],
   "source": [
    "y1=submission2['ACTUAL_DEMAND']\n",
    "y2=submission2['prediction']\n",
    "plt.plot(  y1, '-b',  label='Actual' )\n",
    "plt.plot(  y2, '-r',  label='Prediction')\n",
    "plt.title('Actual & Prediction demand')\n",
    "ax = plt.gca()\n",
    "ax.set_facecolor((0.898, 0.898, 0.898))\n",
    "plt.legend( )\n",
    "\n",
    "fig = plt.gcf()\n",
    "plt.xlabel('DATE')\n",
    "plt.ylabel(' DEMAND')\n",
    "plt.ylim(5000, 12000)\n",
    "fig.autofmt_xdate()\n",
    "plt.show()\n",
    "plt.close()"
   ]
  },
  {
   "cell_type": "code",
   "execution_count": 81,
   "metadata": {},
   "outputs": [
    {
     "data": {
      "text/html": [
       "<div>\n",
       "<style scoped>\n",
       "    .dataframe tbody tr th:only-of-type {\n",
       "        vertical-align: middle;\n",
       "    }\n",
       "\n",
       "    .dataframe tbody tr th {\n",
       "        vertical-align: top;\n",
       "    }\n",
       "\n",
       "    .dataframe thead th {\n",
       "        text-align: right;\n",
       "    }\n",
       "</style>\n",
       "<table border=\"1\" class=\"dataframe\">\n",
       "  <thead>\n",
       "    <tr style=\"text-align: right;\">\n",
       "      <th></th>\n",
       "      <th>OPR_HOUR</th>\n",
       "      <th>TMP</th>\n",
       "      <th>ACTUAL_DEMAND</th>\n",
       "      <th>WEEKDAY</th>\n",
       "      <th>month</th>\n",
       "      <th>prediction</th>\n",
       "      <th>error</th>\n",
       "    </tr>\n",
       "    <tr>\n",
       "      <th>OPR_DATE</th>\n",
       "      <th></th>\n",
       "      <th></th>\n",
       "      <th></th>\n",
       "      <th></th>\n",
       "      <th></th>\n",
       "      <th></th>\n",
       "      <th></th>\n",
       "    </tr>\n",
       "  </thead>\n",
       "  <tbody>\n",
       "    <tr>\n",
       "      <th>2018-07-02</th>\n",
       "      <td>12.5</td>\n",
       "      <td>10.629167</td>\n",
       "      <td>8910.791667</td>\n",
       "      <td>0.0</td>\n",
       "      <td>7.0</td>\n",
       "      <td>9198.754791</td>\n",
       "      <td>0.032316</td>\n",
       "    </tr>\n",
       "    <tr>\n",
       "      <th>2018-07-03</th>\n",
       "      <td>12.5</td>\n",
       "      <td>11.025000</td>\n",
       "      <td>9268.708333</td>\n",
       "      <td>0.0</td>\n",
       "      <td>7.0</td>\n",
       "      <td>9204.389544</td>\n",
       "      <td>-0.006939</td>\n",
       "    </tr>\n",
       "    <tr>\n",
       "      <th>2018-07-04</th>\n",
       "      <td>12.5</td>\n",
       "      <td>13.841667</td>\n",
       "      <td>9203.500000</td>\n",
       "      <td>0.0</td>\n",
       "      <td>7.0</td>\n",
       "      <td>9246.735200</td>\n",
       "      <td>0.004698</td>\n",
       "    </tr>\n",
       "    <tr>\n",
       "      <th>2018-07-05</th>\n",
       "      <td>12.5</td>\n",
       "      <td>18.333333</td>\n",
       "      <td>9496.875000</td>\n",
       "      <td>0.0</td>\n",
       "      <td>7.0</td>\n",
       "      <td>9551.659313</td>\n",
       "      <td>0.005769</td>\n",
       "    </tr>\n",
       "    <tr>\n",
       "      <th>2018-07-06</th>\n",
       "      <td>12.5</td>\n",
       "      <td>23.991667</td>\n",
       "      <td>9706.125000</td>\n",
       "      <td>0.0</td>\n",
       "      <td>7.0</td>\n",
       "      <td>9996.613352</td>\n",
       "      <td>0.029928</td>\n",
       "    </tr>\n",
       "  </tbody>\n",
       "</table>\n",
       "</div>"
      ],
      "text/plain": [
       "            OPR_HOUR        TMP  ACTUAL_DEMAND  WEEKDAY  month   prediction  \\\n",
       "OPR_DATE                                                                      \n",
       "2018-07-02      12.5  10.629167    8910.791667      0.0    7.0  9198.754791   \n",
       "2018-07-03      12.5  11.025000    9268.708333      0.0    7.0  9204.389544   \n",
       "2018-07-04      12.5  13.841667    9203.500000      0.0    7.0  9246.735200   \n",
       "2018-07-05      12.5  18.333333    9496.875000      0.0    7.0  9551.659313   \n",
       "2018-07-06      12.5  23.991667    9706.125000      0.0    7.0  9996.613352   \n",
       "\n",
       "               error  \n",
       "OPR_DATE              \n",
       "2018-07-02  0.032316  \n",
       "2018-07-03 -0.006939  \n",
       "2018-07-04  0.004698  \n",
       "2018-07-05  0.005769  \n",
       "2018-07-06  0.029928  "
      ]
     },
     "execution_count": 81,
     "metadata": {},
     "output_type": "execute_result"
    }
   ],
   "source": [
    "submission1.head()"
   ]
  },
  {
   "cell_type": "code",
   "execution_count": 82,
   "metadata": {},
   "outputs": [
    {
     "data": {
      "text/html": [
       "<div>\n",
       "<style scoped>\n",
       "    .dataframe tbody tr th:only-of-type {\n",
       "        vertical-align: middle;\n",
       "    }\n",
       "\n",
       "    .dataframe tbody tr th {\n",
       "        vertical-align: top;\n",
       "    }\n",
       "\n",
       "    .dataframe thead th {\n",
       "        text-align: right;\n",
       "    }\n",
       "</style>\n",
       "<table border=\"1\" class=\"dataframe\">\n",
       "  <thead>\n",
       "    <tr style=\"text-align: right;\">\n",
       "      <th></th>\n",
       "      <th>OPR_HOUR</th>\n",
       "      <th>TMP</th>\n",
       "      <th>ACTUAL_DEMAND</th>\n",
       "      <th>WEEKDAY</th>\n",
       "      <th>month</th>\n",
       "      <th>prediction</th>\n",
       "      <th>error</th>\n",
       "    </tr>\n",
       "    <tr>\n",
       "      <th>OPR_DATE</th>\n",
       "      <th></th>\n",
       "      <th></th>\n",
       "      <th></th>\n",
       "      <th></th>\n",
       "      <th></th>\n",
       "      <th></th>\n",
       "      <th></th>\n",
       "    </tr>\n",
       "  </thead>\n",
       "  <tbody>\n",
       "    <tr>\n",
       "      <th>2018-07-01</th>\n",
       "      <td>12.5</td>\n",
       "      <td>14.354167</td>\n",
       "      <td>8774.750000</td>\n",
       "      <td>1.0</td>\n",
       "      <td>7.0</td>\n",
       "      <td>8934.868961</td>\n",
       "      <td>0.018248</td>\n",
       "    </tr>\n",
       "    <tr>\n",
       "      <th>2018-07-07</th>\n",
       "      <td>12.5</td>\n",
       "      <td>19.916667</td>\n",
       "      <td>9074.541667</td>\n",
       "      <td>1.0</td>\n",
       "      <td>7.0</td>\n",
       "      <td>9181.846825</td>\n",
       "      <td>0.011825</td>\n",
       "    </tr>\n",
       "    <tr>\n",
       "      <th>2018-07-08</th>\n",
       "      <td>12.5</td>\n",
       "      <td>17.229167</td>\n",
       "      <td>8976.666667</td>\n",
       "      <td>1.0</td>\n",
       "      <td>7.0</td>\n",
       "      <td>9095.611696</td>\n",
       "      <td>0.013250</td>\n",
       "    </tr>\n",
       "    <tr>\n",
       "      <th>2018-07-14</th>\n",
       "      <td>12.5</td>\n",
       "      <td>14.675000</td>\n",
       "      <td>9031.750000</td>\n",
       "      <td>1.0</td>\n",
       "      <td>7.0</td>\n",
       "      <td>8973.891373</td>\n",
       "      <td>-0.006406</td>\n",
       "    </tr>\n",
       "    <tr>\n",
       "      <th>2018-07-15</th>\n",
       "      <td>12.5</td>\n",
       "      <td>18.312500</td>\n",
       "      <td>9321.375000</td>\n",
       "      <td>1.0</td>\n",
       "      <td>7.0</td>\n",
       "      <td>9180.663131</td>\n",
       "      <td>-0.015096</td>\n",
       "    </tr>\n",
       "  </tbody>\n",
       "</table>\n",
       "</div>"
      ],
      "text/plain": [
       "            OPR_HOUR        TMP  ACTUAL_DEMAND  WEEKDAY  month   prediction  \\\n",
       "OPR_DATE                                                                      \n",
       "2018-07-01      12.5  14.354167    8774.750000      1.0    7.0  8934.868961   \n",
       "2018-07-07      12.5  19.916667    9074.541667      1.0    7.0  9181.846825   \n",
       "2018-07-08      12.5  17.229167    8976.666667      1.0    7.0  9095.611696   \n",
       "2018-07-14      12.5  14.675000    9031.750000      1.0    7.0  8973.891373   \n",
       "2018-07-15      12.5  18.312500    9321.375000      1.0    7.0  9180.663131   \n",
       "\n",
       "               error  \n",
       "OPR_DATE              \n",
       "2018-07-01  0.018248  \n",
       "2018-07-07  0.011825  \n",
       "2018-07-08  0.013250  \n",
       "2018-07-14 -0.006406  \n",
       "2018-07-15 -0.015096  "
      ]
     },
     "execution_count": 82,
     "metadata": {},
     "output_type": "execute_result"
    }
   ],
   "source": [
    "submission2.head()"
   ]
  },
  {
   "cell_type": "code",
   "execution_count": 83,
   "metadata": {},
   "outputs": [
    {
     "data": {
      "text/html": [
       "<div>\n",
       "<style scoped>\n",
       "    .dataframe tbody tr th:only-of-type {\n",
       "        vertical-align: middle;\n",
       "    }\n",
       "\n",
       "    .dataframe tbody tr th {\n",
       "        vertical-align: top;\n",
       "    }\n",
       "\n",
       "    .dataframe thead th {\n",
       "        text-align: right;\n",
       "    }\n",
       "</style>\n",
       "<table border=\"1\" class=\"dataframe\">\n",
       "  <thead>\n",
       "    <tr style=\"text-align: right;\">\n",
       "      <th></th>\n",
       "      <th>OPR_HOUR</th>\n",
       "      <th>TMP</th>\n",
       "      <th>ACTUAL_DEMAND</th>\n",
       "      <th>WEEKDAY</th>\n",
       "      <th>month</th>\n",
       "      <th>prediction</th>\n",
       "      <th>error</th>\n",
       "    </tr>\n",
       "    <tr>\n",
       "      <th>OPR_DATE</th>\n",
       "      <th></th>\n",
       "      <th></th>\n",
       "      <th></th>\n",
       "      <th></th>\n",
       "      <th></th>\n",
       "      <th></th>\n",
       "      <th></th>\n",
       "    </tr>\n",
       "  </thead>\n",
       "  <tbody>\n",
       "    <tr>\n",
       "      <th>2018-07-01</th>\n",
       "      <td>12.5</td>\n",
       "      <td>14.354167</td>\n",
       "      <td>8774.750000</td>\n",
       "      <td>1.0</td>\n",
       "      <td>7.0</td>\n",
       "      <td>8934.868961</td>\n",
       "      <td>0.018248</td>\n",
       "    </tr>\n",
       "    <tr>\n",
       "      <th>2018-07-02</th>\n",
       "      <td>12.5</td>\n",
       "      <td>10.629167</td>\n",
       "      <td>8910.791667</td>\n",
       "      <td>0.0</td>\n",
       "      <td>7.0</td>\n",
       "      <td>9198.754791</td>\n",
       "      <td>0.032316</td>\n",
       "    </tr>\n",
       "    <tr>\n",
       "      <th>2018-07-03</th>\n",
       "      <td>12.5</td>\n",
       "      <td>11.025000</td>\n",
       "      <td>9268.708333</td>\n",
       "      <td>0.0</td>\n",
       "      <td>7.0</td>\n",
       "      <td>9204.389544</td>\n",
       "      <td>-0.006939</td>\n",
       "    </tr>\n",
       "    <tr>\n",
       "      <th>2018-07-04</th>\n",
       "      <td>12.5</td>\n",
       "      <td>13.841667</td>\n",
       "      <td>9203.500000</td>\n",
       "      <td>0.0</td>\n",
       "      <td>7.0</td>\n",
       "      <td>9246.735200</td>\n",
       "      <td>0.004698</td>\n",
       "    </tr>\n",
       "    <tr>\n",
       "      <th>2018-07-05</th>\n",
       "      <td>12.5</td>\n",
       "      <td>18.333333</td>\n",
       "      <td>9496.875000</td>\n",
       "      <td>0.0</td>\n",
       "      <td>7.0</td>\n",
       "      <td>9551.659313</td>\n",
       "      <td>0.005769</td>\n",
       "    </tr>\n",
       "  </tbody>\n",
       "</table>\n",
       "</div>"
      ],
      "text/plain": [
       "            OPR_HOUR        TMP  ACTUAL_DEMAND  WEEKDAY  month   prediction  \\\n",
       "OPR_DATE                                                                      \n",
       "2018-07-01      12.5  14.354167    8774.750000      1.0    7.0  8934.868961   \n",
       "2018-07-02      12.5  10.629167    8910.791667      0.0    7.0  9198.754791   \n",
       "2018-07-03      12.5  11.025000    9268.708333      0.0    7.0  9204.389544   \n",
       "2018-07-04      12.5  13.841667    9203.500000      0.0    7.0  9246.735200   \n",
       "2018-07-05      12.5  18.333333    9496.875000      0.0    7.0  9551.659313   \n",
       "\n",
       "               error  \n",
       "OPR_DATE              \n",
       "2018-07-01  0.018248  \n",
       "2018-07-02  0.032316  \n",
       "2018-07-03 -0.006939  \n",
       "2018-07-04  0.004698  \n",
       "2018-07-05  0.005769  "
      ]
     },
     "execution_count": 83,
     "metadata": {},
     "output_type": "execute_result"
    }
   ],
   "source": [
    "submission_final = submission1.append(submission2 )\n",
    "#submission_final.head(31)\n",
    "submission_final=submission_final.sort_values(by=['OPR_DATE'])\n",
    "submission_final.head(5)"
   ]
  },
  {
   "cell_type": "code",
   "execution_count": 84,
   "metadata": {},
   "outputs": [
    {
     "data": {
      "image/png": "[encoded data removed]",
      "text/plain": [
       "<Figure size 432x288 with 1 Axes>"
      ]
     },
     "metadata": {
      "needs_background": "light"
     },
     "output_type": "display_data"
    }
   ],
   "source": [
    "submission_final['error'].plot()\n",
    "plt.title('Prediction Error')\n",
    "ax = plt.gca()\n",
    "ax.set_facecolor((0.898, 0.898, 0.898))\n",
    "fig = plt.gcf()\n",
    "plt.xlabel('DATE')\n",
    "plt.ylabel(' Error')\n",
    "plt.legend()\n",
    "\n",
    "plt.show()\n",
    "plt.close()"
   ]
  },
  {
   "cell_type": "code",
   "execution_count": 85,
   "metadata": {},
   "outputs": [
    {
     "data": {
      "image/png": "[encoded data removed]",
      "text/plain": [
       "<Figure size 432x288 with 1 Axes>"
      ]
     },
     "metadata": {
      "needs_background": "light"
     },
     "output_type": "display_data"
    }
   ],
   "source": [
    "y1=submission_final['ACTUAL_DEMAND']\n",
    "y2=submission_final['prediction']\n",
    "plt.plot(  y1, '-b',  label='Actual' )\n",
    "plt.plot(  y2, '-r',  label='Prediction')\n",
    "plt.title('Actual & Prediction demand')\n",
    "ax = plt.gca()\n",
    "ax.set_facecolor((0.898, 0.898, 0.898))\n",
    "plt.legend( )\n",
    "\n",
    "fig = plt.gcf()\n",
    "plt.xlabel('DATE')\n",
    "plt.ylabel(' DEMAND')\n",
    "plt.ylim(5000, 12000)\n",
    "fig.autofmt_xdate()\n",
    "plt.show()\n",
    "plt.close()"
   ]
  },
  {
   "cell_type": "code",
   "execution_count": 86,
   "metadata": {},
   "outputs": [],
   "source": [
    "submission_final.to_csv(r'C:\\Users\\15878\\Documents\\prediction_seperated_final.csv')"
   ]
  },
  {
   "cell_type": "code",
   "execution_count": null,
   "metadata": {},
   "outputs": [],
   "source": []
  }
 ],
 "metadata": {
  "kernelspec": {
   "display_name": "Python 3",
   "language": "python",
   "name": "python3"
  },
  "language_info": {
   "codemirror_mode": {
    "name": "ipython",
    "version": 3
   },
   "file_extension": ".py",
   "mimetype": "text/x-python",
   "name": "python",
   "nbconvert_exporter": "python",
   "pygments_lexer": "ipython3",
   "version": "3.7.3"
  }
 },
 "nbformat": 4,
 "nbformat_minor": 2
}
